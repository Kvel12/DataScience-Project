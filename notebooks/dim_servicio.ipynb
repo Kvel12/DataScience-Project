{
 "cells": [
  {
   "cell_type": "code",
   "execution_count": 31,
   "id": "initial_id",
   "metadata": {
    "ExecuteTime": {
     "end_time": "2024-09-17T12:50:37.059893Z",
     "start_time": "2024-09-17T12:50:36.616766Z"
    },
    "collapsed": true
   },
   "outputs": [],
   "source": [
    "import numpy as np\n",
    "import pandas as pd\n",
    "import yaml\n",
    "from sqlalchemy import create_engine\n",
    "from sqlalchemy.exc import OperationalError\n"
   ]
  },
  {
   "cell_type": "markdown",
   "id": "db03f95a7df1a4b6",
   "metadata": {},
   "source": [
    "# Database Connections "
   ]
  },
  {
   "cell_type": "code",
   "execution_count": 32,
   "id": "144a0300670ffeb2",
   "metadata": {
    "ExecuteTime": {
     "end_time": "2024-09-17T12:50:37.127125Z",
     "start_time": "2024-09-17T12:50:37.061550Z"
    }
   },
   "outputs": [],
   "source": [
    "with open('../config.yml', 'r') as f:\n",
    "    config = yaml.safe_load(f)\n",
    "    config_co = config['fuente']\n",
    "    config_etl = config['bodega']\n",
    "# Construct the database URL\n",
    "url_co = (f\"{config_co['drivername']}://{config_co['user']}:{config_co['password']}@{config_co['host']}:\"\n",
    "          f\"{config_co['port']}/{config_co['dbname']}\")\n",
    "url_etl = (f\"{config_etl['drivername']}://{config_etl['user']}:{config_etl['password']}@{config_etl['host']}:\"\n",
    "           f\"{config_etl['port']}/{config_etl['dbname']}\")\n",
    "# Create the SQLAlchemy Engine\n",
    "ra_fu = create_engine(url_co)\n",
    "etl_conn = create_engine(url_etl)"
   ]
  },
  {
   "cell_type": "code",
   "execution_count": 33,
   "id": "d082d6d2",
   "metadata": {},
   "outputs": [
    {
     "name": "stdout",
     "output_type": "stream",
     "text": [
      "Conexión a la base de datos de origen exitosa.\n",
      "Conexión a la base de datos de destino exitosa.\n"
     ]
    }
   ],
   "source": [
    "\n",
    "try:\n",
    "    # Probar la conexión a la base de datos de origen\n",
    "    with ra_fu.connect() as connection:\n",
    "        print(\"Conexión a la base de datos de origen exitosa.\")\n",
    "        \n",
    "    # Probar la conexión a la base de datos de destino\n",
    "    with etl_conn.connect() as connection:\n",
    "        print(\"Conexión a la base de datos de destino exitosa.\")\n",
    "\n",
    "except OperationalError as e:\n",
    "    print(\"Error al conectarse a la base de datos:\", e)\n"
   ]
  },
  {
   "cell_type": "markdown",
   "id": "81c0463f41c69b6e",
   "metadata": {},
   "source": [
    "# Extract"
   ]
  },
  {
   "cell_type": "code",
   "execution_count": 34,
   "id": "f0270b50",
   "metadata": {},
   "outputs": [
    {
     "name": "stderr",
     "output_type": "stream",
     "text": [
      "C:\\Users\\Usuario\\AppData\\Local\\Temp\\ipykernel_20364\\3220893687.py:2: SADeprecationWarning: The Engine.table_names() method is deprecated and will be removed in a future release.  Please refer to Inspector.get_table_names(). (deprecated since: 1.4)\n",
      "  ra_fu.table_names()\n"
     ]
    },
    {
     "data": {
      "text/plain": [
       "['admin_interface_theme',\n",
       " 'areas_cliente',\n",
       " 'auth_user_user_permissions',\n",
       " 'clientes_coordinador',\n",
       " 'clientes_datosmensajero',\n",
       " 'clientes_mensajeroaquitoy_clientes',\n",
       " 'auth_permission',\n",
       " 'auth_group',\n",
       " 'auth_user_groups',\n",
       " 'auth_user',\n",
       " 'authtoken_token',\n",
       " 'ciudad',\n",
       " 'cliente',\n",
       " 'clientes_mensajeroaquitoy',\n",
       " 'area',\n",
       " 'django_migrations',\n",
       " 'departamento',\n",
       " 'clientes_usuarioaquitoy',\n",
       " 'django_admin_log',\n",
       " 'django_session',\n",
       " 'mensajeria_novedadesservicio',\n",
       " 'mensajeria_tiponovedad',\n",
       " 'mensajeria_origenservicio',\n",
       " 'mensajeria_tipopago',\n",
       " 'mensajeria_estado',\n",
       " 'mensajeria_tiposervicio',\n",
       " 'mensajeria_servicio',\n",
       " 'mensajeria_estadosservicio',\n",
       " 'mensajeria_tipovehiculo',\n",
       " 'sede',\n",
       " 'auth_group_permissions',\n",
       " 'django_content_type',\n",
       " 'tipo_cliente',\n",
       " 'mensajeria_destinoservicio',\n",
       " 'mensajeria_documentoasociado']"
      ]
     },
     "execution_count": 34,
     "metadata": {},
     "output_type": "execute_result"
    }
   ],
   "source": [
    "# Muestra las tablas en la base de datos de origen\n",
    "ra_fu.table_names()\n"
   ]
  },
  {
   "cell_type": "code",
   "execution_count": 35,
   "id": "927909da",
   "metadata": {},
   "outputs": [
    {
     "name": "stdout",
     "output_type": "stream",
     "text": [
      "Error al cargar los datos de la tabla: 'Connection' object has no attribute 'cursor'\n"
     ]
    },
    {
     "name": "stderr",
     "output_type": "stream",
     "text": [
      "C:\\Users\\Usuario\\AppData\\Local\\Temp\\ipykernel_20364\\2232479241.py:5: UserWarning: pandas only supports SQLAlchemy connectable (engine/connection) or database string URI or sqlite3 DBAPI2 connection. Other DBAPI2 objects are not tested. Please consider using SQLAlchemy.\n",
      "  dim_cliente = pd.read_sql(query, conn)  # Ejecutar la consulta en la conexión activa\n"
     ]
    }
   ],
   "source": [
    "try:\n",
    "    # Crear una conexión activa\n",
    "    with ra_fu.connect() as conn:\n",
    "        query = \"SELECT * FROM cliente\"  # Cambia 'cliente' por el nombre de tu tabla de origen\n",
    "        dim_cliente = pd.read_sql(query, conn)  # Ejecutar la consulta en la conexión activa\n",
    "        print(dim_cliente.head())  # Mostrar los primeros registros de la tabla cargada\n",
    "except Exception as e:\n",
    "    print(\"Error al cargar los datos de la tabla:\", e)\n"
   ]
  },
  {
   "cell_type": "code",
   "execution_count": 29,
   "id": "7e8cd7a7",
   "metadata": {},
   "outputs": [
    {
     "name": "stdout",
     "output_type": "stream",
     "text": [
      "Pandas version: 2.2.3\n",
      "SQLAlchemy version: 1.4.54\n"
     ]
    }
   ],
   "source": [
    "import pandas as pd\n",
    "import sqlalchemy\n",
    "print(\"Pandas version:\", pd.__version__)\n",
    "print(\"SQLAlchemy version:\", sqlalchemy.__version__)"
   ]
  },
  {
   "cell_type": "markdown",
   "id": "bcbf3f52656f1933",
   "metadata": {},
   "source": [
    "# Transformations"
   ]
  },
  {
   "cell_type": "code",
   "execution_count": null,
   "id": "d7b1fb301e19108b",
   "metadata": {
    "ExecuteTime": {
     "end_time": "2024-09-17T12:50:37.131943Z",
     "start_time": "2024-09-17T12:50:37.128127Z"
    }
   },
   "outputs": [],
   "source": [
    "dim_cliente = pd.DataFrame({\n",
    "    'descripcion' : ['descripcion'],\n",
    "    'fecha' : ['fecha_solicitud']\n",
    "})"
   ]
  },
  {
   "cell_type": "code",
   "execution_count": null,
   "id": "9e9e939d",
   "metadata": {},
   "outputs": [
    {
     "data": {
      "text/html": [
       "<div>\n",
       "<style scoped>\n",
       "    .dataframe tbody tr th:only-of-type {\n",
       "        vertical-align: middle;\n",
       "    }\n",
       "\n",
       "    .dataframe tbody tr th {\n",
       "        vertical-align: top;\n",
       "    }\n",
       "\n",
       "    .dataframe thead th {\n",
       "        text-align: right;\n",
       "    }\n",
       "</style>\n",
       "<table border=\"1\" class=\"dataframe\">\n",
       "  <thead>\n",
       "    <tr style=\"text-align: right;\">\n",
       "      <th></th>\n",
       "      <th>descripcion</th>\n",
       "      <th>fecha</th>\n",
       "    </tr>\n",
       "  </thead>\n",
       "  <tbody>\n",
       "    <tr>\n",
       "      <th>0</th>\n",
       "      <td>descripcion</td>\n",
       "      <td>fecha_solicitud</td>\n",
       "    </tr>\n",
       "  </tbody>\n",
       "</table>\n",
       "</div>"
      ],
      "text/plain": [
       "   descripcion            fecha\n",
       "0  descripcion  fecha_solicitud"
      ]
     },
     "execution_count": 8,
     "metadata": {},
     "output_type": "execute_result"
    }
   ],
   "source": [
    "dim_cliente"
   ]
  },
  {
   "cell_type": "code",
   "execution_count": 4,
   "id": "86c882e7795705fe",
   "metadata": {
    "ExecuteTime": {
     "end_time": "2024-09-17T12:50:37.138817Z",
     "start_time": "2024-09-17T12:50:37.133561Z"
    }
   },
   "outputs": [],
   "source": [
    "from datetime import date\n",
    "\n",
    "dim_servicio['saved'] = date.today()"
   ]
  },
  {
   "cell_type": "markdown",
   "id": "a8fea8d82baea651",
   "metadata": {},
   "source": [
    "# load"
   ]
  },
  {
   "cell_type": "code",
   "execution_count": 5,
   "id": "f610d5a71a15d10",
   "metadata": {
    "ExecuteTime": {
     "end_time": "2024-09-17T12:50:37.158303Z",
     "start_time": "2024-09-17T12:50:37.141015Z"
    }
   },
   "outputs": [
    {
     "data": {
      "text/html": [
       "<div>\n",
       "<style scoped>\n",
       "    .dataframe tbody tr th:only-of-type {\n",
       "        vertical-align: middle;\n",
       "    }\n",
       "\n",
       "    .dataframe tbody tr th {\n",
       "        vertical-align: top;\n",
       "    }\n",
       "\n",
       "    .dataframe thead th {\n",
       "        text-align: right;\n",
       "    }\n",
       "</style>\n",
       "<table border=\"1\" class=\"dataframe\">\n",
       "  <thead>\n",
       "    <tr style=\"text-align: right;\">\n",
       "      <th></th>\n",
       "      <th>name</th>\n",
       "      <th>descripcion</th>\n",
       "      <th>saved</th>\n",
       "    </tr>\n",
       "  </thead>\n",
       "  <tbody>\n",
       "    <tr>\n",
       "      <th>0</th>\n",
       "      <td>citas</td>\n",
       "      <td>servicio de citas medicas</td>\n",
       "      <td>2024-09-17</td>\n",
       "    </tr>\n",
       "    <tr>\n",
       "      <th>1</th>\n",
       "      <td>hospitalizacion</td>\n",
       "      <td>servicio de hospitalizacion</td>\n",
       "      <td>2024-09-17</td>\n",
       "    </tr>\n",
       "    <tr>\n",
       "      <th>2</th>\n",
       "      <td>urgencias</td>\n",
       "      <td>servicio de urgencias</td>\n",
       "      <td>2024-09-17</td>\n",
       "    </tr>\n",
       "  </tbody>\n",
       "</table>\n",
       "</div>"
      ],
      "text/plain": [
       "              name                  descripcion       saved\n",
       "0            citas    servicio de citas medicas  2024-09-17\n",
       "1  hospitalizacion  servicio de hospitalizacion  2024-09-17\n",
       "2        urgencias        servicio de urgencias  2024-09-17"
      ]
     },
     "execution_count": 5,
     "metadata": {},
     "output_type": "execute_result"
    }
   ],
   "source": [
    "dim_servicio.head()"
   ]
  },
  {
   "cell_type": "code",
   "execution_count": 6,
   "id": "e0fed4f656eaae09",
   "metadata": {
    "ExecuteTime": {
     "end_time": "2024-09-17T12:50:37.205446Z",
     "start_time": "2024-09-17T12:50:37.161462Z"
    }
   },
   "outputs": [
    {
     "data": {
      "text/plain": [
       "3"
      ]
     },
     "execution_count": 6,
     "metadata": {},
     "output_type": "execute_result"
    }
   ],
   "source": [
    "dim_servicio.to_sql('dim_servicio', etl_conn, if_exists='replace',index_label='key_dim_servicio')"
   ]
  }
 ],
 "metadata": {
  "kernelspec": {
   "display_name": "my_env",
   "language": "python",
   "name": "python3"
  },
  "language_info": {
   "codemirror_mode": {
    "name": "ipython",
    "version": 3
   },
   "file_extension": ".py",
   "mimetype": "text/x-python",
   "name": "python",
   "nbconvert_exporter": "python",
   "pygments_lexer": "ipython3",
   "version": "3.10.0"
  }
 },
 "nbformat": 4,
 "nbformat_minor": 5
}
