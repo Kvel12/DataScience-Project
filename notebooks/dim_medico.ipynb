{
 "cells": [
  {
   "cell_type": "code",
   "execution_count": 1,
   "id": "initial_id",
   "metadata": {
    "ExecuteTime": {
     "end_time": "2024-09-17T12:50:24.835180Z",
     "start_time": "2024-09-17T12:50:24.368870Z"
    },
    "collapsed": true
   },
   "outputs": [],
   "source": [
    "from datetime import date\n",
    "\n",
    "import numpy as np\n",
    "import pandas as pd\n",
    "import yaml\n",
    "from sqlalchemy import create_engine\n"
   ]
  },
  {
   "cell_type": "markdown",
   "id": "db03f95a7df1a4b6",
   "metadata": {},
   "source": [
    "# database connections "
   ]
  },
  {
   "cell_type": "code",
   "execution_count": 2,
   "id": "144a0300670ffeb2",
   "metadata": {
    "ExecuteTime": {
     "end_time": "2024-09-17T12:50:24.904224Z",
     "start_time": "2024-09-17T12:50:24.836715Z"
    }
   },
   "outputs": [],
   "source": [
    "with open('../config.yml', 'r') as f:\n",
    "    config = yaml.safe_load(f)\n",
    "    config_co = config['CO_SA']\n",
    "    config_etl = config['ETL_PRO']\n",
    "\n",
    "# Construct the database URL\n",
    "url_co = (f\"{config_co['drivername']}://{config_co['user']}:{config_co['password']}@{config_co['host']}:\"\n",
    "          f\"{config_co['port']}/{config_co['dbname']}\")\n",
    "url_etl = (f\"{config_etl['drivername']}://{config_etl['user']}:{config_etl['password']}@{config_etl['host']}:\"\n",
    "           f\"{config_etl['port']}/{config_etl['dbname']}\")\n",
    "# Create the SQLAlchemy Engine\n",
    "co_sa = create_engine(url_co)\n",
    "etl_conn = create_engine(url_etl)"
   ]
  },
  {
   "cell_type": "markdown",
   "id": "81c0463f41c69b6e",
   "metadata": {},
   "source": [
    "# Extract"
   ]
  },
  {
   "cell_type": "code",
   "execution_count": 3,
   "id": "b6ef98438750beb7",
   "metadata": {
    "ExecuteTime": {
     "end_time": "2024-09-17T12:50:25.008163Z",
     "start_time": "2024-09-17T12:50:24.905186Z"
    }
   },
   "outputs": [],
   "source": [
    "dim_medico = pd.read_sql_table('medico', co_sa)\n"
   ]
  },
  {
   "cell_type": "markdown",
   "id": "bcbf3f52656f1933",
   "metadata": {},
   "source": [
    "# Transformations"
   ]
  },
  {
   "cell_type": "code",
   "execution_count": 4,
   "id": "d7b1fb301e19108b",
   "metadata": {
    "ExecuteTime": {
     "end_time": "2024-09-17T12:50:25.019585Z",
     "start_time": "2024-09-17T12:50:25.009173Z"
    }
   },
   "outputs": [
    {
     "name": "stdout",
     "output_type": "stream",
     "text": [
      "<class 'pandas.core.frame.DataFrame'>\n",
      "RangeIndex: 720 entries, 0 to 719\n",
      "Data columns (total 7 columns):\n",
      " #   Column                 Non-Null Count  Dtype \n",
      "---  ------                 --------------  ----- \n",
      " 0   cedula                 720 non-null    object\n",
      " 1   nombre                 720 non-null    object\n",
      " 2   especialidad           720 non-null    object\n",
      " 3   subespecialidad        720 non-null    object\n",
      " 4   licencia               720 non-null    object\n",
      " 5   direccion_consultorio  720 non-null    object\n",
      " 6   id_ips                 720 non-null    object\n",
      "dtypes: object(7)\n",
      "memory usage: 39.5+ KB\n"
     ]
    }
   ],
   "source": [
    "dim_medico.info()"
   ]
  },
  {
   "cell_type": "code",
   "execution_count": 5,
   "id": "ddc5975789c71bc7",
   "metadata": {
    "ExecuteTime": {
     "end_time": "2024-09-17T12:50:25.054070Z",
     "start_time": "2024-09-17T12:50:25.022238Z"
    }
   },
   "outputs": [
    {
     "data": {
      "text/html": [
       "<div>\n",
       "<style scoped>\n",
       "    .dataframe tbody tr th:only-of-type {\n",
       "        vertical-align: middle;\n",
       "    }\n",
       "\n",
       "    .dataframe tbody tr th {\n",
       "        vertical-align: top;\n",
       "    }\n",
       "\n",
       "    .dataframe thead th {\n",
       "        text-align: right;\n",
       "    }\n",
       "</style>\n",
       "<table border=\"1\" class=\"dataframe\">\n",
       "  <thead>\n",
       "    <tr style=\"text-align: right;\">\n",
       "      <th></th>\n",
       "      <th>cedula</th>\n",
       "      <th>nombre</th>\n",
       "      <th>especialidad</th>\n",
       "      <th>subespecialidad</th>\n",
       "      <th>licencia</th>\n",
       "      <th>direccion_consultorio</th>\n",
       "      <th>id_ips</th>\n",
       "    </tr>\n",
       "  </thead>\n",
       "  <tbody>\n",
       "    <tr>\n",
       "      <th>count</th>\n",
       "      <td>720</td>\n",
       "      <td>720</td>\n",
       "      <td>720</td>\n",
       "      <td>720</td>\n",
       "      <td>720</td>\n",
       "      <td>720</td>\n",
       "      <td>720</td>\n",
       "    </tr>\n",
       "    <tr>\n",
       "      <th>unique</th>\n",
       "      <td>720</td>\n",
       "      <td>720</td>\n",
       "      <td>27</td>\n",
       "      <td>12</td>\n",
       "      <td>720</td>\n",
       "      <td>26</td>\n",
       "      <td>60</td>\n",
       "    </tr>\n",
       "    <tr>\n",
       "      <th>top</th>\n",
       "      <td>1113543</td>\n",
       "      <td>Félix Murillo Hurtado</td>\n",
       "      <td>Medicina General</td>\n",
       "      <td></td>\n",
       "      <td>1507802346</td>\n",
       "      <td></td>\n",
       "      <td>IPS_14</td>\n",
       "    </tr>\n",
       "    <tr>\n",
       "      <th>freq</th>\n",
       "      <td>1</td>\n",
       "      <td>1</td>\n",
       "      <td>91</td>\n",
       "      <td>627</td>\n",
       "      <td>1</td>\n",
       "      <td>693</td>\n",
       "      <td>20</td>\n",
       "    </tr>\n",
       "  </tbody>\n",
       "</table>\n",
       "</div>"
      ],
      "text/plain": [
       "         cedula                 nombre      especialidad subespecialidad  \\\n",
       "count       720                    720               720             720   \n",
       "unique      720                    720                27              12   \n",
       "top     1113543  Félix Murillo Hurtado  Medicina General                   \n",
       "freq          1                      1                91             627   \n",
       "\n",
       "          licencia direccion_consultorio  id_ips  \n",
       "count          720                   720     720  \n",
       "unique         720                    26      60  \n",
       "top     1507802346                        IPS_14  \n",
       "freq             1                   693      20  "
      ]
     },
     "execution_count": 5,
     "metadata": {},
     "output_type": "execute_result"
    }
   ],
   "source": [
    "dim_medico.describe(include='all')"
   ]
  },
  {
   "cell_type": "code",
   "execution_count": null,
   "id": "af5f63e584e7908",
   "metadata": {
    "ExecuteTime": {
     "end_time": "2024-09-17T12:50:25.065475Z",
     "start_time": "2024-09-17T12:50:25.056357Z"
    }
   },
   "outputs": [],
   "source": [
    "dim_medico.replace({np.nan: 'no aplica', ' ': 'no aplica','':'no_aplica'}, inplace=True)\n",
    "dim_medico[\"saved\"] = date.today()"
   ]
  },
  {
   "cell_type": "markdown",
   "id": "a8fea8d82baea651",
   "metadata": {},
   "source": [
    "# load"
   ]
  },
  {
   "cell_type": "code",
   "execution_count": 7,
   "id": "f610d5a71a15d10",
   "metadata": {
    "ExecuteTime": {
     "end_time": "2024-09-17T12:50:25.081105Z",
     "start_time": "2024-09-17T12:50:25.067639Z"
    }
   },
   "outputs": [
    {
     "data": {
      "text/html": [
       "<div>\n",
       "<style scoped>\n",
       "    .dataframe tbody tr th:only-of-type {\n",
       "        vertical-align: middle;\n",
       "    }\n",
       "\n",
       "    .dataframe tbody tr th {\n",
       "        vertical-align: top;\n",
       "    }\n",
       "\n",
       "    .dataframe thead th {\n",
       "        text-align: right;\n",
       "    }\n",
       "</style>\n",
       "<table border=\"1\" class=\"dataframe\">\n",
       "  <thead>\n",
       "    <tr style=\"text-align: right;\">\n",
       "      <th></th>\n",
       "      <th>cedula</th>\n",
       "      <th>nombre</th>\n",
       "      <th>especialidad</th>\n",
       "      <th>subespecialidad</th>\n",
       "      <th>licencia</th>\n",
       "      <th>direccion_consultorio</th>\n",
       "      <th>id_ips</th>\n",
       "      <th>saved</th>\n",
       "    </tr>\n",
       "  </thead>\n",
       "  <tbody>\n",
       "    <tr>\n",
       "      <th>0</th>\n",
       "      <td>1113543</td>\n",
       "      <td>Félix Murillo Hurtado</td>\n",
       "      <td>Neurología</td>\n",
       "      <td>no_aplica</td>\n",
       "      <td>1507802346</td>\n",
       "      <td>no aplica</td>\n",
       "      <td>IPS_1</td>\n",
       "      <td>2024-09-17</td>\n",
       "    </tr>\n",
       "    <tr>\n",
       "      <th>1</th>\n",
       "      <td>2113543</td>\n",
       "      <td>Cecilia Salas Quiñones</td>\n",
       "      <td>Medicina de emergencia</td>\n",
       "      <td>no_aplica</td>\n",
       "      <td>1507802354</td>\n",
       "      <td>no aplica</td>\n",
       "      <td>IPS_1</td>\n",
       "      <td>2024-09-17</td>\n",
       "    </tr>\n",
       "    <tr>\n",
       "      <th>2</th>\n",
       "      <td>3113543</td>\n",
       "      <td>Elcira Espinosa Abad</td>\n",
       "      <td>Anestesiología</td>\n",
       "      <td>no_aplica</td>\n",
       "      <td>1507802375</td>\n",
       "      <td>no aplica</td>\n",
       "      <td>IPS_1</td>\n",
       "      <td>2024-09-17</td>\n",
       "    </tr>\n",
       "    <tr>\n",
       "      <th>3</th>\n",
       "      <td>4113543</td>\n",
       "      <td>Gabino Niño Castillo</td>\n",
       "      <td>Radiología</td>\n",
       "      <td>no_aplica</td>\n",
       "      <td>1507802392</td>\n",
       "      <td>no aplica</td>\n",
       "      <td>IPS_1</td>\n",
       "      <td>2024-09-17</td>\n",
       "    </tr>\n",
       "    <tr>\n",
       "      <th>4</th>\n",
       "      <td>5113543</td>\n",
       "      <td>Alberto Benavides Hurtado</td>\n",
       "      <td>Dermatología</td>\n",
       "      <td>no_aplica</td>\n",
       "      <td>1507802419</td>\n",
       "      <td>Transversal 10 # 69-65</td>\n",
       "      <td>IPS_1</td>\n",
       "      <td>2024-09-17</td>\n",
       "    </tr>\n",
       "  </tbody>\n",
       "</table>\n",
       "</div>"
      ],
      "text/plain": [
       "    cedula                     nombre            especialidad subespecialidad  \\\n",
       "0  1113543      Félix Murillo Hurtado              Neurología       no_aplica   \n",
       "1  2113543     Cecilia Salas Quiñones  Medicina de emergencia       no_aplica   \n",
       "2  3113543       Elcira Espinosa Abad          Anestesiología       no_aplica   \n",
       "3  4113543       Gabino Niño Castillo              Radiología       no_aplica   \n",
       "4  5113543  Alberto Benavides Hurtado            Dermatología       no_aplica   \n",
       "\n",
       "     licencia   direccion_consultorio id_ips       saved  \n",
       "0  1507802346               no aplica  IPS_1  2024-09-17  \n",
       "1  1507802354               no aplica  IPS_1  2024-09-17  \n",
       "2  1507802375               no aplica  IPS_1  2024-09-17  \n",
       "3  1507802392               no aplica  IPS_1  2024-09-17  \n",
       "4  1507802419  Transversal 10 # 69-65  IPS_1  2024-09-17  "
      ]
     },
     "execution_count": 7,
     "metadata": {},
     "output_type": "execute_result"
    }
   ],
   "source": [
    "dim_medico.head()"
   ]
  },
  {
   "cell_type": "code",
   "execution_count": 8,
   "id": "e0fed4f656eaae09",
   "metadata": {
    "ExecuteTime": {
     "end_time": "2024-09-17T12:50:25.167355Z",
     "start_time": "2024-09-17T12:50:25.082373Z"
    }
   },
   "outputs": [
    {
     "data": {
      "text/plain": [
       "720"
      ]
     },
     "execution_count": 8,
     "metadata": {},
     "output_type": "execute_result"
    }
   ],
   "source": [
    "dim_medico.to_sql('dim_medico', etl_conn, if_exists='replace',index_label='key_dim_medico')"
   ]
  },
  {
   "cell_type": "code",
   "execution_count": 8,
   "id": "8a27d266e0d4393",
   "metadata": {
    "ExecuteTime": {
     "end_time": "2024-09-17T12:50:25.171671Z",
     "start_time": "2024-09-17T12:50:25.169128Z"
    }
   },
   "outputs": [],
   "source": []
  }
 ],
 "metadata": {
  "kernelspec": {
   "display_name": "my_env",
   "language": "python",
   "name": "python3"
  },
  "language_info": {
   "codemirror_mode": {
    "name": "ipython",
    "version": 3
   },
   "file_extension": ".py",
   "mimetype": "text/x-python",
   "name": "python",
   "nbconvert_exporter": "python",
   "pygments_lexer": "ipython3",
   "version": "3.10.0"
  }
 },
 "nbformat": 4,
 "nbformat_minor": 5
}
