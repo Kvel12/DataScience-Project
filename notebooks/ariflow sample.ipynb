{
 "cells": [
  {
   "cell_type": "code",
   "execution_count": 4,
   "id": "468ebfb04d224c30",
   "metadata": {},
   "outputs": [
    {
     "data": {
      "text/html": [
       "<pre style=\"white-space:pre;overflow-x:auto;line-height:normal;font-family:Menlo,'DejaVu Sans Mono',consolas,'Courier New',monospace\"><span style=\"color: #808000; text-decoration-color: #808000; font-weight: bold\">C:\\Users\\Usuario\\AppData\\Local\\Temp\\ipykernel_17512\\</span><span style=\"color: #808000; text-decoration-color: #808000; font-weight: bold\">2494184263.</span><span style=\"color: #808000; text-decoration-color: #808000; font-weight: bold\">py:</span><span style=\"color: #808000; text-decoration-color: #808000; font-weight: bold\">3</span><span style=\"color: #808000; text-decoration-color: #808000; font-weight: bold\"> DeprecationWarning</span><span style=\"color: #808000; text-decoration-color: #808000\">: The `airflow.operators.python_operator.PythonOperator` class is deprecated. Please use `</span><span style=\"color: #808000; text-decoration-color: #808000\">'airflow.operators.python.PythonOperator'</span><span style=\"color: #808000; text-decoration-color: #808000\">`.</span>\n",
       "</pre>\n"
      ],
      "text/plain": [
       "\u001b[1;33mC:\\Users\\Usuario\\AppData\\Local\\Temp\\ipykernel_17512\\\u001b[0m\u001b[1;33m2494184263.\u001b[0m\u001b[1;33mpy:\u001b[0m\u001b[1;33m3\u001b[0m\u001b[1;33m DeprecationWarning\u001b[0m\u001b[33m: The `airflow.operators.python_operator.PythonOperator` class is deprecated. Please use `\u001b[0m\u001b[33m'airflow.operators.python.PythonOperator'\u001b[0m\u001b[33m`.\u001b[0m\n"
      ]
     },
     "metadata": {},
     "output_type": "display_data"
    },
    {
     "data": {
      "text/html": [
       "<pre style=\"white-space:pre;overflow-x:auto;line-height:normal;font-family:Menlo,'DejaVu Sans Mono',consolas,'Courier New',monospace\"><span style=\"color: #808000; text-decoration-color: #808000; font-weight: bold\">C:\\Users\\Usuario\\AppData\\Local\\Temp\\ipykernel_17512\\</span><span style=\"color: #808000; text-decoration-color: #808000; font-weight: bold\">2494184263.</span><span style=\"color: #808000; text-decoration-color: #808000; font-weight: bold\">py:</span><span style=\"color: #808000; text-decoration-color: #808000; font-weight: bold\">6</span><span style=\"color: #808000; text-decoration-color: #808000; font-weight: bold\"> RemovedInAirflow3Warning</span><span style=\"color: #808000; text-decoration-color: #808000\">: Param `schedule_interval` is deprecated and will be removed in a future release. Please use `schedule` instead.</span>\n",
       "</pre>\n"
      ],
      "text/plain": [
       "\u001b[1;33mC:\\Users\\Usuario\\AppData\\Local\\Temp\\ipykernel_17512\\\u001b[0m\u001b[1;33m2494184263.\u001b[0m\u001b[1;33mpy:\u001b[0m\u001b[1;33m6\u001b[0m\u001b[1;33m RemovedInAirflow3Warning\u001b[0m\u001b[33m: Param `schedule_interval` is deprecated and will be removed in a future release. Please use `schedule` instead.\u001b[0m\n"
      ]
     },
     "metadata": {},
     "output_type": "display_data"
    },
    {
     "data": {
      "text/html": [
       "<pre style=\"white-space:pre;overflow-x:auto;line-height:normal;font-family:Menlo,'DejaVu Sans Mono',consolas,'Courier New',monospace\"><span style=\"color: #808000; text-decoration-color: #808000; font-weight: bold\">C:\\Users\\Usuario\\AppData\\Local\\Temp\\ipykernel_17512\\</span><span style=\"color: #808000; text-decoration-color: #808000; font-weight: bold\">2494184263.</span><span style=\"color: #808000; text-decoration-color: #808000; font-weight: bold\">py:</span><span style=\"color: #808000; text-decoration-color: #808000; font-weight: bold\">24</span><span style=\"color: #808000; text-decoration-color: #808000; font-weight: bold\"> RemovedInAirflow3Warning</span><span style=\"color: #808000; text-decoration-color: #808000\">: provide_context is deprecated as of </span><span style=\"color: #808000; text-decoration-color: #808000; font-weight: bold\">2.0</span><span style=\"color: #808000; text-decoration-color: #808000\"> and is no longer required</span>\n",
       "</pre>\n"
      ],
      "text/plain": [
       "\u001b[1;33mC:\\Users\\Usuario\\AppData\\Local\\Temp\\ipykernel_17512\\\u001b[0m\u001b[1;33m2494184263.\u001b[0m\u001b[1;33mpy:\u001b[0m\u001b[1;33m24\u001b[0m\u001b[1;33m RemovedInAirflow3Warning\u001b[0m\u001b[33m: provide_context is deprecated as of \u001b[0m\u001b[1;33m2.0\u001b[0m\u001b[33m and is no longer required\u001b[0m\n"
      ]
     },
     "metadata": {},
     "output_type": "display_data"
    },
    {
     "data": {
      "text/html": [
       "<pre style=\"white-space:pre;overflow-x:auto;line-height:normal;font-family:Menlo,'DejaVu Sans Mono',consolas,'Courier New',monospace\"><span style=\"color: #808000; text-decoration-color: #808000; font-weight: bold\">C:\\Users\\Usuario\\AppData\\Local\\Temp\\ipykernel_17512\\</span><span style=\"color: #808000; text-decoration-color: #808000; font-weight: bold\">2494184263.</span><span style=\"color: #808000; text-decoration-color: #808000; font-weight: bold\">py:</span><span style=\"color: #808000; text-decoration-color: #808000; font-weight: bold\">41</span><span style=\"color: #808000; text-decoration-color: #808000; font-weight: bold\"> RemovedInAirflow3Warning</span><span style=\"color: #808000; text-decoration-color: #808000\">: provide_context is deprecated as of </span><span style=\"color: #808000; text-decoration-color: #808000; font-weight: bold\">2.0</span><span style=\"color: #808000; text-decoration-color: #808000\"> and is no longer required</span>\n",
       "</pre>\n"
      ],
      "text/plain": [
       "\u001b[1;33mC:\\Users\\Usuario\\AppData\\Local\\Temp\\ipykernel_17512\\\u001b[0m\u001b[1;33m2494184263.\u001b[0m\u001b[1;33mpy:\u001b[0m\u001b[1;33m41\u001b[0m\u001b[1;33m RemovedInAirflow3Warning\u001b[0m\u001b[33m: provide_context is deprecated as of \u001b[0m\u001b[1;33m2.0\u001b[0m\u001b[33m and is no longer required\u001b[0m\n"
      ]
     },
     "metadata": {},
     "output_type": "display_data"
    },
    {
     "data": {
      "text/plain": [
       "<Task(PythonOperator): use_parameter>"
      ]
     },
     "execution_count": 4,
     "metadata": {},
     "output_type": "execute_result"
    }
   ],
   "source": [
    "from datetime import datetime, timedelta\n",
    "from airflow import DAG\n",
    "from airflow.operators.python_operator import PythonOperator\n",
    "\n",
    "# Define the DAG\n",
    "dag = DAG(\n",
    "    'example_xcom_schedule',\n",
    "    default_args={\n",
    "        'owner': 'airflow',\n",
    "        'retries': 1,\n",
    "        'retry_delay': timedelta(minutes=5),\n",
    "    },\n",
    "    description='An example DAG demonstrating how to use XComs to pass data between tasks.',\n",
    "    schedule_interval=timedelta(days=1),\n",
    "    start_date=datetime(2024, 4, 22),\n",
    ")\n",
    "\n",
    "# Task 1: Generate a parameter\n",
    "def generate_parameter(**context):\n",
    "    parameter_value = 42  # Example parameter value\n",
    "    # Return the parameter value\n",
    "    return parameter_value\n",
    "\n",
    "generate_parameter_task = PythonOperator(\n",
    "    task_id='generate_parameter',\n",
    "    python_callable=generate_parameter,\n",
    "    provide_context=True,\n",
    "    dag=dag,\n",
    ")\n",
    "\n",
    "# Task 2: Use the parameter from Task 1\n",
    "def use_parameter(**context):\n",
    "    # Fetch the parameter from the previous task's XCom\n",
    "    ti = context['ti']\n",
    "    parameter_value = ti.xcom_pull(task_ids='generate_parameter')\n",
    "    \n",
    "    # Use the parameter in this task\n",
    "    print(f\"Parameter received from Task 1: {parameter_value}\")\n",
    "    # Perform the necessary task with the parameter\n",
    "    \n",
    "use_parameter_task = PythonOperator(\n",
    "    task_id='use_parameter',\n",
    "    python_callable=use_parameter,\n",
    "    provide_context=True,\n",
    "    dag=dag,\n",
    ")\n",
    "\n",
    "# Define the task dependencies\n",
    "generate_parameter_task >> use_parameter_task\n"
   ]
  }
 ],
 "metadata": {
  "kernelspec": {
   "display_name": "my_env",
   "language": "python",
   "name": "python3"
  },
  "language_info": {
   "codemirror_mode": {
    "name": "ipython",
    "version": 3
   },
   "file_extension": ".py",
   "mimetype": "text/x-python",
   "name": "python",
   "nbconvert_exporter": "python",
   "pygments_lexer": "ipython3",
   "version": "3.10.0"
  }
 },
 "nbformat": 4,
 "nbformat_minor": 5
}
