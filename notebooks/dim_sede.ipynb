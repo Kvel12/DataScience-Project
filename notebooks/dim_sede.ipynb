{
 "cells": [
  {
   "cell_type": "code",
   "execution_count": 17,
   "metadata": {},
   "outputs": [],
   "source": [
    "from datetime import date\n",
    "import pandas as pd\n",
    "import yaml\n",
    "from sqlalchemy import create_engine"
   ]
  },
  {
   "cell_type": "code",
   "execution_count": 18,
   "metadata": {},
   "outputs": [],
   "source": [
    "# Cargar configuración\n",
    "with open('../config.yml', 'r') as f:\n",
    "    config = yaml.safe_load(f)\n",
    "    config_fuente = config['fuente']\n",
    "    config_bodega = config['bodega']"
   ]
  },
  {
   "cell_type": "code",
   "execution_count": 19,
   "metadata": {},
   "outputs": [],
   "source": [
    "# Crear conexiones\n",
    "url_fuente = f\"postgresql://{config_fuente['user']}:{config_fuente['password']}@{config_fuente['host']}:{config_fuente['port']}/{config_fuente['dbname']}\"\n",
    "url_bodega = f\"postgresql://{config_bodega['user']}:{config_bodega['password']}@{config_bodega['host']}:{config_bodega['port']}/{config_bodega['dbname']}\"\n",
    "fuente_conn = create_engine(url_fuente)\n",
    "bodega_conn = create_engine(url_bodega)"
   ]
  },
  {
   "cell_type": "code",
   "execution_count": 20,
   "metadata": {},
   "outputs": [],
   "source": [
    "# Consulta SQL para obtener datos de la tabla de sedes\n",
    "query = \"\"\"\n",
    "SELECT \n",
    "    sede.sede_id,\n",
    "    sede.nombre AS nombre_sede,\n",
    "    sede.direccion AS direccion_sede,\n",
    "    ciudad.nombre AS ciudad_sede,\n",
    "    departamento.nombre AS departamento_sede\n",
    "FROM sede \n",
    "JOIN ciudad ON sede.ciudad_id = ciudad.ciudad_id\n",
    "JOIN departamento ON ciudad.departamento_id = departamento.departamento_id\n",
    "\"\"\""
   ]
  },
  {
   "cell_type": "code",
   "execution_count": 21,
   "metadata": {},
   "outputs": [],
   "source": [
    "# Leer datos de la fuente\n",
    "dim_sedes = pd.read_sql(query, fuente_conn)\n"
   ]
  },
  {
   "cell_type": "code",
   "execution_count": 22,
   "metadata": {},
   "outputs": [],
   "source": [
    "#Agregar fecha de carga\n",
    "dim_sedes['saved'] = date.today()"
   ]
  },
  {
   "cell_type": "code",
   "execution_count": 15,
   "metadata": {},
   "outputs": [
    {
     "data": {
      "text/plain": [
       "52"
      ]
     },
     "execution_count": 15,
     "metadata": {},
     "output_type": "execute_result"
    }
   ],
   "source": [
    "# Cargar en la bodega de datos\n",
    "dim_sedes.to_sql('dim_sede', bodega_conn, if_exists='replace', index_label='key_dim_sede')"
   ]
  },
  {
   "cell_type": "code",
   "execution_count": 23,
   "metadata": {},
   "outputs": [
    {
     "name": "stdout",
     "output_type": "stream",
     "text": [
      "Información del DataFrame:\n",
      "<class 'pandas.core.frame.DataFrame'>\n",
      "RangeIndex: 52 entries, 0 to 51\n",
      "Data columns (total 6 columns):\n",
      " #   Column             Non-Null Count  Dtype \n",
      "---  ------             --------------  ----- \n",
      " 0   sede_id            52 non-null     int64 \n",
      " 1   nombre_sede        52 non-null     object\n",
      " 2   direccion_sede     52 non-null     object\n",
      " 3   ciudad_sede        52 non-null     object\n",
      " 4   departamento_sede  52 non-null     object\n",
      " 5   saved              52 non-null     object\n",
      "dtypes: int64(1), object(5)\n",
      "memory usage: 2.6+ KB\n",
      "None\n"
     ]
    }
   ],
   "source": [
    "# Verificar datos antes de la carga\n",
    "print(\"Información del DataFrame:\")\n",
    "print(dim_sedes.info())"
   ]
  },
  {
   "cell_type": "code",
   "execution_count": 24,
   "metadata": {},
   "outputs": [
    {
     "name": "stdout",
     "output_type": "stream",
     "text": [
      "\n",
      "Número total de sedes: 52\n",
      "\n",
      "Muestra de los datos:\n",
      "   sede_id            nombre_sede               direccion_sede ciudad_sede  \\\n",
      "0       10        FARALLONES /123  Los angeles distrito Latino        CALI   \n",
      "1       11          REMEDIOZ/ 123  Los angeles distrito Latino        CALI   \n",
      "2       13       DIME / LOS ROJOS  Los angeles distrito Latino        CALI   \n",
      "3       14  DESPACHOS / LOS ROJOS  Los angeles distrito Latino        CALI   \n",
      "4       23  POPAYAN BODEGA 28 / A  Los angeles distrito Latino     POPAYAN   \n",
      "\n",
      "  departamento_sede       saved  \n",
      "0   VALLE DEL CAUCA  2024-11-10  \n",
      "1   VALLE DEL CAUCA  2024-11-10  \n",
      "2   VALLE DEL CAUCA  2024-11-10  \n",
      "3   VALLE DEL CAUCA  2024-11-10  \n",
      "4             CAUCA  2024-11-10  \n"
     ]
    }
   ],
   "source": [
    "# Verificaciones adicionales\n",
    "print(\"\\nNúmero total de sedes:\", len(dim_sedes))\n",
    "print(\"\\nMuestra de los datos:\")\n",
    "print(dim_sedes.head())"
   ]
  },
  {
   "cell_type": "code",
   "execution_count": 25,
   "metadata": {},
   "outputs": [
    {
     "data": {
      "text/plain": [
       "52"
      ]
     },
     "execution_count": 25,
     "metadata": {},
     "output_type": "execute_result"
    }
   ],
   "source": [
    "# Cargar en la bodega de datos \n",
    "dim_sedes.to_sql('dim_sede', bodega_conn, if_exists='replace', index_label='key_dim_sede')"
   ]
  }
 ],
 "metadata": {
  "kernelspec": {
   "display_name": "my_env",
   "language": "python",
   "name": "python3"
  },
  "language_info": {
   "codemirror_mode": {
    "name": "ipython",
    "version": 3
   },
   "file_extension": ".py",
   "mimetype": "text/x-python",
   "name": "python",
   "nbconvert_exporter": "python",
   "pygments_lexer": "ipython3",
   "version": "3.10.0"
  }
 },
 "nbformat": 4,
 "nbformat_minor": 2
}
