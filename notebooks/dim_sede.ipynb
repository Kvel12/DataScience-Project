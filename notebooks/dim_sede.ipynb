{
 "cells": [
  {
   "cell_type": "code",
   "execution_count": 9,
   "metadata": {},
   "outputs": [],
   "source": [
    "from datetime import date\n",
    "import pandas as pd\n",
    "import yaml\n",
    "from sqlalchemy import create_engine"
   ]
  },
  {
   "cell_type": "code",
   "execution_count": 10,
   "metadata": {},
   "outputs": [],
   "source": [
    "# Cargar configuración\n",
    "with open('../config.yml', 'r') as f:\n",
    "    config = yaml.safe_load(f)\n",
    "    config_fuente = config['fuente']\n",
    "    config_bodega = config['bodega']"
   ]
  },
  {
   "cell_type": "code",
   "execution_count": 11,
   "metadata": {},
   "outputs": [],
   "source": [
    "# Crear conexiones\n",
    "url_fuente = f\"postgresql://{config_fuente['user']}:{config_fuente['password']}@{config_fuente['host']}:{config_fuente['port']}/{config_fuente['dbname']}\"\n",
    "url_bodega = f\"postgresql://{config_bodega['user']}:{config_bodega['password']}@{config_bodega['host']}:{config_bodega['port']}/{config_bodega['dbname']}\"\n",
    "fuente_conn = create_engine(url_fuente)\n",
    "bodega_conn = create_engine(url_bodega)"
   ]
  },
  {
   "cell_type": "code",
   "execution_count": 12,
   "metadata": {},
   "outputs": [],
   "source": [
    "# Consulta SQL para obtener datos de la tabla de sedes\n",
    "query = \"\"\"\n",
    "SELECT \n",
    "    sede.sede_id AS id_sede,\n",
    "    sede.nombre AS nombre_sede,\n",
    "    sede.direccion AS Direccion_sede,\n",
    "    sede.nombre AS ciudad_sede,\n",
    "    departamento.nombre AS Departamento_sede\n",
    "FROM sede \n",
    "JOIN ciudad ON sede.ciudad_id = ciudad.ciudad_id\n",
    "JOIN departamento ON ciudad.departamento_id = departamento.departamento_id\n",
    "\n",
    "\"\"\""
   ]
  },
  {
   "cell_type": "code",
   "execution_count": 13,
   "metadata": {},
   "outputs": [],
   "source": [
    "# Leer datos de la fuente\n",
    "dim_sedes = pd.read_sql(query, fuente_conn)\n"
   ]
  },
  {
   "cell_type": "code",
   "execution_count": 14,
   "metadata": {},
   "outputs": [],
   "source": [
    "#Agregar fecha de carga\n",
    "dim_sedes['saved'] = date.today()"
   ]
  },
  {
   "cell_type": "code",
   "execution_count": 15,
   "metadata": {},
   "outputs": [
    {
     "data": {
      "text/plain": [
       "52"
      ]
     },
     "execution_count": 15,
     "metadata": {},
     "output_type": "execute_result"
    }
   ],
   "source": [
    "# Cargar en la bodega de datos\n",
    "dim_sedes.to_sql('dim_sede', bodega_conn, if_exists='replace', index=False)"
   ]
  },
  {
   "cell_type": "code",
   "execution_count": 16,
   "metadata": {},
   "outputs": [
    {
     "name": "stdout",
     "output_type": "stream",
     "text": [
      "\n",
      "Número total de sedes: 52\n",
      "\n",
      "Muestra de los datos:\n",
      "   id_sede            nombre_sede               direccion_sede  \\\n",
      "0       10        FARALLONES /123  Los angeles distrito Latino   \n",
      "1       11          REMEDIOZ/ 123  Los angeles distrito Latino   \n",
      "2       13       DIME / LOS ROJOS  Los angeles distrito Latino   \n",
      "3       14  DESPACHOS / LOS ROJOS  Los angeles distrito Latino   \n",
      "4       23  POPAYAN BODEGA 28 / A  Los angeles distrito Latino   \n",
      "\n",
      "             ciudad_sede departamento_sede       saved  \n",
      "0        FARALLONES /123   VALLE DEL CAUCA  2024-11-10  \n",
      "1          REMEDIOZ/ 123   VALLE DEL CAUCA  2024-11-10  \n",
      "2       DIME / LOS ROJOS   VALLE DEL CAUCA  2024-11-10  \n",
      "3  DESPACHOS / LOS ROJOS   VALLE DEL CAUCA  2024-11-10  \n",
      "4  POPAYAN BODEGA 28 / A             CAUCA  2024-11-10  \n"
     ]
    }
   ],
   "source": [
    "# Verificaciones adicionales\n",
    "print(\"\\nNúmero total de sedes:\", len(dim_sedes))\n",
    "print(\"\\nMuestra de los datos:\")\n",
    "print(dim_sedes.head())"
   ]
  }
 ],
 "metadata": {
  "kernelspec": {
   "display_name": "my_env",
   "language": "python",
   "name": "python3"
  },
  "language_info": {
   "codemirror_mode": {
    "name": "ipython",
    "version": 3
   },
   "file_extension": ".py",
   "mimetype": "text/x-python",
   "name": "python",
   "nbconvert_exporter": "python",
   "pygments_lexer": "ipython3",
   "version": "3.10.0"
  }
 },
 "nbformat": 4,
 "nbformat_minor": 2
}
