{
 "cells": [
  {
   "cell_type": "code",
   "execution_count": null,
   "metadata": {},
   "outputs": [],
   "source": [
    "import pandas as pd\n",
    "import yaml\n",
    "from sqlalchemy import create_engine"
   ]
  },
  {
   "cell_type": "code",
   "execution_count": null,
   "metadata": {},
   "outputs": [],
   "source": [
    "# Cargar configuración\n",
    "with open('../config.yml', 'r') as f:\n",
    "    config = yaml.safe_load(f)\n",
    "    config_fuente = config['fuente']\n",
    "    config_bodega = config['bodega']"
   ]
  },
  {
   "cell_type": "code",
   "execution_count": null,
   "metadata": {},
   "outputs": [],
   "source": [
    "# Crear conexiones\n",
    "url_fuente = f\"postgresql://{config_fuente['user']}:{config_fuente['password']}@{config_fuente['host']}:{config_fuente['port']}/{config_fuente['dbname']}\"\n",
    "url_bodega = f\"postgresql://{config_bodega['user']}:{config_bodega['password']}@{config_bodega['host']}:{config_bodega['port']}/{config_bodega['dbname']}\"\n",
    "fuente_conn = create_engine(url_fuente)\n",
    "bodega_conn = create_engine(url_bodega)"
   ]
  },
  {
   "cell_type": "code",
   "execution_count": null,
   "metadata": {},
   "outputs": [],
   "source": [
    "# Consulta SQL para obtener datos de la tabla de sedes\n",
    "query = \"\"\"\n",
    "SELECT \n",
    "    id as sede_id,\n",
    "    nombre as nombre_sede,\n",
    "    direccion,\n",
    "    ciudad,\n",
    "    departamento\n",
    "FROM sedes\n",
    "\"\"\""
   ]
  },
  {
   "cell_type": "code",
   "execution_count": null,
   "metadata": {},
   "outputs": [],
   "source": [
    "# Leer datos de la fuente\n",
    "df_sedes = pd.read_sql(query, fuente_conn)\n"
   ]
  },
  {
   "cell_type": "code",
   "execution_count": null,
   "metadata": {},
   "outputs": [],
   "source": [
    "# Cargar en la bodega de datos\n",
    "df_sedes.to_sql('dim_sede', bodega_conn, if_exists='replace', index=False)"
   ]
  },
  {
   "cell_type": "code",
   "execution_count": null,
   "metadata": {},
   "outputs": [],
   "source": [
    "# Verificaciones adicionales\n",
    "print(\"\\nNúmero total de sedes:\", len(df_sedes))\n",
    "print(\"\\nMuestra de los datos:\")\n",
    "print(df_sedes.head())"
   ]
  }
 ],
 "metadata": {
  "kernelspec": {
   "display_name": "base",
   "language": "python",
   "name": "python3"
  },
  "language_info": {
   "name": "python",
   "version": "3.12.4"
  }
 },
 "nbformat": 4,
 "nbformat_minor": 2
}
