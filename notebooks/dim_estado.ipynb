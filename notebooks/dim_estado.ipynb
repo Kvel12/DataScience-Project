{
 "cells": [
  {
   "cell_type": "code",
   "execution_count": 2,
   "metadata": {},
   "outputs": [],
   "source": [
    "from datetime import date\n",
    "import pandas as pd\n",
    "import yaml\n",
    "from sqlalchemy import create_engine, inspect, text"
   ]
  },
  {
   "cell_type": "markdown",
   "metadata": {},
   "source": [
    "### Database connections"
   ]
  },
  {
   "cell_type": "code",
   "execution_count": 3,
   "metadata": {},
   "outputs": [],
   "source": [
    "# Cargar configuración desde el archivo config.yml\n",
    "with open('../config.yml', 'r') as f:\n",
    "    config = yaml.safe_load(f)\n",
    "    config_fuente = config['fuente']\n",
    "    config_bodega = config['bodega']\n",
    "\n",
    "# Crear conexiones a las bases de datos\n",
    "url_fuente = f\"postgresql://{config_fuente['user']}:{config_fuente['password']}@{config_fuente['host']}:{config_fuente['port']}/{config_fuente['dbname']}\"\n",
    "url_bodega = f\"postgresql://{config_bodega['user']}:{config_bodega['password']}@{config_bodega['host']}:{config_bodega['port']}/{config_bodega['dbname']}\"\n",
    "\n",
    "# Crear SQLAlchemy engine\n",
    "fuente_conn = create_engine(url_fuente)\n",
    "bodega_conn = create_engine(url_bodega)\n"
   ]
  },
  {
   "cell_type": "markdown",
   "metadata": {},
   "source": [
    "# Extract"
   ]
  },
  {
   "cell_type": "markdown",
   "metadata": {},
   "source": [
    "### SQL Query"
   ]
  },
  {
   "cell_type": "code",
   "execution_count": 4,
   "metadata": {},
   "outputs": [],
   "source": [
    "# Consulta SQL para obtener los estados\n",
    "query = \"\"\"\n",
    "SELECT \n",
    "    id as estado_id,\n",
    "    nombre as nombre_estado,\n",
    "    descripcion\n",
    "FROM mensajeria_estado\n",
    "\"\"\""
   ]
  },
  {
   "cell_type": "code",
   "execution_count": 5,
   "metadata": {},
   "outputs": [],
   "source": [
    "# Leer datos de la fuente\n",
    "dim_estado = pd.read_sql(query, fuente_conn)"
   ]
  },
  {
   "cell_type": "markdown",
   "metadata": {},
   "source": [
    "# Transformation"
   ]
  },
  {
   "cell_type": "code",
   "execution_count": 6,
   "metadata": {},
   "outputs": [],
   "source": [
    "# Agregar fecha de carga\n",
    "dim_estado['saved'] = date.today()"
   ]
  },
  {
   "cell_type": "markdown",
   "metadata": {},
   "source": [
    "### Verificaciones"
   ]
  },
  {
   "cell_type": "code",
   "execution_count": 7,
   "metadata": {},
   "outputs": [
    {
     "name": "stdout",
     "output_type": "stream",
     "text": [
      "\n",
      "Información del DataFrame:\n",
      "<class 'pandas.core.frame.DataFrame'>\n",
      "RangeIndex: 6 entries, 0 to 5\n",
      "Data columns (total 4 columns):\n",
      " #   Column         Non-Null Count  Dtype \n",
      "---  ------         --------------  ----- \n",
      " 0   estado_id      6 non-null      int64 \n",
      " 1   nombre_estado  6 non-null      object\n",
      " 2   descripcion    6 non-null      object\n",
      " 3   saved          6 non-null      object\n",
      "dtypes: int64(1), object(3)\n",
      "memory usage: 324.0+ bytes\n",
      "None\n",
      "\n",
      "Muestra de los datos:\n",
      "   estado_id           nombre_estado             descripcion       saved\n",
      "0          4  Recogido por mensajero  Recogido por mensajero  2024-11-10\n",
      "1          5    Entregado en destino    Entregado en destino  2024-11-10\n",
      "2          3             Con novedad           Tiene novedad  2024-11-10\n",
      "3          6      Terminado completo      Terminado completo  2024-11-10\n",
      "4          1                Iniciado   Creado por el usuario  2024-11-10\n"
     ]
    }
   ],
   "source": [
    "# Verificar los datos\n",
    "print(\"\\nInformación del DataFrame:\")\n",
    "print(dim_estado.info())\n",
    "\n",
    "print(\"\\nMuestra de los datos:\")\n",
    "print(dim_estado.head())"
   ]
  },
  {
   "cell_type": "code",
   "execution_count": 8,
   "metadata": {},
   "outputs": [
    {
     "name": "stdout",
     "output_type": "stream",
     "text": [
      "\n",
      "Número total de estados: 6\n",
      "\n",
      "Estados únicos:\n",
      "   estado_id           nombre_estado\n",
      "0          4  Recogido por mensajero\n",
      "1          5    Entregado en destino\n",
      "2          3             Con novedad\n",
      "3          6      Terminado completo\n",
      "4          1                Iniciado\n",
      "5          2  Con mensajero Asignado\n"
     ]
    }
   ],
   "source": [
    "# Verificaciones adicionales\n",
    "print(\"\\nNúmero total de estados:\", len(dim_estado))\n",
    "print(\"\\nEstados únicos:\")\n",
    "print(dim_estado[['estado_id', 'nombre_estado']].to_string())"
   ]
  },
  {
   "cell_type": "markdown",
   "metadata": {},
   "source": [
    "# Load"
   ]
  },
  {
   "cell_type": "code",
   "execution_count": 9,
   "metadata": {},
   "outputs": [
    {
     "data": {
      "text/plain": [
       "6"
      ]
     },
     "execution_count": 9,
     "metadata": {},
     "output_type": "execute_result"
    }
   ],
   "source": [
    "# Cargar en la bodega\n",
    "dim_estado.to_sql('dim_estado', bodega_conn, if_exists='replace', index_label='key_dim_estado')"
   ]
  }
 ],
 "metadata": {
  "kernelspec": {
   "display_name": "base",
   "language": "python",
   "name": "python3"
  },
  "language_info": {
   "codemirror_mode": {
    "name": "ipython",
    "version": 3
   },
   "file_extension": ".py",
   "mimetype": "text/x-python",
   "name": "python",
   "nbconvert_exporter": "python",
   "pygments_lexer": "ipython3",
   "version": "3.12.4"
  }
 },
 "nbformat": 4,
 "nbformat_minor": 2
}
