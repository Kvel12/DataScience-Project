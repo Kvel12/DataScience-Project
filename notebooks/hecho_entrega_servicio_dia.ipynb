{
 "cells": [
  {
   "cell_type": "code",
   "execution_count": 35,
   "metadata": {},
   "outputs": [],
   "source": [
    "from datetime import date\n",
    "import pandas as pd\n",
    "import numpy as np\n",
    "import yaml\n",
    "from sqlalchemy import create_engine"
   ]
  },
  {
   "cell_type": "markdown",
   "metadata": {},
   "source": [
    "# Database connections "
   ]
  },
  {
   "cell_type": "code",
   "execution_count": 36,
   "metadata": {},
   "outputs": [],
   "source": [
    "# Cargar configuración\n",
    "with open('../config.yml', 'r') as f:\n",
    "    config = yaml.safe_load(f)\n",
    "    config_fuente = config['fuente']\n",
    "    config_bodega = config['bodega']"
   ]
  },
  {
   "cell_type": "code",
   "execution_count": 37,
   "metadata": {},
   "outputs": [],
   "source": [
    "# Crear conexiones\n",
    "url_fuente = f\"postgresql://{config_fuente['user']}:{config_fuente['password']}@{config_fuente['host']}:{config_fuente['port']}/{config_fuente['dbname']}\"\n",
    "url_bodega = f\"postgresql://{config_bodega['user']}:{config_bodega['password']}@{config_bodega['host']}:{config_bodega['port']}/{config_bodega['dbname']}\"\n",
    "\n",
    "# Crear los SQLAlchemy Engine\n",
    "fuente_conn = create_engine(url_fuente)\n",
    "bodega_conn = create_engine(url_bodega)"
   ]
  },
  {
   "cell_type": "markdown",
   "metadata": {},
   "source": [
    "# SQL Query"
   ]
  },
  {
   "cell_type": "code",
   "execution_count": 38,
   "metadata": {},
   "outputs": [],
   "source": [
    "query = \"\"\"\n",
    "SELECT \n",
    "    ha.servicio_id,\n",
    "    ha.key_dim_fecha,\n",
    "    ha.key_dim_cliente,\n",
    "    ha.key_dim_mensajero,\n",
    "    ds.key_dim_sede,\n",
    "    df.dia_semana\n",
    "FROM hecho_entrega_acumulado ha\n",
    "JOIN dim_cliente dc ON ha.key_dim_cliente = dc.key_dim_cliente\n",
    "JOIN dim_sede ds ON dc.cliente_id = ds.sede_id\n",
    "JOIN dim_fecha df ON ha.key_dim_fecha = df.key_dim_fecha\n",
    "WHERE ha.fecha_iniciado IS NOT NULL\n",
    "\"\"\""
   ]
  },
  {
   "cell_type": "markdown",
   "metadata": {},
   "source": [
    "# Extract"
   ]
  },
  {
   "cell_type": "code",
   "execution_count": 45,
   "metadata": {},
   "outputs": [],
   "source": [
    "# Leer datos y dimensiones\n",
    "df_servicios = pd.read_sql(query, bodega_conn)"
   ]
  },
  {
   "cell_type": "code",
   "execution_count": 46,
   "metadata": {},
   "outputs": [
    {
     "name": "stdout",
     "output_type": "stream",
     "text": [
      "Total servicios extraídos: 28428\n"
     ]
    }
   ],
   "source": [
    "print(\"Total servicios extraídos:\", len(df_servicios))"
   ]
  },
  {
   "cell_type": "code",
   "execution_count": 47,
   "metadata": {},
   "outputs": [],
   "source": [
    "hecho_dia = df_servicios.groupby([\n",
    "    'key_dim_fecha',\n",
    "    'key_dim_cliente',\n",
    "    'key_dim_sede',\n",
    "    'key_dim_mensajero',\n",
    "    'servicio_id'\n",
    "]).size().reset_index(name='cantidad_servicios_dia')"
   ]
  },
  {
   "cell_type": "code",
   "execution_count": 48,
   "metadata": {},
   "outputs": [
    {
     "name": "stdout",
     "output_type": "stream",
     "text": [
      "\n",
      "Estadísticas de agregación:\n",
      "Total registros agregados: 27701\n",
      "\n",
      "Distribución de cantidad de servicios por día:\n",
      "cantidad_servicios_dia\n",
      "1    27701\n",
      "Name: count, dtype: int64\n"
     ]
    }
   ],
   "source": [
    "print(\"\\nEstadísticas de agregación:\")\n",
    "print(f\"Total registros agregados: {len(hecho_dia)}\")\n",
    "print(\"\\nDistribución de cantidad de servicios por día:\")\n",
    "print(hecho_dia['cantidad_servicios_dia'].value_counts().sort_index())"
   ]
  },
  {
   "cell_type": "code",
   "execution_count": 49,
   "metadata": {},
   "outputs": [],
   "source": [
    "# Agregar fecha de carga\n",
    "hecho_dia['saved'] = date.today()"
   ]
  },
  {
   "cell_type": "markdown",
   "metadata": {},
   "source": [
    "# Verifications"
   ]
  },
  {
   "cell_type": "code",
   "execution_count": 50,
   "metadata": {},
   "outputs": [
    {
     "name": "stdout",
     "output_type": "stream",
     "text": [
      "\n",
      "Muestra de datos a cargar:\n",
      "   key_dim_fecha  key_dim_cliente  key_dim_sede  key_dim_mensajero  \\\n",
      "0          261.0                7            16                0.0   \n",
      "1          261.0                7            16               13.0   \n",
      "2          261.0                7            16               13.0   \n",
      "3          261.0                7            16               13.0   \n",
      "4          261.0                7            16               13.0   \n",
      "\n",
      "   servicio_id  cantidad_servicios_dia       saved  \n",
      "0            7                       1  2024-11-10  \n",
      "1            8                       1  2024-11-10  \n",
      "2            9                       1  2024-11-10  \n",
      "3           10                       1  2024-11-10  \n",
      "4           11                       1  2024-11-10  \n",
      "\n",
      "Información de columnas:\n",
      "<class 'pandas.core.frame.DataFrame'>\n",
      "RangeIndex: 27701 entries, 0 to 27700\n",
      "Data columns (total 7 columns):\n",
      " #   Column                  Non-Null Count  Dtype  \n",
      "---  ------                  --------------  -----  \n",
      " 0   key_dim_fecha           27701 non-null  float64\n",
      " 1   key_dim_cliente         27701 non-null  int64  \n",
      " 2   key_dim_sede            27701 non-null  int64  \n",
      " 3   key_dim_mensajero       27701 non-null  float64\n",
      " 4   servicio_id             27701 non-null  int64  \n",
      " 5   cantidad_servicios_dia  27701 non-null  int64  \n",
      " 6   saved                   27701 non-null  object \n",
      "dtypes: float64(2), int64(4), object(1)\n",
      "memory usage: 1.5+ MB\n",
      "None\n"
     ]
    }
   ],
   "source": [
    "# Verificar datos antes de cargar\n",
    "print(\"\\nMuestra de datos a cargar:\")\n",
    "print(hecho_dia.head())\n",
    "print(\"\\nInformación de columnas:\")\n",
    "print(hecho_dia.info())"
   ]
  },
  {
   "cell_type": "markdown",
   "metadata": {},
   "source": [
    "# Load"
   ]
  },
  {
   "cell_type": "code",
   "execution_count": 51,
   "metadata": {},
   "outputs": [
    {
     "data": {
      "text/plain": [
       "701"
      ]
     },
     "execution_count": 51,
     "metadata": {},
     "output_type": "execute_result"
    }
   ],
   "source": [
    "# Guardar en la bodega\n",
    "hecho_dia.to_sql(\n",
    "    'hecho_entrega_servicio_diaria', \n",
    "    bodega_conn, \n",
    "    if_exists='replace', \n",
    "    index_label='key_hecho_entrega_servicio_diaria'\n",
    ")"
   ]
  },
  {
   "cell_type": "code",
   "execution_count": 53,
   "metadata": {},
   "outputs": [
    {
     "name": "stdout",
     "output_type": "stream",
     "text": [
      "\n",
      "Verificación final:\n",
      "\n",
      "Servicios por día de la semana:\n",
      "   dia_semana  total_servicios\n",
      "0           0             4203\n",
      "1           1             5263\n",
      "2           2             4814\n",
      "3           3             5033\n",
      "4           4             5153\n",
      "5           5             2418\n",
      "6           6              817\n"
     ]
    }
   ],
   "source": [
    "# Verificación final\n",
    "print(\"\\nVerificación final:\")\n",
    "verificacion_query = \"\"\"\n",
    "SELECT \n",
    "    df.dia_semana,\n",
    "    COUNT(*) as total_servicios\n",
    "FROM hecho_entrega_servicio_diaria h\n",
    "JOIN dim_fecha df ON h.key_dim_fecha = df.key_dim_fecha\n",
    "GROUP BY df.dia_semana\n",
    "ORDER BY df.dia_semana;\n",
    "\"\"\"\n",
    "print(\"\\nServicios por día de la semana:\")\n",
    "print(pd.read_sql(verificacion_query, bodega_conn))"
   ]
  },
  {
   "cell_type": "markdown",
   "metadata": {},
   "source": [
    "# SQL Querys to response requirements"
   ]
  },
  {
   "cell_type": "code",
   "execution_count": null,
   "metadata": {},
   "outputs": [
    {
     "data": {
      "text/plain": [
       "\"\\nSELECT \\n    EXTRACT(YEAR FROM df.fecha)::integer as año,\\n    CASE EXTRACT(MONTH FROM df.fecha)::integer\\n        WHEN 1 THEN 'Enero'\\n        WHEN 2 THEN 'Febrero'\\n        WHEN 3 THEN 'Marzo'\\n        WHEN 4 THEN 'Abril'\\n        WHEN 5 THEN 'Mayo'\\n        WHEN 6 THEN 'Junio'\\n        WHEN 7 THEN 'Julio'\\n        WHEN 8 THEN 'Agosto'\\n        WHEN 9 THEN 'Septiembre'\\n        WHEN 10 THEN 'Octubre'\\n        WHEN 11 THEN 'Noviembre'\\n        WHEN 12 THEN 'Diciembre'\\n    END as mes,\\n    COUNT(h.servicio_id) as total_servicios,\\n    ROUND((COUNT(h.servicio_id)::numeric / SUM(COUNT(h.servicio_id)) OVER (PARTITION BY EXTRACT(YEAR FROM df.fecha))) * 100, 2) || '%' as porcentaje_anual\\nFROM hecho_entrega_servicio_diaria h\\nJOIN dim_fecha df ON h.key_dim_fecha = df.key_dim_fecha\\nGROUP BY \\n    EXTRACT(YEAR FROM df.fecha),\\n    EXTRACT(MONTH FROM df.fecha)\\nORDER BY \\n    año, \\n    EXTRACT(MONTH FROM df.fecha);\\n\""
      ]
     },
     "execution_count": 54,
     "metadata": {},
     "output_type": "execute_result"
    }
   ],
   "source": [
    "# Pregunta 1: ¿En qué meses del año los clientes solicitan más servicios?\n",
    "\n",
    "'''\n",
    "SELECT \n",
    "    EXTRACT(YEAR FROM df.fecha)::integer as año,\n",
    "    CASE EXTRACT(MONTH FROM df.fecha)::integer\n",
    "        WHEN 1 THEN 'Enero'\n",
    "        WHEN 2 THEN 'Febrero'\n",
    "        WHEN 3 THEN 'Marzo'\n",
    "        WHEN 4 THEN 'Abril'\n",
    "        WHEN 5 THEN 'Mayo'\n",
    "        WHEN 6 THEN 'Junio'\n",
    "        WHEN 7 THEN 'Julio'\n",
    "        WHEN 8 THEN 'Agosto'\n",
    "        WHEN 9 THEN 'Septiembre'\n",
    "        WHEN 10 THEN 'Octubre'\n",
    "        WHEN 11 THEN 'Noviembre'\n",
    "        WHEN 12 THEN 'Diciembre'\n",
    "    END as mes,\n",
    "    COUNT(h.servicio_id) as total_servicios,\n",
    "    ROUND((COUNT(h.servicio_id)::numeric / SUM(COUNT(h.servicio_id)) OVER (PARTITION BY EXTRACT(YEAR FROM df.fecha))) * 100, 2) || '%' as porcentaje_anual\n",
    "FROM hecho_entrega_servicio_diaria h\n",
    "JOIN dim_fecha df ON h.key_dim_fecha = df.key_dim_fecha\n",
    "GROUP BY \n",
    "    EXTRACT(YEAR FROM df.fecha),\n",
    "    EXTRACT(MONTH FROM df.fecha)\n",
    "ORDER BY \n",
    "    año, \n",
    "    EXTRACT(MONTH FROM df.fecha);\n",
    "'''"
   ]
  },
  {
   "cell_type": "code",
   "execution_count": null,
   "metadata": {},
   "outputs": [
    {
     "data": {
      "text/plain": [
       "\"\\nSELECT \\n    CASE df.dia_semana\\n        WHEN 0 THEN 'Lunes'\\n        WHEN 1 THEN 'Martes'\\n        WHEN 2 THEN 'Miércoles'\\n        WHEN 3 THEN 'Jueves'\\n        WHEN 4 THEN 'Viernes'\\n        WHEN 5 THEN 'Sábado'\\n        WHEN 6 THEN 'Domingo'\\n    END as dia,\\n    COUNT(h.servicio_id) as total_servicios,\\n    ROUND((COUNT(h.servicio_id)::numeric / SUM(COUNT(h.servicio_id)) OVER ()) * 100, 2) || '%' as porcentaje_total,\\n    ROUND(AVG(h.cantidad_servicios_dia), 2) as promedio_servicios_por_dia\\nFROM hecho_entrega_servicio_diaria h\\nJOIN dim_fecha df ON h.key_dim_fecha = df.key_dim_fecha\\nGROUP BY df.dia_semana\\nORDER BY \\n    CASE \\n        WHEN df.dia_semana = 0 THEN 1\\n        WHEN df.dia_semana = 1 THEN 2\\n        WHEN df.dia_semana = 2 THEN 3\\n        WHEN df.dia_semana = 3 THEN 4\\n        WHEN df.dia_semana = 4 THEN 5\\n        WHEN df.dia_semana = 5 THEN 6\\n        WHEN df.dia_semana = 6 THEN 7\\n    END;\\n\""
      ]
     },
     "execution_count": 55,
     "metadata": {},
     "output_type": "execute_result"
    }
   ],
   "source": [
    "#Pregunta 2: ¿Cuáles son los días donde más solicitudes hay?\n",
    "\n",
    "'''\n",
    "SELECT \n",
    "    CASE df.dia_semana\n",
    "        WHEN 0 THEN 'Lunes'\n",
    "        WHEN 1 THEN 'Martes'\n",
    "        WHEN 2 THEN 'Miércoles'\n",
    "        WHEN 3 THEN 'Jueves'\n",
    "        WHEN 4 THEN 'Viernes'\n",
    "        WHEN 5 THEN 'Sábado'\n",
    "        WHEN 6 THEN 'Domingo'\n",
    "    END as dia,\n",
    "    COUNT(h.servicio_id) as total_servicios,\n",
    "    ROUND((COUNT(h.servicio_id)::numeric / SUM(COUNT(h.servicio_id)) OVER ()) * 100, 2) || '%' as porcentaje_total,\n",
    "    ROUND(AVG(h.cantidad_servicios_dia), 2) as promedio_servicios_por_dia\n",
    "FROM hecho_entrega_servicio_diaria h\n",
    "JOIN dim_fecha df ON h.key_dim_fecha = df.key_dim_fecha\n",
    "GROUP BY df.dia_semana\n",
    "ORDER BY \n",
    "    CASE \n",
    "        WHEN df.dia_semana = 0 THEN 1\n",
    "        WHEN df.dia_semana = 1 THEN 2\n",
    "        WHEN df.dia_semana = 2 THEN 3\n",
    "        WHEN df.dia_semana = 3 THEN 4\n",
    "        WHEN df.dia_semana = 4 THEN 5\n",
    "        WHEN df.dia_semana = 5 THEN 6\n",
    "        WHEN df.dia_semana = 6 THEN 7\n",
    "    END;\n",
    "'''"
   ]
  },
  {
   "cell_type": "code",
   "execution_count": 115,
   "metadata": {},
   "outputs": [
    {
     "data": {
      "text/plain": [
       "'\\nSELECT \\n    dc.nombre AS nombre_cliente,\\n    ds.nombre_sede,\\n    COUNT(h.servicio_id) AS total_servicios\\nFROM hecho_entrega_servicio_diaria h\\nJOIN dim_cliente dc ON h.key_dim_cliente = dc.key_dim_cliente\\nJOIN dim_sede ds ON h.key_dim_sede = ds.key_dim_sede\\nGROUP BY dc.nombre, ds.nombre_sede\\nORDER BY total_servicios DESC;\\n\\n'"
      ]
     },
     "execution_count": 115,
     "metadata": {},
     "output_type": "execute_result"
    }
   ],
   "source": [
    "#Pregunta 6: ¿Cuáles son las sedes que más servicios solicitan por cada cliente?\n",
    "'''\n",
    "SELECT \n",
    "    dc.nombre AS nombre_cliente,\n",
    "    ds.nombre_sede,\n",
    "    COUNT(h.servicio_id) AS total_servicios\n",
    "FROM hecho_entrega_servicio_diaria h\n",
    "JOIN dim_cliente dc ON h.key_dim_cliente = dc.key_dim_cliente\n",
    "JOIN dim_sede ds ON h.key_dim_sede = ds.key_dim_sede\n",
    "GROUP BY dc.nombre, ds.nombre_sede\n",
    "ORDER BY total_servicios DESC;\n",
    "\n",
    "'''\n",
    "\n"
   ]
  }
 ],
 "metadata": {
  "kernelspec": {
   "display_name": "my_env",
   "language": "python",
   "name": "python3"
  },
  "language_info": {
   "codemirror_mode": {
    "name": "ipython",
    "version": 3
   },
   "file_extension": ".py",
   "mimetype": "text/x-python",
   "name": "python",
   "nbconvert_exporter": "python",
   "pygments_lexer": "ipython3",
   "version": "3.10.0"
  }
 },
 "nbformat": 4,
 "nbformat_minor": 2
}
