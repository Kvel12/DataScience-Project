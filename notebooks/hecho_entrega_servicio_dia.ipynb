{
 "cells": [
  {
   "cell_type": "code",
   "execution_count": 98,
   "metadata": {},
   "outputs": [],
   "source": [
    "from datetime import date\n",
    "import pandas as pd\n",
    "import numpy as np\n",
    "import yaml\n",
    "from sqlalchemy import create_engine"
   ]
  },
  {
   "cell_type": "markdown",
   "metadata": {},
   "source": [
    "# Database connections "
   ]
  },
  {
   "cell_type": "code",
   "execution_count": 99,
   "metadata": {},
   "outputs": [],
   "source": [
    "# Cargar configuración\n",
    "with open('../config.yml', 'r') as f:\n",
    "    config = yaml.safe_load(f)\n",
    "    config_fuente = config['fuente']\n",
    "    config_bodega = config['bodega']"
   ]
  },
  {
   "cell_type": "code",
   "execution_count": 100,
   "metadata": {},
   "outputs": [],
   "source": [
    "# Crear conexiones\n",
    "url_fuente = f\"postgresql://{config_fuente['user']}:{config_fuente['password']}@{config_fuente['host']}:{config_fuente['port']}/{config_fuente['dbname']}\"\n",
    "url_bodega = f\"postgresql://{config_bodega['user']}:{config_bodega['password']}@{config_bodega['host']}:{config_bodega['port']}/{config_bodega['dbname']}\"\n",
    "\n",
    "# Crear los SQLAlchemy Engine\n",
    "fuente_conn = create_engine(url_fuente)\n",
    "bodega_conn = create_engine(url_bodega)"
   ]
  },
  {
   "cell_type": "markdown",
   "metadata": {},
   "source": [
    "# SQL Query"
   ]
  },
  {
   "cell_type": "code",
   "execution_count": 101,
   "metadata": {},
   "outputs": [],
   "source": [
    "query = \"\"\"\n",
    "SELECT \n",
    "    s.id AS servicio_id,\n",
    "    os.cliente_id,\n",
    "    sede.sede_id,\n",
    "    COALESCE(s.mensajero3_id, COALESCE(s.mensajero2_id, s.mensajero_id)) AS mensajero_final_id,\n",
    "    es.fecha AS fecha_estado,\n",
    "    es.hora AS hora_estado\n",
    "FROM mensajeria_servicio s\n",
    "JOIN mensajeria_estadosservicio es \n",
    "    ON s.id = es.servicio_id\n",
    "JOIN mensajeria_origenservicio os \n",
    "    ON s.origen_id = os.id\n",
    "JOIN sede \n",
    "    ON sede.cliente_id = os.cliente_id \n",
    "    AND sede.ciudad_id = os.ciudad_id\n",
    "ORDER BY s.id, es.fecha, es.hora\n",
    "\n",
    "\n",
    "\"\"\""
   ]
  },
  {
   "cell_type": "markdown",
   "metadata": {},
   "source": [
    "# Extract"
   ]
  },
  {
   "cell_type": "code",
   "execution_count": 102,
   "metadata": {},
   "outputs": [],
   "source": [
    "# Leer datos y dimensiones\n",
    "df = pd.read_sql(query, fuente_conn)\n",
    "dim_fecha = pd.read_sql_table('dim_fecha', bodega_conn)\n",
    "dim_cliente = pd.read_sql_table('dim_cliente', bodega_conn)\n",
    "dim_mensajero = pd.read_sql_table('dim_mensajero', bodega_conn)\n",
    "dim_sede = pd.read_sql_table('dim_sede', bodega_conn)"
   ]
  },
  {
   "cell_type": "markdown",
   "metadata": {},
   "source": [
    "# Transformations"
   ]
  },
  {
   "cell_type": "code",
   "execution_count": 103,
   "metadata": {},
   "outputs": [],
   "source": [
    "# Convertir fecha_estado a datetime\n",
    "df['fecha_estado'] = pd.to_datetime(df['fecha_estado']).dt.date\n",
    "dim_fecha['fecha'] = pd.to_datetime(dim_fecha['fecha']).dt.date"
   ]
  },
  {
   "cell_type": "code",
   "execution_count": 104,
   "metadata": {},
   "outputs": [
    {
     "name": "stderr",
     "output_type": "stream",
     "text": [
      "C:\\Users\\HP\\AppData\\Local\\Temp\\ipykernel_29608\\1054194721.py:10: DeprecationWarning: DataFrameGroupBy.apply operated on the grouping columns. This behavior is deprecated, and in a future version of pandas the grouping columns will be excluded from the operation. Either pass `include_groups=False` to exclude the groupings or explicitly select the grouping columns after groupby to silence this warning.\n",
      "  df_tiempo_entrega = df.groupby('servicio_id').apply(calcular_tiempo_entrega).reset_index(name='tiempo_entrega')\n"
     ]
    }
   ],
   "source": [
    "# Calcular tiempo de entrega por servicio\n",
    "def calcular_tiempo_entrega(grupo):\n",
    "    estados_ordenados = grupo.sort_values(['fecha_estado', 'hora_estado'])\n",
    "    if len(estados_ordenados) >= 2:\n",
    "        inicio = pd.to_datetime(f\"{estados_ordenados.iloc[0]['fecha_estado']} {estados_ordenados.iloc[0]['hora_estado']}\")\n",
    "        fin = pd.to_datetime(f\"{estados_ordenados.iloc[-1]['fecha_estado']} {estados_ordenados.iloc[-1]['hora_estado']}\")\n",
    "        return (fin - inicio).total_seconds() / 3600  # Convertir a horas\n",
    "    return None\n",
    "\n",
    "df_tiempo_entrega = df.groupby('servicio_id').apply(calcular_tiempo_entrega).reset_index(name='tiempo_entrega')\n"
   ]
  },
  {
   "cell_type": "code",
   "execution_count": 105,
   "metadata": {},
   "outputs": [],
   "source": [
    "# Obtener solo el primer estado de cada servicio para la fecha\n",
    "df_servicios = df.sort_values(['fecha_estado', 'hora_estado']).groupby('servicio_id').first().reset_index()\n"
   ]
  },
  {
   "cell_type": "code",
   "execution_count": 106,
   "metadata": {},
   "outputs": [],
   "source": [
    "# Combinar con los tiempos de entrega\n",
    "df_servicios = df_servicios.merge(df_tiempo_entrega, on='servicio_id', how='left')\n"
   ]
  },
  {
   "cell_type": "code",
   "execution_count": 107,
   "metadata": {},
   "outputs": [],
   "source": [
    "# Realizar los merges con las dimensiones\n",
    "hecho_diario = df_servicios.merge(\n",
    "    dim_fecha[['key_dim_fecha', 'fecha']], \n",
    "    left_on='fecha_estado', \n",
    "    right_on='fecha',\n",
    "    how='left'\n",
    ")\n",
    "\n",
    "hecho_diario = hecho_diario.merge(\n",
    "    dim_cliente[['key_dim_cliente', 'cliente_id']], \n",
    "    on='cliente_id',\n",
    "    how='left'\n",
    ")\n",
    "\n",
    "hecho_diario = hecho_diario.merge(\n",
    "    dim_mensajero[['key_dim_mensajero', 'mensajero_id']], \n",
    "    left_on='mensajero_final_id',\n",
    "    right_on='mensajero_id',\n",
    "    how='left'\n",
    ")\n",
    "\n",
    "hecho_diario = hecho_diario.merge(\n",
    "    dim_sede[['key_dim_sede', 'id_sede']],  \n",
    "    left_on='sede_id',  \n",
    "    right_on='id_sede',  \n",
    "    how='left'\n",
    ")\n",
    "\n"
   ]
  },
  {
   "cell_type": "code",
   "execution_count": 108,
   "metadata": {},
   "outputs": [],
   "source": [
    "# Seleccionar columnas finales\n",
    "columnas_finales = [\n",
    "    'servicio_id',\n",
    "    'key_dim_fecha',\n",
    "    'key_dim_cliente',\n",
    "    'key_dim_mensajero',\n",
    "    'key_dim_sede',\n",
    "    'tiempo_entrega'\n",
    "]\n",
    "\n",
    "hecho_diario = hecho_diario[columnas_finales]"
   ]
  },
  {
   "cell_type": "code",
   "execution_count": 109,
   "metadata": {},
   "outputs": [],
   "source": [
    "# Agregar fecha de carga\n",
    "hecho_diario['saved'] = date.today()\n"
   ]
  },
  {
   "cell_type": "markdown",
   "metadata": {},
   "source": [
    "# Verifications"
   ]
  },
  {
   "cell_type": "code",
   "execution_count": 110,
   "metadata": {},
   "outputs": [
    {
     "name": "stdout",
     "output_type": "stream",
     "text": [
      "\n",
      "Información del DataFrame:\n",
      "<class 'pandas.core.frame.DataFrame'>\n",
      "RangeIndex: 28401 entries, 0 to 28400\n",
      "Data columns (total 7 columns):\n",
      " #   Column             Non-Null Count  Dtype  \n",
      "---  ------             --------------  -----  \n",
      " 0   servicio_id        28401 non-null  int64  \n",
      " 1   key_dim_fecha      28401 non-null  int64  \n",
      " 2   key_dim_cliente    28401 non-null  int64  \n",
      " 3   key_dim_mensajero  27677 non-null  float64\n",
      " 4   key_dim_sede       28401 non-null  int64  \n",
      " 5   tiempo_entrega     28320 non-null  float64\n",
      " 6   saved              28401 non-null  object \n",
      "dtypes: float64(2), int64(4), object(1)\n",
      "memory usage: 1.5+ MB\n",
      "None\n",
      "\n",
      "Estadísticas de tiempo de entrega:\n",
      "count    28320.000000\n",
      "mean         7.369806\n",
      "std         80.470387\n",
      "min          0.000000\n",
      "25%          0.953889\n",
      "50%          1.677361\n",
      "75%          2.891875\n",
      "max       4871.641667\n",
      "Name: tiempo_entrega, dtype: float64\n",
      "\n",
      "Verificar valores nulos:\n",
      "servicio_id            0\n",
      "key_dim_fecha          0\n",
      "key_dim_cliente        0\n",
      "key_dim_mensajero    724\n",
      "key_dim_sede           0\n",
      "tiempo_entrega        81\n",
      "saved                  0\n",
      "dtype: int64\n"
     ]
    }
   ],
   "source": [
    "# Verificaciones\n",
    "print(\"\\nInformación del DataFrame:\")\n",
    "print(hecho_diario.info())\n",
    "\n",
    "print(\"\\nEstadísticas de tiempo de entrega:\")\n",
    "print(hecho_diario['tiempo_entrega'].describe())\n",
    "\n",
    "print(\"\\nVerificar valores nulos:\")\n",
    "print(hecho_diario.isnull().sum())"
   ]
  },
  {
   "cell_type": "markdown",
   "metadata": {},
   "source": [
    "# Load"
   ]
  },
  {
   "cell_type": "code",
   "execution_count": 111,
   "metadata": {},
   "outputs": [
    {
     "data": {
      "text/plain": [
       "401"
      ]
     },
     "execution_count": 111,
     "metadata": {},
     "output_type": "execute_result"
    }
   ],
   "source": [
    "# Guardar en la bodega\n",
    "hecho_diario.to_sql(\n",
    "    'hecho_entrega_servicio_diaria', \n",
    "    bodega_conn, \n",
    "    if_exists='replace', \n",
    "    index='key_hecho_entrega_servicio_diaria'\n",
    ")"
   ]
  },
  {
   "cell_type": "markdown",
   "metadata": {},
   "source": [
    "# SQL Querys to response requirements"
   ]
  },
  {
   "cell_type": "code",
   "execution_count": 112,
   "metadata": {},
   "outputs": [
    {
     "data": {
      "text/plain": [
       "'\\nSELECT \\n    df.mes,\\n    COUNT(h.servicio_id) AS total_servicios\\nFROM hecho_entrega_servicio_dia h\\nJOIN dim_fecha df ON h.key_dim_fecha = df.key_dim_fecha\\nGROUP BY df.mes\\nORDER BY total_servicios DESC;\\n'"
      ]
     },
     "execution_count": 112,
     "metadata": {},
     "output_type": "execute_result"
    }
   ],
   "source": [
    "#Pregunta 1: ¿En qué meses del año los clientes solicitan más servicios de mensajería?\n",
    "\n",
    "'''\n",
    "SELECT \n",
    "    df.mes,\n",
    "    COUNT(h.servicio_id) AS total_servicios\n",
    "FROM hecho_entrega_servicio_dia h\n",
    "JOIN dim_fecha df ON h.key_dim_fecha = df.key_dim_fecha\n",
    "GROUP BY df.mes\n",
    "ORDER BY total_servicios DESC;\n",
    "'''"
   ]
  },
  {
   "cell_type": "code",
   "execution_count": 113,
   "metadata": {},
   "outputs": [
    {
     "data": {
      "text/plain": [
       "'\\nSELECT \\n    df.dia_semana,\\n    COUNT(h.servicio_id) AS total_servicios\\nFROM hecho_entrega_servicio_diaria h\\nJOIN dim_fecha df ON h.key_dim_fecha = df.key_dim_fecha\\nGROUP BY df.dia_semana\\nORDER BY total_servicios DESC;\\n'"
      ]
     },
     "execution_count": 113,
     "metadata": {},
     "output_type": "execute_result"
    }
   ],
   "source": [
    "#Pregunta 2: ¿Cuáles son los días donde más solicitudes hay?\n",
    "\n",
    "'''\n",
    "SELECT \n",
    "    df.dia_semana,\n",
    "    COUNT(h.servicio_id) AS total_servicios\n",
    "FROM hecho_entrega_servicio_diaria h\n",
    "JOIN dim_fecha df ON h.key_dim_fecha = df.key_dim_fecha\n",
    "GROUP BY df.dia_semana\n",
    "ORDER BY total_servicios DESC;\n",
    "'''"
   ]
  },
  {
   "cell_type": "code",
   "execution_count": 114,
   "metadata": {},
   "outputs": [
    {
     "data": {
      "text/plain": [
       "'\\nSELECT \\n    dc.nombre AS nombre_cliente,\\n    df.mes,\\n    COUNT(h.servicio_id) AS total_servicios\\nFROM hecho_entrega_servicio_diaria h\\nJOIN dim_cliente dc ON h.key_dim_cliente = dc.key_dim_cliente\\nJOIN dim_fecha df ON h.key_dim_fecha = df.key_dim_fecha\\nGROUP BY dc.nombre, df.mes\\nORDER BY dc.nombre, df.mes;\\n'"
      ]
     },
     "execution_count": 114,
     "metadata": {},
     "output_type": "execute_result"
    }
   ],
   "source": [
    "#Pregunta 4: Número de servicios solicitados por cliente y por mes\n",
    "\n",
    "'''\n",
    "SELECT \n",
    "    dc.nombre AS nombre_cliente,\n",
    "    df.mes,\n",
    "    COUNT(h.servicio_id) AS total_servicios\n",
    "FROM hecho_entrega_servicio_diaria h\n",
    "JOIN dim_cliente dc ON h.key_dim_cliente = dc.key_dim_cliente\n",
    "JOIN dim_fecha df ON h.key_dim_fecha = df.key_dim_fecha\n",
    "GROUP BY dc.nombre, df.mes\n",
    "ORDER BY dc.nombre, df.mes;\n",
    "'''"
   ]
  },
  {
   "cell_type": "code",
   "execution_count": 115,
   "metadata": {},
   "outputs": [
    {
     "data": {
      "text/plain": [
       "'\\nSELECT \\n    dc.nombre AS nombre_cliente,\\n    ds.nombre_sede,\\n    COUNT(h.servicio_id) AS total_servicios\\nFROM hecho_entrega_servicio_diaria h\\nJOIN dim_cliente dc ON h.key_dim_cliente = dc.key_dim_cliente\\nJOIN dim_sede ds ON h.key_dim_sede = ds.key_dim_sede\\nGROUP BY dc.nombre, ds.nombre_sede\\nORDER BY total_servicios DESC;\\n\\n'"
      ]
     },
     "execution_count": 115,
     "metadata": {},
     "output_type": "execute_result"
    }
   ],
   "source": [
    "#Pregunta 6: ¿Cuáles son las sedes que más servicios solicitan por cada cliente?\n",
    "'''\n",
    "SELECT \n",
    "    dc.nombre AS nombre_cliente,\n",
    "    ds.nombre_sede,\n",
    "    COUNT(h.servicio_id) AS total_servicios\n",
    "FROM hecho_entrega_servicio_diaria h\n",
    "JOIN dim_cliente dc ON h.key_dim_cliente = dc.key_dim_cliente\n",
    "JOIN dim_sede ds ON h.key_dim_sede = ds.key_dim_sede\n",
    "GROUP BY dc.nombre, ds.nombre_sede\n",
    "ORDER BY total_servicios DESC;\n",
    "\n",
    "'''\n",
    "\n"
   ]
  }
 ],
 "metadata": {
  "kernelspec": {
   "display_name": "base",
   "language": "python",
   "name": "python3"
  },
  "language_info": {
   "codemirror_mode": {
    "name": "ipython",
    "version": 3
   },
   "file_extension": ".py",
   "mimetype": "text/x-python",
   "name": "python",
   "nbconvert_exporter": "python",
   "pygments_lexer": "ipython3",
   "version": "3.12.4"
  }
 },
 "nbformat": 4,
 "nbformat_minor": 2
}
