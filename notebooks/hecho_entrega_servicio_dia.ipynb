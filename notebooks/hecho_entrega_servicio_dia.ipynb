{
 "cells": [
  {
   "cell_type": "code",
   "execution_count": null,
   "metadata": {},
   "outputs": [],
   "source": [
    "from datetime import date\n",
    "import pandas as pd\n",
    "import numpy as np\n",
    "import yaml\n",
    "from sqlalchemy import create_engine"
   ]
  },
  {
   "cell_type": "code",
   "execution_count": 2,
   "metadata": {},
   "outputs": [],
   "source": [
    "# Cargar configuración\n",
    "with open('../config.yml', 'r') as f:\n",
    "    config = yaml.safe_load(f)\n",
    "    config_fuente = config['fuente']\n",
    "    config_bodega = config['bodega']"
   ]
  },
  {
   "cell_type": "code",
   "execution_count": 3,
   "metadata": {},
   "outputs": [],
   "source": [
    "# Crear conexiones\n",
    "url_fuente = f\"postgresql://{config_fuente['user']}:{config_fuente['password']}@{config_fuente['host']}:{config_fuente['port']}/{config_fuente['dbname']}\"\n",
    "url_bodega = f\"postgresql://{config_bodega['user']}:{config_bodega['password']}@{config_bodega['host']}:{config_bodega['port']}/{config_bodega['dbname']}\"\n",
    "\n",
    "fuente_conn = create_engine(url_fuente)\n",
    "bodega_conn = create_engine(url_bodega)"
   ]
  },
  {
   "cell_type": "code",
   "execution_count": 10,
   "metadata": {},
   "outputs": [],
   "source": [
    "# Consulta SQL para obtener los servicios y sus estados\n",
    "query = \"\"\"\n",
    "SELECT \n",
    "    s.id AS servicio_id,\n",
    "    os.cliente_id,\n",
    "    sede.sede_id,\n",
    "    COALESCE(s.mensajero3_id, COALESCE(s.mensajero2_id, s.mensajero_id)) AS mensajero_final_id,\n",
    "    es.fecha AS fecha_estado,\n",
    "    es.hora AS hora_estado\n",
    "FROM mensajeria_servicio s\n",
    "JOIN mensajeria_estadosservicio es \n",
    "    ON s.id = es.servicio_id\n",
    "JOIN mensajeria_origenservicio os \n",
    "    ON s.origen_id = os.id\n",
    "JOIN sede \n",
    "    ON sede.cliente_id = os.cliente_id \n",
    "    AND sede.ciudad_id = os.ciudad_id\n",
    "ORDER BY s.id, es.fecha, es.hora\n",
    "\n",
    "\n",
    "\"\"\""
   ]
  },
  {
   "cell_type": "code",
   "execution_count": 14,
   "metadata": {},
   "outputs": [
    {
     "ename": "ValueError",
     "evalue": "Table dim_fecha not found",
     "output_type": "error",
     "traceback": [
      "\u001b[1;31m---------------------------------------------------------------------------\u001b[0m",
      "\u001b[1;31mValueError\u001b[0m                                Traceback (most recent call last)",
      "Cell \u001b[1;32mIn[14], line 3\u001b[0m\n\u001b[0;32m      1\u001b[0m \u001b[38;5;66;03m# Leer datos y dimensiones\u001b[39;00m\n\u001b[0;32m      2\u001b[0m df \u001b[38;5;241m=\u001b[39m pd\u001b[38;5;241m.\u001b[39mread_sql(query, fuente_conn)\n\u001b[1;32m----> 3\u001b[0m dim_fecha \u001b[38;5;241m=\u001b[39m \u001b[43mpd\u001b[49m\u001b[38;5;241;43m.\u001b[39;49m\u001b[43mread_sql_table\u001b[49m\u001b[43m(\u001b[49m\u001b[38;5;124;43m'\u001b[39;49m\u001b[38;5;124;43mdim_fecha\u001b[39;49m\u001b[38;5;124;43m'\u001b[39;49m\u001b[43m,\u001b[49m\u001b[43m \u001b[49m\u001b[43mbodega_conn\u001b[49m\u001b[43m)\u001b[49m\n\u001b[0;32m      4\u001b[0m dim_cliente \u001b[38;5;241m=\u001b[39m pd\u001b[38;5;241m.\u001b[39mread_sql_table(\u001b[38;5;124m'\u001b[39m\u001b[38;5;124mdim_cliente\u001b[39m\u001b[38;5;124m'\u001b[39m, bodega_conn)\n\u001b[0;32m      5\u001b[0m dim_mensajero \u001b[38;5;241m=\u001b[39m pd\u001b[38;5;241m.\u001b[39mread_sql_table(\u001b[38;5;124m'\u001b[39m\u001b[38;5;124mdim_mensajero\u001b[39m\u001b[38;5;124m'\u001b[39m, bodega_conn)\n",
      "File \u001b[1;32ma:\\Programas\\Anaconda\\Lib\\site-packages\\pandas\\io\\sql.py:386\u001b[0m, in \u001b[0;36mread_sql_table\u001b[1;34m(table_name, con, schema, index_col, coerce_float, parse_dates, columns, chunksize, dtype_backend)\u001b[0m\n\u001b[0;32m    384\u001b[0m \u001b[38;5;28;01mwith\u001b[39;00m pandasSQL_builder(con, schema\u001b[38;5;241m=\u001b[39mschema, need_transaction\u001b[38;5;241m=\u001b[39m\u001b[38;5;28;01mTrue\u001b[39;00m) \u001b[38;5;28;01mas\u001b[39;00m pandas_sql:\n\u001b[0;32m    385\u001b[0m     \u001b[38;5;28;01mif\u001b[39;00m \u001b[38;5;129;01mnot\u001b[39;00m pandas_sql\u001b[38;5;241m.\u001b[39mhas_table(table_name):\n\u001b[1;32m--> 386\u001b[0m         \u001b[38;5;28;01mraise\u001b[39;00m \u001b[38;5;167;01mValueError\u001b[39;00m(\u001b[38;5;124mf\u001b[39m\u001b[38;5;124m\"\u001b[39m\u001b[38;5;124mTable \u001b[39m\u001b[38;5;132;01m{\u001b[39;00mtable_name\u001b[38;5;132;01m}\u001b[39;00m\u001b[38;5;124m not found\u001b[39m\u001b[38;5;124m\"\u001b[39m)\n\u001b[0;32m    388\u001b[0m     table \u001b[38;5;241m=\u001b[39m pandas_sql\u001b[38;5;241m.\u001b[39mread_table(\n\u001b[0;32m    389\u001b[0m         table_name,\n\u001b[0;32m    390\u001b[0m         index_col\u001b[38;5;241m=\u001b[39mindex_col,\n\u001b[1;32m   (...)\u001b[0m\n\u001b[0;32m    395\u001b[0m         dtype_backend\u001b[38;5;241m=\u001b[39mdtype_backend,\n\u001b[0;32m    396\u001b[0m     )\n\u001b[0;32m    398\u001b[0m \u001b[38;5;28;01mif\u001b[39;00m table \u001b[38;5;129;01mis\u001b[39;00m \u001b[38;5;129;01mnot\u001b[39;00m \u001b[38;5;28;01mNone\u001b[39;00m:\n",
      "\u001b[1;31mValueError\u001b[0m: Table dim_fecha not found"
     ]
    }
   ],
   "source": [
    "# Leer datos y dimensiones\n",
    "df = pd.read_sql(query, fuente_conn)\n",
    "dim_fecha = pd.read_sql_table('dim_fecha', bodega_conn)\n",
    "dim_cliente = pd.read_sql_table('dim_cliente', bodega_conn)\n",
    "dim_mensajero = pd.read_sql_table('dim_mensajero', bodega_conn)\n",
    "dim_sede = pd.read_sql_table('dim_sede', bodega_conn)"
   ]
  },
  {
   "cell_type": "code",
   "execution_count": null,
   "metadata": {},
   "outputs": [],
   "source": [
    "# Convertir fecha_estado a datetime\n",
    "df['fecha_estado'] = pd.to_datetime(df['fecha_estado']).dt.date\n",
    "dim_fecha['fecha'] = pd.to_datetime(dim_fecha['fecha']).dt.date"
   ]
  },
  {
   "cell_type": "code",
   "execution_count": null,
   "metadata": {},
   "outputs": [],
   "source": [
    "# Calcular tiempo de entrega por servicio\n",
    "def calcular_tiempo_entrega(grupo):\n",
    "    estados_ordenados = grupo.sort_values(['fecha_estado', 'hora_estado'])\n",
    "    if len(estados_ordenados) >= 2:\n",
    "        inicio = pd.to_datetime(f\"{estados_ordenados.iloc[0]['fecha_estado']} {estados_ordenados.iloc[0]['hora_estado']}\")\n",
    "        fin = pd.to_datetime(f\"{estados_ordenados.iloc[-1]['fecha_estado']} {estados_ordenados.iloc[-1]['hora_estado']}\")\n",
    "        return (fin - inicio).total_seconds() / 3600  # Convertir a horas\n",
    "    return None\n",
    "\n",
    "df_tiempo_entrega = df.groupby('servicio_id').apply(calcular_tiempo_entrega).reset_index(name='tiempo_entrega')\n"
   ]
  },
  {
   "cell_type": "code",
   "execution_count": null,
   "metadata": {},
   "outputs": [],
   "source": [
    "# Obtener solo el primer estado de cada servicio para la fecha\n",
    "df_servicios = df.sort_values(['fecha_estado', 'hora_estado']).groupby('servicio_id').first().reset_index()\n"
   ]
  },
  {
   "cell_type": "code",
   "execution_count": null,
   "metadata": {},
   "outputs": [],
   "source": [
    "# Combinar con los tiempos de entrega\n",
    "df_servicios = df_servicios.merge(df_tiempo_entrega, on='servicio_id', how='left')\n"
   ]
  },
  {
   "cell_type": "code",
   "execution_count": null,
   "metadata": {},
   "outputs": [],
   "source": [
    "# Realizar los merges con las dimensiones\n",
    "hecho_diario = df_servicios.merge(\n",
    "    dim_fecha[['key_dim_fecha', 'fecha']], \n",
    "    left_on='fecha_estado', \n",
    "    right_on='fecha',\n",
    "    how='left'\n",
    ")\n",
    "\n",
    "hecho_diario = hecho_diario.merge(\n",
    "    dim_cliente[['key_dim_cliente', 'cliente_id']], \n",
    "    on='cliente_id',\n",
    "    how='left'\n",
    ")\n",
    "\n",
    "hecho_diario = hecho_diario.merge(\n",
    "    dim_mensajero[['key_dim_mensajero', 'mensajero_id']], \n",
    "    left_on='mensajero_final_id',\n",
    "    right_on='mensajero_id',\n",
    "    how='left'\n",
    ")\n",
    "\n",
    "hecho_diario = hecho_diario.merge(\n",
    "    dim_sede[['key_dim_sede', 'sede_id']],\n",
    "    on='sede_id',\n",
    "    how='left'\n",
    ")"
   ]
  },
  {
   "cell_type": "code",
   "execution_count": null,
   "metadata": {},
   "outputs": [],
   "source": [
    "# Seleccionar columnas finales\n",
    "columnas_finales = [\n",
    "    'servicio_id',\n",
    "    'key_dim_fecha',\n",
    "    'key_dim_cliente',\n",
    "    'key_dim_mensajero',\n",
    "    'key_dim_sede',\n",
    "    'tiempo_entrega'\n",
    "]\n",
    "\n",
    "hecho_diario = hecho_diario[columnas_finales]"
   ]
  },
  {
   "cell_type": "code",
   "execution_count": null,
   "metadata": {},
   "outputs": [],
   "source": [
    "# Agregar fecha de carga\n",
    "hecho_diario['saved'] = date.today()\n"
   ]
  },
  {
   "cell_type": "code",
   "execution_count": null,
   "metadata": {},
   "outputs": [],
   "source": [
    "# Verificaciones\n",
    "print(\"\\nInformación del DataFrame:\")\n",
    "print(hecho_diario.info())\n",
    "\n",
    "print(\"\\nEstadísticas de tiempo de entrega:\")\n",
    "print(hecho_diario['tiempo_entrega'].describe())\n",
    "\n",
    "print(\"\\nVerificar valores nulos:\")\n",
    "print(hecho_diario.isnull().sum())"
   ]
  },
  {
   "cell_type": "code",
   "execution_count": null,
   "metadata": {},
   "outputs": [],
   "source": [
    "# Guardar en la bodega\n",
    "hecho_diario.to_sql(\n",
    "    'hecho_entrega_servicio_diaria', \n",
    "    bodega_conn, \n",
    "    if_exists='replace', \n",
    "    index=False\n",
    ")"
   ]
  },
  {
   "cell_type": "code",
   "execution_count": null,
   "metadata": {},
   "outputs": [],
   "source": [
    "#Pregunta 1: ¿En qué meses del año los clientes solicitan más servicios de mensajería?\n",
    "\n",
    "'''\n",
    "SELECT \n",
    "    df.mes,\n",
    "    COUNT(h.servicio_id) AS total_servicios\n",
    "FROM hecho_entrega_servicio_dia h\n",
    "JOIN dim_fecha df ON h.key_dim_fecha = df.key_dim_fecha\n",
    "GROUP BY df.mes\n",
    "ORDER BY total_servicios DESC;\n",
    "'''"
   ]
  },
  {
   "cell_type": "code",
   "execution_count": null,
   "metadata": {},
   "outputs": [],
   "source": [
    "#Pregunta 2: ¿Cuáles son los días donde más solicitudes hay?\n",
    "\n",
    "'''\n",
    "SELECT \n",
    "    df.dia_semana,\n",
    "    COUNT(h.servicio_id) AS total_servicios\n",
    "FROM hecho_entrega_servicio_dia h\n",
    "JOIN dim_fecha df ON h.key_dim_fecha = df.key_dim_fecha\n",
    "GROUP BY df.dia_semana\n",
    "ORDER BY total_servicios DESC;\n",
    "'''"
   ]
  },
  {
   "cell_type": "code",
   "execution_count": null,
   "metadata": {},
   "outputs": [],
   "source": [
    "#Pregunta 3: Número de servicios solicitados por cliente y por mes\n",
    "\n",
    "'''\n",
    "SELECT \n",
    "    dc.nombre AS nombre_cliente,\n",
    "    df.mes,\n",
    "    COUNT(h.servicio_id) AS total_servicios\n",
    "FROM hecho_entrega_servicio_dia h\n",
    "JOIN dim_cliente dc ON h.key_dim_cliente = dc.key_dim_cliente\n",
    "JOIN dim_fecha df ON h.key_dim_fecha = df.key_dim_fecha\n",
    "GROUP BY dc.nombre, df.mes\n",
    "ORDER BY dc.nombre, df.mes;\n",
    "'''"
   ]
  }
 ],
 "metadata": {
  "kernelspec": {
   "display_name": "base",
   "language": "python",
   "name": "python3"
  },
  "language_info": {
   "codemirror_mode": {
    "name": "ipython",
    "version": 3
   },
   "file_extension": ".py",
   "mimetype": "text/x-python",
   "name": "python",
   "nbconvert_exporter": "python",
   "pygments_lexer": "ipython3",
   "version": "3.12.4"
  }
 },
 "nbformat": 4,
 "nbformat_minor": 2
}
