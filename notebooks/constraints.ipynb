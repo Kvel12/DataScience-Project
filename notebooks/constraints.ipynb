{
 "cells": [
  {
   "cell_type": "code",
   "id": "initial_id",
   "metadata": {
    "collapsed": true,
    "ExecuteTime": {
     "end_time": "2024-04-22T20:19:01.946911Z",
     "start_time": "2024-04-22T20:19:01.941679Z"
    }
   },
   "source": [
    ""
   ],
   "outputs": [],
   "execution_count": 41
  },
  {
   "metadata": {
    "ExecuteTime": {
     "end_time": "2024-04-22T20:19:02.027079Z",
     "start_time": "2024-04-22T20:19:02.006988Z"
    }
   },
   "cell_type": "code",
   "source": [
    "import yaml\n",
    "from sqlalchemy import create_engine, text\n",
    "from sqlalchemy.inspection import inspect\n",
    "\n",
    "with open('../config.yml', 'r') as f:\n",
    "    config = yaml.safe_load(f)\n",
    "    config_co = config['CO_SA']\n",
    "    config_etl = config['ETL_PRO']\n",
    "\n",
    "# Construct the database URL\n",
    "url_co = (f\"{config_co['drivername']}://{config_co['user']}:{config_co['password']}@{config_co['host']}:\"\n",
    "          f\"{config_co['port']}/{config_co['dbname']}\")\n",
    "url_etl = (f\"{config_etl['drivername']}://{config_etl['user']}:{config_etl['password']}@{config_etl['host']}:\"\n",
    "           f\"{config_etl['port']}/{config_etl['dbname']}\")\n",
    "# Create the SQLAlchemy Engine\n",
    "co_sa = create_engine(url_co)\n",
    "etl_conn = create_engine(url_etl)\n"
   ],
   "id": "843d602ffaab7e22",
   "outputs": [],
   "execution_count": 42
  },
  {
   "metadata": {
    "ExecuteTime": {
     "end_time": "2024-04-22T20:19:02.234870Z",
     "start_time": "2024-04-22T20:19:02.046752Z"
    }
   },
   "cell_type": "code",
   "source": [
    "inspector = inspect(etl_conn)\n",
    "tnames = inspector.get_table_names()"
   ],
   "id": "dccf7424b21dd43b",
   "outputs": [],
   "execution_count": 43
  },
  {
   "metadata": {
    "ExecuteTime": {
     "end_time": "2024-04-22T20:19:21.737154Z",
     "start_time": "2024-04-22T20:19:21.090166Z"
    }
   },
   "cell_type": "code",
   "source": [
    "with etl_conn.connect() as conn: \n",
    "    for table in tnames:\n",
    "        print(table)\n",
    "        query = text(f'ALTER TABLE {table} ADD PRIMARY KEY (key_{table})  ')\n",
    "        conn.execute(query)\n",
    "        conn.commit()\n",
    "        \n",
    "    \n",
    "        \n",
    "        \n",
    "        \n"
   ],
   "id": "6f2136fb972a4d93",
   "outputs": [
    {
     "name": "stdout",
     "output_type": "stream",
     "text": [
      "dim_persona\n",
      "hecho_atencion\n",
      "dim_medico\n",
      "dim_servicio\n",
      "dim_ips\n",
      "trans_servicio\n",
      "dim_fecha\n"
     ]
    }
   ],
   "execution_count": 45
  },
  {
   "metadata": {},
   "cell_type": "code",
   "source": "",
   "id": "269714260fd29d5f",
   "outputs": [],
   "execution_count": null
  }
 ],
 "metadata": {
  "kernelspec": {
   "display_name": "Python 3",
   "language": "python",
   "name": "python3"
  },
  "language_info": {
   "codemirror_mode": {
    "name": "ipython",
    "version": 2
   },
   "file_extension": ".py",
   "mimetype": "text/x-python",
   "name": "python",
   "nbconvert_exporter": "python",
   "pygments_lexer": "ipython2",
   "version": "2.7.6"
  }
 },
 "nbformat": 4,
 "nbformat_minor": 5
}
