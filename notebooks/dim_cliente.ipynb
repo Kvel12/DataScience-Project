{
 "cells": [
  {
   "cell_type": "code",
   "execution_count": 1,
   "metadata": {},
   "outputs": [],
   "source": [
    "from datetime import date\n",
    "import pandas as pd\n",
    "import yaml\n",
    "from sqlalchemy import create_engine\n",
    "import numpy as np"
   ]
  },
  {
   "cell_type": "code",
   "execution_count": 2,
   "metadata": {},
   "outputs": [],
   "source": [
    "# Cargar configuración\n",
    "with open('../config.yml', 'r') as f:\n",
    "    config = yaml.safe_load(f)\n",
    "    config_fuente = config['fuente']\n",
    "    config_bodega = config['bodega']\n",
    "\n",
    "# Crear conexiones\n",
    "url_fuente = f\"postgresql://{config_fuente['user']}:{config_fuente['password']}@{config_fuente['host']}:{config_fuente['port']}/{config_fuente['dbname']}\"\n",
    "url_bodega = f\"postgresql://{config_bodega['user']}:{config_bodega['password']}@{config_bodega['host']}:{config_bodega['port']}/{config_bodega['dbname']}\"\n",
    "\n",
    "fuente_conn = create_engine(url_fuente)\n",
    "bodega_conn = create_engine(url_bodega)"
   ]
  },
  {
   "cell_type": "code",
   "execution_count": 4,
   "metadata": {},
   "outputs": [],
   "source": [
    "# Consulta SQL para obtener datos de cliente junto con su tipo y ciudad\n",
    "query = \"\"\"\n",
    "SELECT \n",
    "    c.cliente_id,\n",
    "    c.nombre,\n",
    "    c.nit_cliente,\n",
    "    tc.nombre as tipo_cliente,\n",
    "    c.sector,\n",
    "    c.email,\n",
    "    c.telefono,\n",
    "    c.direccion,\n",
    "    c.nombre_contacto,\n",
    "    ci.nombre as ciudad\n",
    "FROM cliente c\n",
    "LEFT JOIN tipo_cliente tc ON c.tipo_cliente_id = tc.tipo_cliente_id\n",
    "LEFT JOIN ciudad ci ON c.ciudad_id = ci.ciudad_id\n",
    "\"\"\""
   ]
  },
  {
   "cell_type": "code",
   "execution_count": 5,
   "metadata": {},
   "outputs": [],
   "source": [
    "# Leer datos de la fuente\n",
    "dim_cliente = pd.read_sql(query, fuente_conn)"
   ]
  },
  {
   "cell_type": "code",
   "execution_count": 6,
   "metadata": {},
   "outputs": [
    {
     "name": "stdout",
     "output_type": "stream",
     "text": [
      "<class 'pandas.core.frame.DataFrame'>\n",
      "RangeIndex: 27 entries, 0 to 26\n",
      "Data columns (total 10 columns):\n",
      " #   Column           Non-Null Count  Dtype \n",
      "---  ------           --------------  ----- \n",
      " 0   cliente_id       27 non-null     int64 \n",
      " 1   nombre           27 non-null     object\n",
      " 2   nit_cliente      27 non-null     object\n",
      " 3   tipo_cliente     27 non-null     object\n",
      " 4   sector           27 non-null     object\n",
      " 5   email            27 non-null     object\n",
      " 6   telefono         27 non-null     object\n",
      " 7   direccion        27 non-null     object\n",
      " 8   nombre_contacto  27 non-null     object\n",
      " 9   ciudad           27 non-null     object\n",
      "dtypes: int64(1), object(9)\n",
      "memory usage: 2.2+ KB\n"
     ]
    }
   ],
   "source": [
    "dim_cliente.info()"
   ]
  },
  {
   "cell_type": "code",
   "execution_count": 7,
   "metadata": {},
   "outputs": [
    {
     "name": "stdout",
     "output_type": "stream",
     "text": [
      "   cliente_id                           nombre nit_cliente      tipo_cliente  \\\n",
      "0           1                        Cliente 2          25  Persona Juridica   \n",
      "1           2                        Cliente 1         123  Persona Juridica   \n",
      "2           6       CLINICA  DEPORTIVA DEL SUR     24390-3  Persona Juridica   \n",
      "3          19  HOSPITAL ORTOPEDICO DE COLOMBIA     8301821  Persona Juridica   \n",
      "4           8      CLINICA NEFROLOGOS  DE CALI   5017350-8  Persona Juridica   \n",
      "\n",
      "       sector     email   telefono           direccion    nombre_contacto  \\\n",
      "0           S  algo.com  327-00000  Calle 100 No 25-18  Cristiano Ronaldo   \n",
      "1  industrial  algo.com  327-00000  Calle 100 No 25-18  Cristiano Ronaldo   \n",
      "2       salud  algo.com  327-00000  Calle 100 No 25-18  Cristiano Ronaldo   \n",
      "3       salud  algo.com  327-00000  Calle 100 No 25-18  Cristiano Ronaldo   \n",
      "4       salud  algo.com  327-00000  Calle 100 No 25-18  Cristiano Ronaldo   \n",
      "\n",
      "  ciudad  \n",
      "0   CALI  \n",
      "1   CALI  \n",
      "2   CALI  \n",
      "3   CALI  \n",
      "4   CALI  \n"
     ]
    }
   ],
   "source": [
    "print(dim_cliente.head())"
   ]
  },
  {
   "cell_type": "code",
   "execution_count": 8,
   "metadata": {},
   "outputs": [],
   "source": [
    "#Agregar fecha de carga\n",
    "dim_cliente['saved'] = date.today()"
   ]
  },
  {
   "cell_type": "code",
   "execution_count": 11,
   "metadata": {},
   "outputs": [
    {
     "data": {
      "text/plain": [
       "27"
      ]
     },
     "execution_count": 11,
     "metadata": {},
     "output_type": "execute_result"
    }
   ],
   "source": [
    "# Cargar en la bodega de datos\n",
    "dim_cliente.to_sql('dim_cliente', bodega_conn, if_exists='replace', index_label='key_dim_cliente')"
   ]
  }
 ],
 "metadata": {
  "kernelspec": {
   "display_name": "base",
   "language": "python",
   "name": "python3"
  },
  "language_info": {
   "codemirror_mode": {
    "name": "ipython",
    "version": 3
   },
   "file_extension": ".py",
   "mimetype": "text/x-python",
   "name": "python",
   "nbconvert_exporter": "python",
   "pygments_lexer": "ipython3",
   "version": "3.12.4"
  }
 },
 "nbformat": 4,
 "nbformat_minor": 2
}
