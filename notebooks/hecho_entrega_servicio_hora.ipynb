{
 "cells": [
  {
   "cell_type": "code",
   "execution_count": 81,
   "metadata": {},
   "outputs": [],
   "source": [
    "from datetime import date\n",
    "import pandas as pd\n",
    "import numpy as np\n",
    "import yaml\n",
    "from sqlalchemy import create_engine"
   ]
  },
  {
   "cell_type": "markdown",
   "metadata": {},
   "source": [
    "# Database connections "
   ]
  },
  {
   "cell_type": "code",
   "execution_count": 82,
   "metadata": {},
   "outputs": [],
   "source": [
    "# Cargar configuración\n",
    "with open('../config.yml', 'r') as f:\n",
    "    config = yaml.safe_load(f)\n",
    "    config_fuente = config['fuente']\n",
    "    config_bodega = config['bodega']"
   ]
  },
  {
   "cell_type": "code",
   "execution_count": 83,
   "metadata": {},
   "outputs": [],
   "source": [
    "\n",
    "# Crear conexiones\n",
    "url_fuente = f\"postgresql://{config_fuente['user']}:{config_fuente['password']}@{config_fuente['host']}:{config_fuente['port']}/{config_fuente['dbname']}\"\n",
    "url_bodega = f\"postgresql://{config_bodega['user']}:{config_bodega['password']}@{config_bodega['host']}:{config_bodega['port']}/{config_bodega['dbname']}\"\n",
    "\n",
    "fuente_conn = create_engine(url_fuente)\n",
    "bodega_conn = create_engine(url_bodega)"
   ]
  },
  {
   "cell_type": "markdown",
   "metadata": {},
   "source": [
    "# SQL Query"
   ]
  },
  {
   "cell_type": "code",
   "execution_count": 84,
   "metadata": {},
   "outputs": [],
   "source": [
    "query = \"\"\"\n",
    "SELECT \n",
    "    s.id as solicitud_id,\n",
    "    s.fecha_solicitud,\n",
    "    s.hora_solicitud::time as hora,\n",
    "    s.cliente_id,\n",
    "    sede.sede_id,\n",
    "    COALESCE(s.mensajero3_id, COALESCE(s.mensajero2_id, s.mensajero_id)) AS mensajero_final_id,\n",
    "    COUNT(*) as cantidad_servicios\n",
    "FROM mensajeria_servicio s\n",
    "JOIN mensajeria_estadosservicio es \n",
    "    ON s.id = es.servicio_id\n",
    "JOIN mensajeria_origenservicio os \n",
    "    ON s.origen_id = os.id\n",
    "JOIN sede \n",
    "    ON sede.cliente_id = os.cliente_id \n",
    "    AND sede.ciudad_id = os.ciudad_id\n",
    "GROUP BY \n",
    "    solicitud_id,\n",
    "    fecha_solicitud,\n",
    "    hora,\n",
    "    s.cliente_id,\n",
    "    sede.sede_id,\n",
    "    mensajero_final_id\n",
    "ORDER BY \n",
    "    s.fecha_solicitud, hora;\n",
    "\"\"\""
   ]
  },
  {
   "cell_type": "markdown",
   "metadata": {},
   "source": [
    "# Extract"
   ]
  },
  {
   "cell_type": "code",
   "execution_count": 85,
   "metadata": {},
   "outputs": [],
   "source": [
    "# Leer datos y dimensiones\n",
    "df = pd.read_sql(query, fuente_conn)\n",
    "dim_fecha = pd.read_sql_table('dim_fecha', bodega_conn)\n",
    "dim_cliente = pd.read_sql_table('dim_cliente', bodega_conn)\n",
    "dim_mensajero = pd.read_sql_table('dim_mensajero', bodega_conn)\n",
    "dim_sede = pd.read_sql_table('dim_sede', bodega_conn)\n",
    "dim_hora = pd.read_sql_table('dim_hora', bodega_conn)"
   ]
  },
  {
   "cell_type": "code",
   "execution_count": 86,
   "metadata": {},
   "outputs": [],
   "source": [
    "# Limpiar formato de hora\n",
    "def limpiar_hora(hora_str):\n",
    "    try:\n",
    "        if '.' in str(hora_str):\n",
    "            return str(hora_str).split('.')[0]\n",
    "        return str(hora_str)\n",
    "    except:\n",
    "        return None\n",
    "\n",
    "df['hora'] = df['hora'].apply(limpiar_hora)\n"
   ]
  },
  {
   "cell_type": "code",
   "execution_count": 87,
   "metadata": {},
   "outputs": [],
   "source": [
    "# Extraer componentes de hora\n",
    "def extraer_hora(hora_str):\n",
    "    try:\n",
    "        if pd.isna(hora_str):\n",
    "            return None\n",
    "        return int(hora_str.split(':')[0])\n",
    "    except:\n",
    "        return None\n",
    "\n",
    "def extraer_minuto(hora_str):\n",
    "    try:\n",
    "        if pd.isna(hora_str):\n",
    "            return None\n",
    "        return int(hora_str.split(':')[1])\n",
    "    except:\n",
    "        return None\n",
    "\n",
    "def extraer_segundo(hora_str):\n",
    "    try:\n",
    "        if pd.isna(hora_str):\n",
    "            return None\n",
    "        return int(hora_str.split(':')[2])\n",
    "    except:\n",
    "        return None\n",
    "\n",
    "df['hora'] = df['hora'].apply(extraer_hora)\n",
    "df['minuto'] = df['hora'].apply(extraer_minuto)\n",
    "df['segundo'] = df['hora'].apply(extraer_segundo)\n"
   ]
  },
  {
   "cell_type": "markdown",
   "metadata": {},
   "source": [
    "# Transformations"
   ]
  },
  {
   "cell_type": "code",
   "execution_count": 88,
   "metadata": {},
   "outputs": [],
   "source": [
    "# Convertir fecha_estado a datetime\n",
    "df['fecha_solicitud'] = pd.to_datetime(df['fecha_solicitud']).dt.date\n",
    "dim_fecha['fecha'] = pd.to_datetime(dim_fecha['fecha']).dt.date"
   ]
  },
  {
   "cell_type": "code",
   "execution_count": 89,
   "metadata": {},
   "outputs": [],
   "source": [
    "# Realizar los merges con las dimensiones\n",
    "hecho_hora = df.merge(\n",
    "    dim_fecha[['key_dim_fecha', 'fecha']], \n",
    "    left_on='fecha_solicitud', \n",
    "    right_on='fecha',\n",
    "    how='left'\n",
    ")\n",
    "\n",
    "hecho_hora = hecho_hora.merge(\n",
    "    dim_cliente[['key_dim_cliente', 'cliente_id']], \n",
    "    on='cliente_id',\n",
    "    how='left'\n",
    ")\n",
    "\n",
    "hecho_hora = hecho_hora.merge(\n",
    "    dim_mensajero[['key_dim_mensajero', 'mensajero_id']], \n",
    "    left_on='mensajero_final_id',\n",
    "    right_on='mensajero_id',\n",
    "    how='left'\n",
    ")\n",
    "\n",
    "hecho_hora = hecho_hora.merge(\n",
    "    dim_sede[['key_dim_sede', 'id_sede']], \n",
    "    left_on='sede_id',                 \n",
    "    right_on='id_sede',                \n",
    "    how='left'\n",
    ")\n",
    "\n",
    "hecho_hora = hecho_hora.merge(\n",
    "    dim_hora[['key_dim_hora', 'hora']],\n",
    "    on='hora',\n",
    "    how='left'\n",
    ")"
   ]
  },
  {
   "cell_type": "code",
   "execution_count": 90,
   "metadata": {},
   "outputs": [
    {
     "name": "stderr",
     "output_type": "stream",
     "text": [
      "C:\\Users\\HP\\AppData\\Local\\Temp\\ipykernel_18088\\4227800117.py:11: DeprecationWarning: DataFrameGroupBy.apply operated on the grouping columns. This behavior is deprecated, and in a future version of pandas the grouping columns will be excluded from the operation. Either pass `include_groups=False` to exclude the groupings or explicitly select the grouping columns after groupby to silence this warning.\n",
      "  ]).apply(calcular_tiempo_total).reset_index(name='hora_total')\n"
     ]
    }
   ],
   "source": [
    "# Calcular tiempo total por hora\n",
    "def calcular_tiempo_total(grupo):\n",
    "    return len(grupo)  # Cantidad de servicios por hora\n",
    "\n",
    "hecho_hora_agrupado = hecho_hora.groupby([\n",
    "    'key_dim_fecha',\n",
    "    'key_dim_cliente',\n",
    "    'key_dim_sede',\n",
    "    'key_dim_mensajero',\n",
    "    'key_dim_hora'\n",
    "]).apply(calcular_tiempo_total).reset_index(name='hora_total')"
   ]
  },
  {
   "cell_type": "code",
   "execution_count": 91,
   "metadata": {},
   "outputs": [],
   "source": [
    "# Agregar fecha de carga\n",
    "hecho_hora_agrupado['saved'] = date.today()"
   ]
  },
  {
   "cell_type": "markdown",
   "metadata": {},
   "source": [
    "# Verifications"
   ]
  },
  {
   "cell_type": "code",
   "execution_count": 92,
   "metadata": {},
   "outputs": [
    {
     "name": "stdout",
     "output_type": "stream",
     "text": [
      "\n",
      "Información del DataFrame:\n",
      "<class 'pandas.core.frame.DataFrame'>\n",
      "RangeIndex: 115637 entries, 0 to 115636\n",
      "Data columns (total 7 columns):\n",
      " #   Column             Non-Null Count   Dtype  \n",
      "---  ------             --------------   -----  \n",
      " 0   key_dim_fecha      115637 non-null  int64  \n",
      " 1   key_dim_cliente    115637 non-null  int64  \n",
      " 2   key_dim_sede       115637 non-null  int64  \n",
      " 3   key_dim_mensajero  115637 non-null  float64\n",
      " 4   key_dim_hora       115637 non-null  int64  \n",
      " 5   hora_total         115637 non-null  int64  \n",
      " 6   saved              115637 non-null  object \n",
      "dtypes: float64(1), int64(5), object(1)\n",
      "memory usage: 6.2+ MB\n",
      "None\n",
      "\n",
      "Distribución de servicios por hora:\n",
      "key_dim_hora\n",
      "0     4.615108\n",
      "1     4.812903\n",
      "2     4.850163\n",
      "3     4.412556\n",
      "4     4.575107\n",
      "5     4.239130\n",
      "6     6.820022\n",
      "7     5.772283\n",
      "8     7.255247\n",
      "9     7.732807\n",
      "10    7.418313\n",
      "11    8.056496\n",
      "12    6.629150\n",
      "13    6.607655\n",
      "14    7.546015\n",
      "15    7.656119\n",
      "16    7.179348\n",
      "17    6.212675\n",
      "18    4.852231\n",
      "19    5.476056\n",
      "20    4.691796\n",
      "21    4.547771\n",
      "22    4.541667\n",
      "23    4.316498\n",
      "Name: hora_total, dtype: float64\n",
      "\n",
      "Verificar valores nulos:\n",
      "key_dim_fecha        0\n",
      "key_dim_cliente      0\n",
      "key_dim_sede         0\n",
      "key_dim_mensajero    0\n",
      "key_dim_hora         0\n",
      "hora_total           0\n",
      "saved                0\n",
      "dtype: int64\n"
     ]
    }
   ],
   "source": [
    "# Verificaciones\n",
    "print(\"\\nInformación del DataFrame:\")\n",
    "print(hecho_hora_agrupado.info())\n",
    "\n",
    "print(\"\\nDistribución de servicios por hora:\")\n",
    "print(hecho_hora_agrupado.groupby('key_dim_hora')['hora_total'].mean())\n",
    "\n",
    "print(\"\\nVerificar valores nulos:\")\n",
    "print(hecho_hora_agrupado.isnull().sum())\n"
   ]
  },
  {
   "cell_type": "markdown",
   "metadata": {},
   "source": [
    "# Load"
   ]
  },
  {
   "cell_type": "code",
   "execution_count": 93,
   "metadata": {},
   "outputs": [
    {
     "data": {
      "text/plain": [
       "637"
      ]
     },
     "execution_count": 93,
     "metadata": {},
     "output_type": "execute_result"
    }
   ],
   "source": [
    "#Guardar en la bodega\n",
    "hecho_hora_agrupado.to_sql(\n",
    "    'hecho_entrega_servicio_hora', \n",
    "    bodega_conn, \n",
    "    if_exists='replace', \n",
    "    index_label='key_hecho_entrega_hora'\n",
    ")"
   ]
  },
  {
   "cell_type": "markdown",
   "metadata": {},
   "source": [
    "# SQL Querys to response requirements"
   ]
  },
  {
   "cell_type": "code",
   "execution_count": 94,
   "metadata": {},
   "outputs": [
    {
     "data": {
      "text/plain": [
       "'\\nSELECT \\n    dh.hora AS hora_del_dia,\\n    SUM(h.hora_total) AS total_servicios\\nFROM hecho_entrega_servicio_hora h\\nJOIN dim_hora dh ON h.key_dim_hora = dh.key_dim_hora\\nGROUP BY dh.hora\\nORDER BY total_servicios DESC\\n'"
      ]
     },
     "execution_count": 94,
     "metadata": {},
     "output_type": "execute_result"
    }
   ],
   "source": [
    "#Pregunta 3: ¿A qué hora los mensajeros están más ocupados?\n",
    "'''\n",
    "SELECT \n",
    "    dh.hora AS hora_del_dia,\n",
    "    SUM(h.hora_total) AS total_servicios\n",
    "FROM hecho_entrega_servicio_hora h\n",
    "JOIN dim_hora dh ON h.key_dim_hora = dh.key_dim_hora\n",
    "GROUP BY dh.hora\n",
    "ORDER BY total_servicios DESC\n",
    "'''"
   ]
  }
 ],
 "metadata": {
  "kernelspec": {
   "display_name": "base",
   "language": "python",
   "name": "python3"
  },
  "language_info": {
   "codemirror_mode": {
    "name": "ipython",
    "version": 3
   },
   "file_extension": ".py",
   "mimetype": "text/x-python",
   "name": "python",
   "nbconvert_exporter": "python",
   "pygments_lexer": "ipython3",
   "version": "3.12.4"
  }
 },
 "nbformat": 4,
 "nbformat_minor": 2
}
