{
 "cells": [
  {
   "cell_type": "code",
   "execution_count": null,
   "metadata": {},
   "outputs": [],
   "source": [
    "from datetime import date\n",
    "import pandas as pd\n",
    "import numpy as np\n",
    "import yaml\n",
    "from sqlalchemy import create_engine"
   ]
  },
  {
   "cell_type": "code",
   "execution_count": null,
   "metadata": {},
   "outputs": [],
   "source": [
    "# Cargar configuración\n",
    "with open('../config.yml', 'r') as f:\n",
    "    config = yaml.safe_load(f)\n",
    "    config_fuente = config['fuente']\n",
    "    config_bodega = config['bodega']"
   ]
  },
  {
   "cell_type": "code",
   "execution_count": null,
   "metadata": {},
   "outputs": [],
   "source": [
    "\n",
    "# Crear conexiones\n",
    "url_fuente = f\"postgresql://{config_fuente['user']}:{config_fuente['password']}@{config_fuente['host']}:{config_fuente['port']}/{config_fuente['dbname']}\"\n",
    "url_bodega = f\"postgresql://{config_bodega['user']}:{config_bodega['password']}@{config_bodega['host']}:{config_bodega['port']}/{config_bodega['dbname']}\"\n",
    "\n",
    "fuente_conn = create_engine(url_fuente)\n",
    "bodega_conn = create_engine(url_bodega)"
   ]
  },
  {
   "cell_type": "code",
   "execution_count": null,
   "metadata": {},
   "outputs": [],
   "source": [
    "# Consulta de ejemplo para validar los datos cargados\n",
    "consulta_validacion = \"\"\"\n",
    "SELECT \n",
    "    h.hora_total,\n",
    "    f.fecha,\n",
    "    ho.hora,\n",
    "    c.nombre as cliente,\n",
    "    m.nombre as mensajero,\n",
    "    s.nombre as sede\n",
    "FROM hecho_entrega_servicio_hora h\n",
    "JOIN dim_fecha f ON h.key_dim_fecha = f.key_dim_fecha\n",
    "JOIN dim_hora ho ON h.key_dim_hora = ho.key_dim_hora\n",
    "JOIN dim_cliente c ON h.key_dim_cliente = c.key_dim_cliente\n",
    "JOIN dim_mensajero m ON h.key_dim_mensajero = m.key_dim_mensajero\n",
    "JOIN dim_sede s ON h.key_dim_sede = s.key_dim_sede\n",
    "LIMIT 5;\n",
    "\"\"\""
   ]
  },
  {
   "cell_type": "code",
   "execution_count": null,
   "metadata": {},
   "outputs": [],
   "source": [
    "# Leer datos y dimensiones\n",
    "df = pd.read_sql(query, fuente_conn)\n",
    "dim_fecha = pd.read_sql_table('dim_fecha', bodega_conn)\n",
    "dim_cliente = pd.read_sql_table('dim_cliente', bodega_conn)\n",
    "dim_mensajero = pd.read_sql_table('dim_mensajero', bodega_conn)\n",
    "dim_sede = pd.read_sql_table('dim_sede', bodega_conn)\n",
    "dim_hora = pd.read_sql_table('dim_hora', bodega_conn)"
   ]
  },
  {
   "cell_type": "code",
   "execution_count": null,
   "metadata": {},
   "outputs": [],
   "source": [
    "# Limpiar formato de hora\n",
    "def limpiar_hora(hora_str):\n",
    "    try:\n",
    "        if '.' in str(hora_str):\n",
    "            return str(hora_str).split('.')[0]\n",
    "        return str(hora_str)\n",
    "    except:\n",
    "        return None\n",
    "\n",
    "df['hora_estado'] = df['hora_estado'].apply(limpiar_hora)\n"
   ]
  },
  {
   "cell_type": "code",
   "execution_count": null,
   "metadata": {},
   "outputs": [],
   "source": [
    "# Extraer componentes de hora\n",
    "def extraer_hora(hora_str):\n",
    "    try:\n",
    "        if pd.isna(hora_str):\n",
    "            return None\n",
    "        return int(hora_str.split(':')[0])\n",
    "    except:\n",
    "        return None\n",
    "\n",
    "def extraer_minuto(hora_str):\n",
    "    try:\n",
    "        if pd.isna(hora_str):\n",
    "            return None\n",
    "        return int(hora_str.split(':')[1])\n",
    "    except:\n",
    "        return None\n",
    "\n",
    "def extraer_segundo(hora_str):\n",
    "    try:\n",
    "        if pd.isna(hora_str):\n",
    "            return None\n",
    "        return int(hora_str.split(':')[2])\n",
    "    except:\n",
    "        return None\n",
    "\n",
    "df['hora'] = df['hora_estado'].apply(extraer_hora)\n",
    "df['minuto'] = df['hora_estado'].apply(extraer_minuto)\n",
    "df['segundo'] = df['hora_estado'].apply(extraer_segundo)\n"
   ]
  },
  {
   "cell_type": "code",
   "execution_count": null,
   "metadata": {},
   "outputs": [],
   "source": [
    "# Convertir fecha_estado a datetime\n",
    "df['fecha_estado'] = pd.to_datetime(df['fecha_estado']).dt.date\n",
    "dim_fecha['fecha'] = pd.to_datetime(dim_fecha['fecha']).dt.date"
   ]
  },
  {
   "cell_type": "code",
   "execution_count": null,
   "metadata": {},
   "outputs": [],
   "source": [
    "# Realizar los merges con las dimensiones\n",
    "hecho_hora = df.merge(\n",
    "    dim_fecha[['key_dim_fecha', 'fecha']], \n",
    "    left_on='fecha_estado', \n",
    "    right_on='fecha',\n",
    "    how='left'\n",
    ")\n",
    "\n",
    "hecho_hora = hecho_hora.merge(\n",
    "    dim_cliente[['key_dim_cliente', 'cliente_id']], \n",
    "    on='cliente_id',\n",
    "    how='left'\n",
    ")\n",
    "\n",
    "hecho_hora = hecho_hora.merge(\n",
    "    dim_mensajero[['key_dim_mensajero', 'mensajero_id']], \n",
    "    left_on='mensajero_final_id',\n",
    "    right_on='mensajero_id',\n",
    "    how='left'\n",
    ")\n",
    "\n",
    "hecho_hora = hecho_hora.merge(\n",
    "    dim_sede[['key_dim_sede', 'sede_id']],\n",
    "    on='sede_id',\n",
    "    how='left'\n",
    ")\n",
    "\n",
    "hecho_hora = hecho_hora.merge(\n",
    "    dim_hora[['key_dim_hora', 'hora']],\n",
    "    on='hora',\n",
    "    how='left'\n",
    ")"
   ]
  },
  {
   "cell_type": "code",
   "execution_count": null,
   "metadata": {},
   "outputs": [],
   "source": [
    "# Calcular tiempo total por hora\n",
    "def calcular_tiempo_total(grupo):\n",
    "    return len(grupo)  # Cantidad de servicios por hora\n",
    "\n",
    "hecho_hora_agrupado = hecho_hora.groupby([\n",
    "    'key_dim_fecha',\n",
    "    'key_dim_cliente',\n",
    "    'key_dim_sede',\n",
    "    'key_dim_mensajero',\n",
    "    'key_dim_hora'\n",
    "]).apply(calcular_tiempo_total).reset_index(name='hora_total')"
   ]
  },
  {
   "cell_type": "code",
   "execution_count": null,
   "metadata": {},
   "outputs": [],
   "source": [
    "# Agregar fecha de carga\n",
    "hecho_hora_agrupado['saved'] = date.today()"
   ]
  },
  {
   "cell_type": "code",
   "execution_count": null,
   "metadata": {},
   "outputs": [],
   "source": [
    "# Verificaciones\n",
    "print(\"\\nInformación del DataFrame:\")\n",
    "print(hecho_hora_agrupado.info())\n",
    "\n",
    "print(\"\\nDistribución de servicios por hora:\")\n",
    "print(hecho_hora_agrupado.groupby('key_dim_hora')['hora_total'].mean())\n",
    "\n",
    "print(\"\\nVerificar valores nulos:\")\n",
    "print(hecho_hora_agrupado.isnull().sum())\n"
   ]
  },
  {
   "cell_type": "code",
   "execution_count": null,
   "metadata": {},
   "outputs": [],
   "source": [
    "#Guardar en la bodega\n",
    "hecho_hora_agrupado.to_sql(\n",
    "    'hecho_entrega_servicio_hora', \n",
    "    bodega_conn, \n",
    "    if_exists='replace', \n",
    "    index=False\n",
    ")"
   ]
  }
 ],
 "metadata": {
  "kernelspec": {
   "display_name": "base",
   "language": "python",
   "name": "python3"
  },
  "language_info": {
   "codemirror_mode": {
    "name": "ipython",
    "version": 3
   },
   "file_extension": ".py",
   "mimetype": "text/x-python",
   "name": "python",
   "nbconvert_exporter": "python",
   "pygments_lexer": "ipython3",
   "version": "3.12.4"
  }
 },
 "nbformat": 4,
 "nbformat_minor": 2
}
