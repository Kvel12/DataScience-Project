{
 "cells": [
  {
   "cell_type": "code",
   "execution_count": 26,
   "metadata": {},
   "outputs": [],
   "source": [
    "from datetime import date\n",
    "import pandas as pd\n",
    "import numpy as np\n",
    "import yaml\n",
    "from sqlalchemy import create_engine"
   ]
  },
  {
   "cell_type": "markdown",
   "metadata": {},
   "source": [
    "# Database connections "
   ]
  },
  {
   "cell_type": "code",
   "execution_count": 27,
   "metadata": {},
   "outputs": [],
   "source": [
    "# Cargar configuración\n",
    "with open('../config.yml', 'r') as f:\n",
    "    config = yaml.safe_load(f)\n",
    "    config_fuente = config['fuente']\n",
    "    config_bodega = config['bodega']\n",
    "\n",
    "# Crear conexiones\n",
    "url_fuente = f\"postgresql://{config_fuente['user']}:{config_fuente['password']}@{config_fuente['host']}:{config_fuente['port']}/{config_fuente['dbname']}\"\n",
    "url_bodega = f\"postgresql://{config_bodega['user']}:{config_bodega['password']}@{config_bodega['host']}:{config_bodega['port']}/{config_bodega['dbname']}\"\n",
    "\n",
    "fuente_conn = create_engine(url_fuente)\n",
    "bodega_conn = create_engine(url_bodega)"
   ]
  },
  {
   "cell_type": "markdown",
   "metadata": {},
   "source": [
    "# SQL Query"
   ]
  },
  {
   "cell_type": "code",
   "execution_count": 28,
   "metadata": {},
   "outputs": [],
   "source": [
    "# Consulta de ejemplo para validar los datos cargados\n",
    "query = \"\"\"\n",
    "SELECT \n",
    "    ha.servicio_id,\n",
    "    ha.key_dim_fecha,\n",
    "    ha.key_dim_cliente,\n",
    "    ha.key_dim_mensajero,\n",
    "    ha.key_dim_hora,\n",
    "    ds.key_dim_sede,\n",
    "    EXTRACT(HOUR FROM ha.hora_iniciado::time) as hora_servicio\n",
    "FROM hecho_entrega_acumulado ha\n",
    "JOIN dim_cliente dc ON ha.key_dim_cliente = dc.key_dim_cliente\n",
    "JOIN dim_sede ds ON dc.cliente_id = ds.sede_id\n",
    "WHERE ha.hora_iniciado IS NOT NULL\n",
    "\"\"\""
   ]
  },
  {
   "cell_type": "markdown",
   "metadata": {},
   "source": [
    "# Extract"
   ]
  },
  {
   "cell_type": "code",
   "execution_count": 29,
   "metadata": {},
   "outputs": [],
   "source": [
    "# Leer datos\n",
    "df_servicios = pd.read_sql(query, bodega_conn)"
   ]
  },
  {
   "cell_type": "code",
   "execution_count": 30,
   "metadata": {},
   "outputs": [
    {
     "name": "stdout",
     "output_type": "stream",
     "text": [
      "Total servicios extraídos: 28428\n",
      "\n",
      "Distribución de horas:\n",
      "hora_servicio\n",
      "0.0      146\n",
      "1.0      164\n",
      "2.0      156\n",
      "3.0      107\n",
      "4.0      103\n",
      "5.0      138\n",
      "6.0      901\n",
      "7.0     1066\n",
      "8.0     2636\n",
      "9.0     3391\n",
      "10.0    2932\n",
      "11.0    3297\n",
      "12.0    1719\n",
      "13.0    1465\n",
      "14.0    2573\n",
      "15.0    2658\n",
      "16.0    2122\n",
      "17.0    1357\n",
      "18.0     442\n",
      "19.0     346\n",
      "20.0     224\n",
      "21.0     176\n",
      "22.0     154\n",
      "23.0     155\n",
      "Name: count, dtype: int64\n"
     ]
    }
   ],
   "source": [
    "print(\"Total servicios extraídos:\", len(df_servicios))\n",
    "print(\"\\nDistribución de horas:\")\n",
    "print(df_servicios['hora_servicio'].value_counts().sort_index())"
   ]
  },
  {
   "cell_type": "code",
   "execution_count": 31,
   "metadata": {},
   "outputs": [],
   "source": [
    "hecho_hora = df_servicios.groupby([\n",
    "    'key_dim_fecha',\n",
    "    'key_dim_cliente',\n",
    "    'key_dim_sede',\n",
    "    'key_dim_mensajero',\n",
    "    'key_dim_hora',\n",
    "    'servicio_id'\n",
    "]).size().reset_index(name='cantidad_servicios')"
   ]
  },
  {
   "cell_type": "markdown",
   "metadata": {},
   "source": [
    "# Verifications"
   ]
  },
  {
   "cell_type": "code",
   "execution_count": 36,
   "metadata": {},
   "outputs": [
    {
     "name": "stdout",
     "output_type": "stream",
     "text": [
      "\n",
      "Muestra de datos a cargar:\n",
      "   key_dim_fecha  key_dim_cliente  key_dim_sede  key_dim_mensajero  \\\n",
      "0          261.0                7            16                0.0   \n",
      "1          261.0                7            16               13.0   \n",
      "2          261.0                7            16               13.0   \n",
      "3          261.0                7            16               13.0   \n",
      "4          261.0                7            16               13.0   \n",
      "\n",
      "   key_dim_hora  servicio_id  cantidad_servicios       saved  \n",
      "0          16.0            7                   1  2024-11-10  \n",
      "1          16.0            8                   1  2024-11-10  \n",
      "2          16.0            9                   1  2024-11-10  \n",
      "3          16.0           10                   1  2024-11-10  \n",
      "4          16.0           11                   1  2024-11-10  \n",
      "\n",
      "Información de columnas:\n",
      "<class 'pandas.core.frame.DataFrame'>\n",
      "RangeIndex: 27701 entries, 0 to 27700\n",
      "Data columns (total 8 columns):\n",
      " #   Column              Non-Null Count  Dtype  \n",
      "---  ------              --------------  -----  \n",
      " 0   key_dim_fecha       27701 non-null  float64\n",
      " 1   key_dim_cliente     27701 non-null  int64  \n",
      " 2   key_dim_sede        27701 non-null  int64  \n",
      " 3   key_dim_mensajero   27701 non-null  float64\n",
      " 4   key_dim_hora        27701 non-null  float64\n",
      " 5   servicio_id         27701 non-null  int64  \n",
      " 6   cantidad_servicios  27701 non-null  int64  \n",
      " 7   saved               27701 non-null  object \n",
      "dtypes: float64(3), int64(4), object(1)\n",
      "memory usage: 1.7+ MB\n",
      "None\n"
     ]
    }
   ],
   "source": [
    "print(\"\\nEstadísticas de agregación:\")\n",
    "print(f\"Total registros agregados: {len(hecho_hora)}\")\n",
    "print(\"\\nDistribución de cantidad de servicios:\")\n",
    "print(hecho_hora['cantidad_servicios'].value_counts())"
   ]
  },
  {
   "cell_type": "code",
   "execution_count": 37,
   "metadata": {},
   "outputs": [
    {
     "data": {
      "text/plain": [
       "701"
      ]
     },
     "execution_count": 37,
     "metadata": {},
     "output_type": "execute_result"
    }
   ],
   "source": [
    "# Agregar fecha de carga\n",
    "hecho_hora['saved'] = date.today()"
   ]
  },
  {
   "cell_type": "code",
   "execution_count": 36,
   "metadata": {},
   "outputs": [
    {
     "name": "stdout",
     "output_type": "stream",
     "text": [
      "\n",
      "Muestra de datos a cargar:\n",
      "   key_dim_fecha  key_dim_cliente  key_dim_sede  key_dim_mensajero  \\\n",
      "0          261.0                7            16                0.0   \n",
      "1          261.0                7            16               13.0   \n",
      "2          261.0                7            16               13.0   \n",
      "3          261.0                7            16               13.0   \n",
      "4          261.0                7            16               13.0   \n",
      "\n",
      "   key_dim_hora  servicio_id  cantidad_servicios       saved  \n",
      "0          16.0            7                   1  2024-11-10  \n",
      "1          16.0            8                   1  2024-11-10  \n",
      "2          16.0            9                   1  2024-11-10  \n",
      "3          16.0           10                   1  2024-11-10  \n",
      "4          16.0           11                   1  2024-11-10  \n",
      "\n",
      "Información de columnas:\n",
      "<class 'pandas.core.frame.DataFrame'>\n",
      "RangeIndex: 27701 entries, 0 to 27700\n",
      "Data columns (total 8 columns):\n",
      " #   Column              Non-Null Count  Dtype  \n",
      "---  ------              --------------  -----  \n",
      " 0   key_dim_fecha       27701 non-null  float64\n",
      " 1   key_dim_cliente     27701 non-null  int64  \n",
      " 2   key_dim_sede        27701 non-null  int64  \n",
      " 3   key_dim_mensajero   27701 non-null  float64\n",
      " 4   key_dim_hora        27701 non-null  float64\n",
      " 5   servicio_id         27701 non-null  int64  \n",
      " 6   cantidad_servicios  27701 non-null  int64  \n",
      " 7   saved               27701 non-null  object \n",
      "dtypes: float64(3), int64(4), object(1)\n",
      "memory usage: 1.7+ MB\n",
      "None\n"
     ]
    }
   ],
   "source": [
    "# Verificar datos antes de cargar\n",
    "print(\"\\nMuestra de datos a cargar:\")\n",
    "print(hecho_hora.head())\n",
    "print(\"\\nInformación de columnas:\")\n",
    "print(hecho_hora.info())"
   ]
  },
  {
   "cell_type": "markdown",
   "metadata": {},
   "source": [
    "# Load"
   ]
  },
  {
   "cell_type": "code",
   "execution_count": 40,
   "metadata": {},
   "outputs": [
    {
     "data": {
      "text/plain": [
       "701"
      ]
     },
     "execution_count": 37,
     "metadata": {},
     "output_type": "execute_result"
    }
   ],
   "source": [
    "# Guardar en la bodega\n",
    "hecho_hora.to_sql('hecho_entrega_servicio_hora', bodega_conn, if_exists='replace', index_label='key_hecho_entrega_servicio_hora')"
   ]
  },
  {
   "cell_type": "markdown",
   "metadata": {},
   "source": [
    "# SQL Querys to response requirements"
   ]
  },
  {
   "cell_type": "code",
   "execution_count": null,
   "metadata": {},
   "outputs": [
    {
     "data": {
      "text/plain": [
       "\"\\nWITH servicios_por_hora AS (\\n    SELECT \\n        dh.hora,\\n        dh.periodo_dia,\\n        COUNT(h.servicio_id) as total_servicios,\\n        ROUND((COUNT(h.servicio_id)::numeric / SUM(COUNT(h.servicio_id)) OVER ()) * 100, 2) as porcentaje\\n    FROM hecho_entrega_servicio_hora h\\n    JOIN dim_hora dh ON h.key_dim_hora = dh.key_dim_hora\\n    GROUP BY dh.hora, dh.periodo_dia\\n)\\nSELECT \\n    hora,\\n    periodo_dia,\\n    total_servicios,\\n    porcentaje || '%' as porcentaje_servicios\\nFROM servicios_por_hora\\nORDER BY total_servicios DESC;\\n\""
      ]
     },
     "execution_count": 38,
     "metadata": {},
     "output_type": "execute_result"
    }
   ],
   "source": [
    "# Pregunta 3: ¿A qué hora los mensajeros están más ocupados?\n",
    "\"\"\"\n",
    "WITH servicios_por_hora AS (\n",
    "    SELECT \n",
    "        dh.hora,\n",
    "        dh.periodo_dia,\n",
    "        COUNT(h.servicio_id) as total_servicios,\n",
    "        ROUND((COUNT(h.servicio_id)::numeric / SUM(COUNT(h.servicio_id)) OVER ()) * 100, 2) as porcentaje\n",
    "    FROM hecho_entrega_servicio_hora h\n",
    "    JOIN dim_hora dh ON h.key_dim_hora = dh.key_dim_hora\n",
    "    GROUP BY dh.hora, dh.periodo_dia\n",
    ")\n",
    "SELECT \n",
    "    hora,\n",
    "    periodo_dia,\n",
    "    total_servicios,\n",
    "    porcentaje || '%' as porcentaje_servicios\n",
    "FROM servicios_por_hora\n",
    "ORDER BY total_servicios DESC;\n",
    "\"\"\""
   ]
  },
  {
   "cell_type": "code",
   "execution_count": null,
   "metadata": {},
   "outputs": [
    {
     "data": {
      "text/plain": [
       "\"\\nSELECT \\n    c.cliente_id,\\n    c.nombre as nombre_cliente,\\n    EXTRACT(YEAR FROM df.fecha)::integer as año,\\n    CASE EXTRACT(MONTH FROM df.fecha)::integer\\n        WHEN 1 THEN 'Enero'\\n        WHEN 2 THEN 'Febrero'\\n        WHEN 3 THEN 'Marzo'\\n        WHEN 4 THEN 'Abril'\\n        WHEN 5 THEN 'Mayo'\\n        WHEN 6 THEN 'Junio'\\n        WHEN 7 THEN 'Julio'\\n        WHEN 8 THEN 'Agosto'\\n        WHEN 9 THEN 'Septiembre'\\n        WHEN 10 THEN 'Octubre'\\n        WHEN 11 THEN 'Noviembre'\\n        WHEN 12 THEN 'Diciembre'\\n    END as mes,\\n    COUNT(h.servicio_id) as total_servicios\\nFROM hecho_entrega_servicio_hora h\\nJOIN dim_fecha df ON h.key_dim_fecha = df.key_dim_fecha\\nJOIN dim_cliente c ON h.key_dim_cliente = c.key_dim_cliente\\nGROUP BY \\n    c.cliente_id, \\n    c.nombre,\\n    EXTRACT(YEAR FROM df.fecha),\\n    EXTRACT(MONTH FROM df.fecha)\\nORDER BY \\n    c.cliente_id, \\n    año, \\n    EXTRACT(MONTH FROM df.fecha);\\n\""
      ]
     },
     "execution_count": 39,
     "metadata": {},
     "output_type": "execute_result"
    }
   ],
   "source": [
    "# Pregunta 4: ¿Número de servicios solicitados por cliente y por mes?\n",
    "\"\"\"\n",
    "SELECT \n",
    "    c.cliente_id,\n",
    "    c.nombre as nombre_cliente,\n",
    "    EXTRACT(YEAR FROM df.fecha)::integer as año,\n",
    "    CASE EXTRACT(MONTH FROM df.fecha)::integer\n",
    "        WHEN 1 THEN 'Enero'\n",
    "        WHEN 2 THEN 'Febrero'\n",
    "        WHEN 3 THEN 'Marzo'\n",
    "        WHEN 4 THEN 'Abril'\n",
    "        WHEN 5 THEN 'Mayo'\n",
    "        WHEN 6 THEN 'Junio'\n",
    "        WHEN 7 THEN 'Julio'\n",
    "        WHEN 8 THEN 'Agosto'\n",
    "        WHEN 9 THEN 'Septiembre'\n",
    "        WHEN 10 THEN 'Octubre'\n",
    "        WHEN 11 THEN 'Noviembre'\n",
    "        WHEN 12 THEN 'Diciembre'\n",
    "    END as mes,\n",
    "    COUNT(h.servicio_id) as total_servicios\n",
    "FROM hecho_entrega_servicio_hora h\n",
    "JOIN dim_fecha df ON h.key_dim_fecha = df.key_dim_fecha\n",
    "JOIN dim_cliente c ON h.key_dim_cliente = c.key_dim_cliente\n",
    "GROUP BY \n",
    "    c.cliente_id, \n",
    "    c.nombre,\n",
    "    EXTRACT(YEAR FROM df.fecha),\n",
    "    EXTRACT(MONTH FROM df.fecha)\n",
    "ORDER BY \n",
    "    c.cliente_id, \n",
    "    año, \n",
    "    EXTRACT(MONTH FROM df.fecha);\n",
    "\"\"\""
   ]
  },
  {
   "cell_type": "code",
   "execution_count": null,
   "metadata": {},
   "outputs": [
    {
     "data": {
      "text/plain": [
       "\"\\nWITH totales_cliente AS (\\n    -- Primero calculamos el total de servicios por cliente\\n    SELECT \\n        c.cliente_id,\\n        c.nombre as nombre_cliente,\\n        COUNT(h.servicio_id) as total_servicios_cliente\\n    FROM hecho_entrega_servicio_hora h\\n    JOIN dim_cliente c ON h.key_dim_cliente = c.key_dim_cliente\\n    GROUP BY c.cliente_id, c.nombre\\n),\\nservicios_sede AS (\\n    SELECT \\n        c.cliente_id,\\n        c.nombre as nombre_cliente,\\n        s.sede_id,\\n        s.nombre_sede,\\n        COUNT(h.servicio_id) as total_servicios_sede,\\n        RANK() OVER (PARTITION BY c.cliente_id ORDER BY COUNT(h.servicio_id) DESC) as ranking\\n    FROM hecho_entrega_servicio_hora h\\n    JOIN dim_cliente c ON h.key_dim_cliente = c.key_dim_cliente\\n    JOIN dim_sede s ON h.key_dim_sede = s.key_dim_sede\\n    GROUP BY \\n        c.cliente_id,\\n        c.nombre,\\n        s.sede_id,\\n        s.nombre_sede\\n)\\nSELECT \\n    ss.cliente_id,\\n    ss.nombre_cliente,\\n    ss.sede_id,\\n    ss.nombre_sede,\\n    ss.total_servicios_sede as servicios_en_sede,\\n    tc.total_servicios_cliente as total_servicios_cliente,\\n    ROUND((ss.total_servicios_sede::numeric / tc.total_servicios_cliente::numeric) * 100, 2) || '%' as porcentaje_del_total\\nFROM servicios_sede ss\\nJOIN totales_cliente tc ON ss.cliente_id = tc.cliente_id\\nWHERE ss.ranking = 1\\nORDER BY ss.total_servicios_sede DESC;\\n\""
      ]
     },
     "execution_count": 40,
     "metadata": {},
     "output_type": "execute_result"
    }
   ],
   "source": [
    "# Pregunta 6: ¿Cuáles son las sedes que más servicios solicitan por cada cliente?\n",
    "\"\"\"\n",
    "WITH totales_cliente AS (\n",
    "    SELECT \n",
    "        c.cliente_id,\n",
    "        c.nombre as nombre_cliente,\n",
    "        COUNT(h.servicio_id) as total_servicios_cliente\n",
    "    FROM hecho_entrega_servicio_hora h\n",
    "    JOIN dim_cliente c ON h.key_dim_cliente = c.key_dim_cliente\n",
    "    GROUP BY c.cliente_id, c.nombre\n",
    "),\n",
    "servicios_sede AS (\n",
    "    SELECT \n",
    "        c.cliente_id,\n",
    "        c.nombre as nombre_cliente,\n",
    "        s.sede_id,\n",
    "        s.nombre_sede,\n",
    "        COUNT(h.servicio_id) as total_servicios_sede,\n",
    "        RANK() OVER (PARTITION BY c.cliente_id ORDER BY COUNT(h.servicio_id) DESC) as ranking\n",
    "    FROM hecho_entrega_servicio_hora h\n",
    "    JOIN dim_cliente c ON h.key_dim_cliente = c.key_dim_cliente\n",
    "    JOIN dim_sede s ON h.key_dim_sede = s.key_dim_sede\n",
    "    GROUP BY \n",
    "        c.cliente_id,\n",
    "        c.nombre,\n",
    "        s.sede_id,\n",
    "        s.nombre_sede\n",
    ")\n",
    "SELECT \n",
    "    ss.cliente_id,\n",
    "    ss.nombre_cliente,\n",
    "    ss.sede_id,\n",
    "    ss.nombre_sede,\n",
    "    ss.total_servicios_sede as servicios_en_sede,\n",
    "    tc.total_servicios_cliente as total_servicios_cliente,\n",
    "    ROUND((ss.total_servicios_sede::numeric / tc.total_servicios_cliente::numeric) * 100, 2) || '%' as porcentaje_del_total\n",
    "FROM servicios_sede ss\n",
    "JOIN totales_cliente tc ON ss.cliente_id = tc.cliente_id\n",
    "WHERE ss.ranking = 1\n",
    "ORDER BY ss.total_servicios_sede DESC;\n",
    "\"\"\""
   ]
  }
 ],
 "metadata": {
  "kernelspec": {
   "display_name": "my_env",
   "language": "python",
   "name": "python3"
  },
  "language_info": {
   "codemirror_mode": {
    "name": "ipython",
    "version": 3
   },
   "file_extension": ".py",
   "mimetype": "text/x-python",
   "name": "python",
   "nbconvert_exporter": "python",
   "pygments_lexer": "ipython3",
   "version": "3.10.0"
  }
 },
 "nbformat": 4,
 "nbformat_minor": 2
}
