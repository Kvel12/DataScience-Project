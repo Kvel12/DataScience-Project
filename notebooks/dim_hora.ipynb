{
 "cells": [
  {
   "cell_type": "code",
   "execution_count": 1,
   "id": "initial_id",
   "metadata": {
    "ExecuteTime": {
     "end_time": "2024-09-17T12:44:55.227593Z",
     "start_time": "2024-09-17T12:44:55.225101Z"
    },
    "collapsed": true
   },
   "outputs": [],
   "source": [
    "from datetime import date, datetime, time\n",
    "import pandas as pd\n",
    "import numpy as np\n",
    "import yaml\n",
    "from sqlalchemy import create_engine, inspect, text"
   ]
  },
  {
   "cell_type": "code",
   "execution_count": 2,
   "id": "e27f61fb",
   "metadata": {},
   "outputs": [],
   "source": [
    "# Cargar configuración\n",
    "with open('../config.yml', 'r') as f:\n",
    "    config = yaml.safe_load(f)\n",
    "    config_bodega = config['bodega']\n",
    "\n",
    "# Crear conexión a la bodega\n",
    "url_bodega = f\"postgresql://{config_bodega['user']}:{config_bodega['password']}@{config_bodega['host']}:{config_bodega['port']}/{config_bodega['dbname']}\"\n",
    "bodega_conn = create_engine(url_bodega)"
   ]
  },
  {
   "cell_type": "code",
   "execution_count": 3,
   "id": "d625343d",
   "metadata": {},
   "outputs": [],
   "source": [
    "# Crear datos para la dimensión hora\n",
    "def get_periodo_dia(hora):\n",
    "    if 0 <= hora < 6:\n",
    "        return 'Madrugada'\n",
    "    elif 6 <= hora < 12:\n",
    "        return 'Mañana'\n",
    "    elif 12 <= hora < 18:\n",
    "        return 'Tarde'\n",
    "    else:\n",
    "        return 'Noche'"
   ]
  },
  {
   "cell_type": "code",
   "execution_count": 4,
   "id": "88acce7e",
   "metadata": {},
   "outputs": [],
   "source": [
    "horas = []\n",
    "for hora in range(24):\n",
    "    horas.append({\n",
    "        'hora': hora,\n",
    "        'periodo_dia': get_periodo_dia(hora)\n",
    "    })"
   ]
  },
  {
   "cell_type": "code",
   "execution_count": 5,
   "id": "a6948741",
   "metadata": {},
   "outputs": [],
   "source": [
    "# Crear DataFrame\n",
    "dim_hora = pd.DataFrame(horas)"
   ]
  },
  {
   "cell_type": "code",
   "execution_count": 6,
   "id": "fdd3eac0",
   "metadata": {},
   "outputs": [],
   "source": [
    "# Agregar fecha de carga\n",
    "dim_hora['saved'] = date.today()"
   ]
  },
  {
   "cell_type": "code",
   "execution_count": 7,
   "id": "e0685f81",
   "metadata": {},
   "outputs": [
    {
     "name": "stdout",
     "output_type": "stream",
     "text": [
      "\n",
      "Información del DataFrame:\n",
      "<class 'pandas.core.frame.DataFrame'>\n",
      "RangeIndex: 24 entries, 0 to 23\n",
      "Data columns (total 3 columns):\n",
      " #   Column       Non-Null Count  Dtype \n",
      "---  ------       --------------  ----- \n",
      " 0   hora         24 non-null     int64 \n",
      " 1   periodo_dia  24 non-null     object\n",
      " 2   saved        24 non-null     object\n",
      "dtypes: int64(1), object(2)\n",
      "memory usage: 704.0+ bytes\n",
      "None\n"
     ]
    }
   ],
   "source": [
    "# Verificar los datos\n",
    "print(\"\\nInformación del DataFrame:\")\n",
    "print(dim_hora.info())"
   ]
  },
  {
   "cell_type": "code",
   "execution_count": 8,
   "id": "4c55231e",
   "metadata": {},
   "outputs": [
    {
     "name": "stdout",
     "output_type": "stream",
     "text": [
      "\n",
      "Muestra de los datos:\n",
      "   hora periodo_dia       saved\n",
      "0     0   Madrugada  2024-11-08\n",
      "1     1   Madrugada  2024-11-08\n",
      "2     2   Madrugada  2024-11-08\n",
      "3     3   Madrugada  2024-11-08\n",
      "4     4   Madrugada  2024-11-08\n"
     ]
    }
   ],
   "source": [
    "print(\"\\nMuestra de los datos:\")\n",
    "print(dim_hora.head())"
   ]
  },
  {
   "cell_type": "code",
   "execution_count": 9,
   "id": "7ebd7c4f",
   "metadata": {},
   "outputs": [
    {
     "data": {
      "text/plain": [
       "24"
      ]
     },
     "execution_count": 9,
     "metadata": {},
     "output_type": "execute_result"
    }
   ],
   "source": [
    "# Cargar en la bodega\n",
    "dim_hora.to_sql('dim_hora', bodega_conn, if_exists='replace', index_label='key_dim_hora')"
   ]
  },
  {
   "cell_type": "code",
   "execution_count": 10,
   "id": "e7c43c81",
   "metadata": {},
   "outputs": [
    {
     "name": "stdout",
     "output_type": "stream",
     "text": [
      "\n",
      "Distribución de periodos del día:\n",
      "periodo_dia\n",
      "Madrugada    6\n",
      "Mañana       6\n",
      "Tarde        6\n",
      "Noche        6\n",
      "Name: count, dtype: int64\n"
     ]
    }
   ],
   "source": [
    "# Verificar algunos valores\n",
    "print(\"\\nDistribución de periodos del día:\")\n",
    "print(dim_hora['periodo_dia'].value_counts())"
   ]
  },
  {
   "cell_type": "code",
   "execution_count": 11,
   "id": "5ce1638e",
   "metadata": {},
   "outputs": [
    {
     "name": "stdout",
     "output_type": "stream",
     "text": [
      "\n",
      "Rango de horas:\n",
      "Mínima: 0\n",
      "Máxima: 23\n"
     ]
    }
   ],
   "source": [
    "print(\"\\nRango de horas:\")\n",
    "print(f\"Mínima: {dim_hora['hora'].min()}\")\n",
    "print(f\"Máxima: {dim_hora['hora'].max()}\")"
   ]
  },
  {
   "cell_type": "code",
   "execution_count": 12,
   "id": "322f6933",
   "metadata": {},
   "outputs": [
    {
     "name": "stdout",
     "output_type": "stream",
     "text": [
      "\n",
      "Ejemplos de diferentes períodos del día:\n",
      "\n",
      "Madrugada:\n",
      "   hora periodo_dia       saved\n",
      "0     0   Madrugada  2024-11-08\n",
      "1     1   Madrugada  2024-11-08\n",
      "2     2   Madrugada  2024-11-08\n",
      "\n",
      "Mañana:\n",
      "   hora periodo_dia       saved\n",
      "6     6      Mañana  2024-11-08\n",
      "7     7      Mañana  2024-11-08\n",
      "8     8      Mañana  2024-11-08\n",
      "\n",
      "Tarde:\n",
      "    hora periodo_dia       saved\n",
      "12    12       Tarde  2024-11-08\n",
      "13    13       Tarde  2024-11-08\n",
      "14    14       Tarde  2024-11-08\n",
      "\n",
      "Noche:\n",
      "    hora periodo_dia       saved\n",
      "18    18       Noche  2024-11-08\n",
      "19    19       Noche  2024-11-08\n",
      "20    20       Noche  2024-11-08\n"
     ]
    }
   ],
   "source": [
    "# Verificación de datos\n",
    "print(\"\\nEjemplos de diferentes períodos del día:\")\n",
    "for periodo in ['Madrugada', 'Mañana', 'Tarde', 'Noche']:\n",
    "    print(f\"\\n{periodo}:\")\n",
    "    print(dim_hora[dim_hora['periodo_dia'] == periodo].head(3))"
   ]
  },
  {
   "cell_type": "markdown",
   "id": "3de7b1fcf2a91aec",
   "metadata": {},
   "source": [
    "Para inicializar la dimension creamos un dataframe donde vamos a añadir las fechas y demas campos                   "
   ]
  },
  {
   "cell_type": "code",
   "execution_count": 4,
   "id": "107951f26f65fdcd",
   "metadata": {
    "ExecuteTime": {
     "end_time": "2024-09-17T12:44:55.289769Z",
     "start_time": "2024-09-17T12:44:55.282109Z"
    }
   },
   "outputs": [
    {
     "data": {
      "text/html": [
       "<div>\n",
       "<style scoped>\n",
       "    .dataframe tbody tr th:only-of-type {\n",
       "        vertical-align: middle;\n",
       "    }\n",
       "\n",
       "    .dataframe tbody tr th {\n",
       "        vertical-align: top;\n",
       "    }\n",
       "\n",
       "    .dataframe thead th {\n",
       "        text-align: right;\n",
       "    }\n",
       "</style>\n",
       "<table border=\"1\" class=\"dataframe\">\n",
       "  <thead>\n",
       "    <tr style=\"text-align: right;\">\n",
       "      <th></th>\n",
       "      <th>date</th>\n",
       "    </tr>\n",
       "  </thead>\n",
       "  <tbody>\n",
       "    <tr>\n",
       "      <th>0</th>\n",
       "      <td>2005-01-01</td>\n",
       "    </tr>\n",
       "    <tr>\n",
       "      <th>1</th>\n",
       "      <td>2005-01-02</td>\n",
       "    </tr>\n",
       "    <tr>\n",
       "      <th>2</th>\n",
       "      <td>2005-01-03</td>\n",
       "    </tr>\n",
       "    <tr>\n",
       "      <th>3</th>\n",
       "      <td>2005-01-04</td>\n",
       "    </tr>\n",
       "    <tr>\n",
       "      <th>4</th>\n",
       "      <td>2005-01-05</td>\n",
       "    </tr>\n",
       "  </tbody>\n",
       "</table>\n",
       "</div>"
      ],
      "text/plain": [
       "        date\n",
       "0 2005-01-01\n",
       "1 2005-01-02\n",
       "2 2005-01-03\n",
       "3 2005-01-04\n",
       "4 2005-01-05"
      ]
     },
     "execution_count": 4,
     "metadata": {},
     "output_type": "execute_result"
    }
   ],
   "source": [
    "dim_fecha = pd.DataFrame({\n",
    "    \"date\": pd.date_range(start='1/1/2005', end='1/1/2009', freq='D')\n",
    "})\n",
    "dim_fecha.head()"
   ]
  },
  {
   "cell_type": "markdown",
   "id": "ee541135415548bf",
   "metadata": {},
   "source": [
    "vamos a añadir algunas columnas como lo son el año, mes, el dia, el dia de la semana y en que quarto del año"
   ]
  },
  {
   "cell_type": "code",
   "execution_count": 5,
   "id": "db5a5a1e9d28517a",
   "metadata": {
    "ExecuteTime": {
     "end_time": "2024-09-17T12:44:55.323411Z",
     "start_time": "2024-09-17T12:44:55.309614Z"
    }
   },
   "outputs": [
    {
     "data": {
      "text/html": [
       "<div>\n",
       "<style scoped>\n",
       "    .dataframe tbody tr th:only-of-type {\n",
       "        vertical-align: middle;\n",
       "    }\n",
       "\n",
       "    .dataframe tbody tr th {\n",
       "        vertical-align: top;\n",
       "    }\n",
       "\n",
       "    .dataframe thead th {\n",
       "        text-align: right;\n",
       "    }\n",
       "</style>\n",
       "<table border=\"1\" class=\"dataframe\">\n",
       "  <thead>\n",
       "    <tr style=\"text-align: right;\">\n",
       "      <th></th>\n",
       "      <th>date</th>\n",
       "      <th>year</th>\n",
       "      <th>month</th>\n",
       "      <th>day</th>\n",
       "      <th>weekday</th>\n",
       "      <th>quarter</th>\n",
       "    </tr>\n",
       "  </thead>\n",
       "  <tbody>\n",
       "    <tr>\n",
       "      <th>0</th>\n",
       "      <td>2005-01-01</td>\n",
       "      <td>2005</td>\n",
       "      <td>1</td>\n",
       "      <td>1</td>\n",
       "      <td>5</td>\n",
       "      <td>1</td>\n",
       "    </tr>\n",
       "    <tr>\n",
       "      <th>1</th>\n",
       "      <td>2005-01-02</td>\n",
       "      <td>2005</td>\n",
       "      <td>1</td>\n",
       "      <td>2</td>\n",
       "      <td>6</td>\n",
       "      <td>1</td>\n",
       "    </tr>\n",
       "    <tr>\n",
       "      <th>2</th>\n",
       "      <td>2005-01-03</td>\n",
       "      <td>2005</td>\n",
       "      <td>1</td>\n",
       "      <td>3</td>\n",
       "      <td>0</td>\n",
       "      <td>1</td>\n",
       "    </tr>\n",
       "    <tr>\n",
       "      <th>3</th>\n",
       "      <td>2005-01-04</td>\n",
       "      <td>2005</td>\n",
       "      <td>1</td>\n",
       "      <td>4</td>\n",
       "      <td>1</td>\n",
       "      <td>1</td>\n",
       "    </tr>\n",
       "    <tr>\n",
       "      <th>4</th>\n",
       "      <td>2005-01-05</td>\n",
       "      <td>2005</td>\n",
       "      <td>1</td>\n",
       "      <td>5</td>\n",
       "      <td>2</td>\n",
       "      <td>1</td>\n",
       "    </tr>\n",
       "  </tbody>\n",
       "</table>\n",
       "</div>"
      ],
      "text/plain": [
       "        date  year  month  day  weekday  quarter\n",
       "0 2005-01-01  2005      1    1        5        1\n",
       "1 2005-01-02  2005      1    2        6        1\n",
       "2 2005-01-03  2005      1    3        0        1\n",
       "3 2005-01-04  2005      1    4        1        1\n",
       "4 2005-01-05  2005      1    5        2        1"
      ]
     },
     "execution_count": 5,
     "metadata": {},
     "output_type": "execute_result"
    }
   ],
   "source": [
    "dim_fecha[\"year\"] = dim_fecha[\"date\"].dt.year\n",
    "dim_fecha[\"month\"] = dim_fecha[\"date\"].dt.month\n",
    "dim_fecha[\"day\"] = dim_fecha[\"date\"].dt.day\n",
    "dim_fecha[\"weekday\"] = dim_fecha[\"date\"].dt.weekday\n",
    "dim_fecha[\"quarter\"] = dim_fecha[\"date\"].dt.quarter\n",
    "\n",
    "dim_fecha.head()"
   ]
  },
  {
   "cell_type": "markdown",
   "id": "b0cbc1ee752498b",
   "metadata": {},
   "source": [
    "ahora vamos a añadir la fecha en formato string para los dias, meses    "
   ]
  },
  {
   "cell_type": "code",
   "execution_count": 6,
   "id": "4cdf7557314905ff",
   "metadata": {
    "ExecuteTime": {
     "end_time": "2024-09-17T12:44:55.382803Z",
     "start_time": "2024-09-17T12:44:55.363376Z"
    }
   },
   "outputs": [
    {
     "data": {
      "text/html": [
       "<div>\n",
       "<style scoped>\n",
       "    .dataframe tbody tr th:only-of-type {\n",
       "        vertical-align: middle;\n",
       "    }\n",
       "\n",
       "    .dataframe tbody tr th {\n",
       "        vertical-align: top;\n",
       "    }\n",
       "\n",
       "    .dataframe thead th {\n",
       "        text-align: right;\n",
       "    }\n",
       "</style>\n",
       "<table border=\"1\" class=\"dataframe\">\n",
       "  <thead>\n",
       "    <tr style=\"text-align: right;\">\n",
       "      <th></th>\n",
       "      <th>date</th>\n",
       "      <th>year</th>\n",
       "      <th>month</th>\n",
       "      <th>day</th>\n",
       "      <th>weekday</th>\n",
       "      <th>quarter</th>\n",
       "      <th>day_of_year</th>\n",
       "      <th>day_of_month</th>\n",
       "      <th>month_str</th>\n",
       "      <th>day_str</th>\n",
       "      <th>date_str</th>\n",
       "    </tr>\n",
       "  </thead>\n",
       "  <tbody>\n",
       "    <tr>\n",
       "      <th>0</th>\n",
       "      <td>2005-01-01</td>\n",
       "      <td>2005</td>\n",
       "      <td>1</td>\n",
       "      <td>1</td>\n",
       "      <td>5</td>\n",
       "      <td>1</td>\n",
       "      <td>1</td>\n",
       "      <td>31</td>\n",
       "      <td>January</td>\n",
       "      <td>Saturday</td>\n",
       "      <td>01/01/2005</td>\n",
       "    </tr>\n",
       "    <tr>\n",
       "      <th>1</th>\n",
       "      <td>2005-01-02</td>\n",
       "      <td>2005</td>\n",
       "      <td>1</td>\n",
       "      <td>2</td>\n",
       "      <td>6</td>\n",
       "      <td>1</td>\n",
       "      <td>2</td>\n",
       "      <td>31</td>\n",
       "      <td>January</td>\n",
       "      <td>Sunday</td>\n",
       "      <td>02/01/2005</td>\n",
       "    </tr>\n",
       "    <tr>\n",
       "      <th>2</th>\n",
       "      <td>2005-01-03</td>\n",
       "      <td>2005</td>\n",
       "      <td>1</td>\n",
       "      <td>3</td>\n",
       "      <td>0</td>\n",
       "      <td>1</td>\n",
       "      <td>3</td>\n",
       "      <td>31</td>\n",
       "      <td>January</td>\n",
       "      <td>Monday</td>\n",
       "      <td>03/01/2005</td>\n",
       "    </tr>\n",
       "    <tr>\n",
       "      <th>3</th>\n",
       "      <td>2005-01-04</td>\n",
       "      <td>2005</td>\n",
       "      <td>1</td>\n",
       "      <td>4</td>\n",
       "      <td>1</td>\n",
       "      <td>1</td>\n",
       "      <td>4</td>\n",
       "      <td>31</td>\n",
       "      <td>January</td>\n",
       "      <td>Tuesday</td>\n",
       "      <td>04/01/2005</td>\n",
       "    </tr>\n",
       "    <tr>\n",
       "      <th>4</th>\n",
       "      <td>2005-01-05</td>\n",
       "      <td>2005</td>\n",
       "      <td>1</td>\n",
       "      <td>5</td>\n",
       "      <td>2</td>\n",
       "      <td>1</td>\n",
       "      <td>5</td>\n",
       "      <td>31</td>\n",
       "      <td>January</td>\n",
       "      <td>Wednesday</td>\n",
       "      <td>05/01/2005</td>\n",
       "    </tr>\n",
       "  </tbody>\n",
       "</table>\n",
       "</div>"
      ],
      "text/plain": [
       "        date  year  month  day  weekday  quarter  day_of_year  day_of_month  \\\n",
       "0 2005-01-01  2005      1    1        5        1            1            31   \n",
       "1 2005-01-02  2005      1    2        6        1            2            31   \n",
       "2 2005-01-03  2005      1    3        0        1            3            31   \n",
       "3 2005-01-04  2005      1    4        1        1            4            31   \n",
       "4 2005-01-05  2005      1    5        2        1            5            31   \n",
       "\n",
       "  month_str    day_str    date_str  \n",
       "0   January   Saturday  01/01/2005  \n",
       "1   January     Sunday  02/01/2005  \n",
       "2   January     Monday  03/01/2005  \n",
       "3   January    Tuesday  04/01/2005  \n",
       "4   January  Wednesday  05/01/2005  "
      ]
     },
     "execution_count": 6,
     "metadata": {},
     "output_type": "execute_result"
    }
   ],
   "source": [
    "dim_fecha[\"day_of_year\"] = dim_fecha[\"date\"].dt.day_of_year\n",
    "dim_fecha[\"day_of_month\"] = dim_fecha[\"date\"].dt.days_in_month\n",
    "dim_fecha[\"month_str\"] = dim_fecha[\"date\"].dt.month_name() # run locale -a en unix \n",
    "dim_fecha[\"day_str\"] = dim_fecha[\"date\"].dt.day_name() # locale = 'es_CO.UTF8'\n",
    "dim_fecha[\"date_str\"] = dim_fecha[\"date\"].dt.strftime(\"%d/%m/%Y\")\n",
    "dim_fecha.head()"
   ]
  },
  {
   "cell_type": "markdown",
   "id": "926c2ee56ef05b69",
   "metadata": {
    "collapsed": false
   },
   "source": [
    "# holidays and weekend"
   ]
  },
  {
   "cell_type": "code",
   "execution_count": 7,
   "id": "d4a4f14ded7b1018",
   "metadata": {
    "ExecuteTime": {
     "end_time": "2024-09-17T12:44:55.520845Z",
     "start_time": "2024-09-17T12:44:55.401846Z"
    }
   },
   "outputs": [
    {
     "data": {
      "text/html": [
       "<div>\n",
       "<style scoped>\n",
       "    .dataframe tbody tr th:only-of-type {\n",
       "        vertical-align: middle;\n",
       "    }\n",
       "\n",
       "    .dataframe tbody tr th {\n",
       "        vertical-align: top;\n",
       "    }\n",
       "\n",
       "    .dataframe thead th {\n",
       "        text-align: right;\n",
       "    }\n",
       "</style>\n",
       "<table border=\"1\" class=\"dataframe\">\n",
       "  <thead>\n",
       "    <tr style=\"text-align: right;\">\n",
       "      <th></th>\n",
       "      <th>date</th>\n",
       "      <th>year</th>\n",
       "      <th>month</th>\n",
       "      <th>day</th>\n",
       "      <th>weekday</th>\n",
       "      <th>quarter</th>\n",
       "      <th>day_of_year</th>\n",
       "      <th>day_of_month</th>\n",
       "      <th>month_str</th>\n",
       "      <th>day_str</th>\n",
       "      <th>date_str</th>\n",
       "      <th>is_Holiday</th>\n",
       "      <th>holiday</th>\n",
       "      <th>saved</th>\n",
       "      <th>weekend</th>\n",
       "    </tr>\n",
       "  </thead>\n",
       "  <tbody>\n",
       "    <tr>\n",
       "      <th>0</th>\n",
       "      <td>2005-01-01</td>\n",
       "      <td>2005</td>\n",
       "      <td>1</td>\n",
       "      <td>1</td>\n",
       "      <td>5</td>\n",
       "      <td>1</td>\n",
       "      <td>1</td>\n",
       "      <td>31</td>\n",
       "      <td>January</td>\n",
       "      <td>Saturday</td>\n",
       "      <td>01/01/2005</td>\n",
       "      <td>True</td>\n",
       "      <td>Año Nuevo</td>\n",
       "      <td>2024-09-17</td>\n",
       "      <td>True</td>\n",
       "    </tr>\n",
       "    <tr>\n",
       "      <th>1</th>\n",
       "      <td>2005-01-02</td>\n",
       "      <td>2005</td>\n",
       "      <td>1</td>\n",
       "      <td>2</td>\n",
       "      <td>6</td>\n",
       "      <td>1</td>\n",
       "      <td>2</td>\n",
       "      <td>31</td>\n",
       "      <td>January</td>\n",
       "      <td>Sunday</td>\n",
       "      <td>02/01/2005</td>\n",
       "      <td>False</td>\n",
       "      <td>None</td>\n",
       "      <td>2024-09-17</td>\n",
       "      <td>True</td>\n",
       "    </tr>\n",
       "    <tr>\n",
       "      <th>2</th>\n",
       "      <td>2005-01-03</td>\n",
       "      <td>2005</td>\n",
       "      <td>1</td>\n",
       "      <td>3</td>\n",
       "      <td>0</td>\n",
       "      <td>1</td>\n",
       "      <td>3</td>\n",
       "      <td>31</td>\n",
       "      <td>January</td>\n",
       "      <td>Monday</td>\n",
       "      <td>03/01/2005</td>\n",
       "      <td>False</td>\n",
       "      <td>None</td>\n",
       "      <td>2024-09-17</td>\n",
       "      <td>False</td>\n",
       "    </tr>\n",
       "    <tr>\n",
       "      <th>3</th>\n",
       "      <td>2005-01-04</td>\n",
       "      <td>2005</td>\n",
       "      <td>1</td>\n",
       "      <td>4</td>\n",
       "      <td>1</td>\n",
       "      <td>1</td>\n",
       "      <td>4</td>\n",
       "      <td>31</td>\n",
       "      <td>January</td>\n",
       "      <td>Tuesday</td>\n",
       "      <td>04/01/2005</td>\n",
       "      <td>False</td>\n",
       "      <td>None</td>\n",
       "      <td>2024-09-17</td>\n",
       "      <td>False</td>\n",
       "    </tr>\n",
       "    <tr>\n",
       "      <th>4</th>\n",
       "      <td>2005-01-05</td>\n",
       "      <td>2005</td>\n",
       "      <td>1</td>\n",
       "      <td>5</td>\n",
       "      <td>2</td>\n",
       "      <td>1</td>\n",
       "      <td>5</td>\n",
       "      <td>31</td>\n",
       "      <td>January</td>\n",
       "      <td>Wednesday</td>\n",
       "      <td>05/01/2005</td>\n",
       "      <td>False</td>\n",
       "      <td>None</td>\n",
       "      <td>2024-09-17</td>\n",
       "      <td>False</td>\n",
       "    </tr>\n",
       "  </tbody>\n",
       "</table>\n",
       "</div>"
      ],
      "text/plain": [
       "        date  year  month  day  weekday  quarter  day_of_year  day_of_month  \\\n",
       "0 2005-01-01  2005      1    1        5        1            1            31   \n",
       "1 2005-01-02  2005      1    2        6        1            2            31   \n",
       "2 2005-01-03  2005      1    3        0        1            3            31   \n",
       "3 2005-01-04  2005      1    4        1        1            4            31   \n",
       "4 2005-01-05  2005      1    5        2        1            5            31   \n",
       "\n",
       "  month_str    day_str    date_str  is_Holiday    holiday       saved  weekend  \n",
       "0   January   Saturday  01/01/2005        True  Año Nuevo  2024-09-17     True  \n",
       "1   January     Sunday  02/01/2005       False       None  2024-09-17     True  \n",
       "2   January     Monday  03/01/2005       False       None  2024-09-17    False  \n",
       "3   January    Tuesday  04/01/2005       False       None  2024-09-17    False  \n",
       "4   January  Wednesday  05/01/2005       False       None  2024-09-17    False  "
      ]
     },
     "execution_count": 7,
     "metadata": {},
     "output_type": "execute_result"
    }
   ],
   "source": [
    "co_holidays = holidays.CO(language=\"es\")\n",
    "dim_fecha[\"is_Holiday\"] = dim_fecha[\"date\"].apply(lambda x:  x in co_holidays)\n",
    "dim_fecha[\"holiday\"] = dim_fecha[\"date\"].apply(lambda x: co_holidays.get(x))\n",
    "dim_fecha[\"saved\"] = date.today()\n",
    "dim_fecha[\"weekend\"] = dim_fecha[\"weekday\"].apply(lambda x: x>4)\n",
    "dim_fecha.head()\n",
    "\n"
   ]
  },
  {
   "cell_type": "code",
   "execution_count": 8,
   "id": "8d6efe020ae8098d",
   "metadata": {
    "ExecuteTime": {
     "end_time": "2024-09-17T12:44:55.869350Z",
     "start_time": "2024-09-17T12:44:55.543282Z"
    },
    "collapsed": false
   },
   "outputs": [],
   "source": [
    "from sqlalchemy import create_engine\n",
    "\n",
    "with open('../config.yml', 'r') as f:\n",
    "    config = yaml.safe_load(f)\n",
    "    config_co = config['CO_SA']\n",
    "    config_etl = config['ETL_PRO']\n",
    "\n",
    "# Construct the database URL\n",
    "url_co = (f\"{config_co['drivername']}://{config_co['user']}:{config_co['password']}@{config_co['host']}:\"\n",
    "          f\"{config_co['port']}/{config_co['dbname']}\")\n",
    "url_etl = (f\"{config_etl['drivername']}://{config_etl['user']}:{config_etl['password']}@{config_etl['host']}:\"\n",
    "           f\"{config_etl['port']}/{config_etl['dbname']}\")\n",
    "# Create the SQLAlchemy Engine\n",
    "co_sa = create_engine(url_co)\n",
    "etl_conn = create_engine(url_etl)"
   ]
  },
  {
   "cell_type": "code",
   "execution_count": 9,
   "id": "244fdcbf5945d130",
   "metadata": {
    "ExecuteTime": {
     "end_time": "2024-09-17T12:44:56.007788Z",
     "start_time": "2024-09-17T12:44:55.870677Z"
    }
   },
   "outputs": [
    {
     "data": {
      "text/plain": [
       "462"
      ]
     },
     "execution_count": 9,
     "metadata": {},
     "output_type": "execute_result"
    }
   ],
   "source": [
    "dim_fecha.to_sql('dim_fecha', etl_conn, if_exists='replace',index_label='key_dim_fecha')"
   ]
  }
 ],
 "metadata": {
  "kernelspec": {
   "display_name": "my_env",
   "language": "python",
   "name": "python3"
  },
  "language_info": {
   "codemirror_mode": {
    "name": "ipython",
    "version": 3
   },
   "file_extension": ".py",
   "mimetype": "text/x-python",
   "name": "python",
   "nbconvert_exporter": "python",
   "pygments_lexer": "ipython3",
   "version": "3.10.0"
  }
 },
 "nbformat": 4,
 "nbformat_minor": 5
}
