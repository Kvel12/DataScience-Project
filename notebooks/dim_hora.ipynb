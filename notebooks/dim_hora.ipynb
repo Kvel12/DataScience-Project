{
 "cells": [
  {
   "cell_type": "code",
   "execution_count": 1,
   "id": "initial_id",
   "metadata": {
    "ExecuteTime": {
     "end_time": "2024-09-17T12:44:55.227593Z",
     "start_time": "2024-09-17T12:44:55.225101Z"
    },
    "collapsed": true
   },
   "outputs": [],
   "source": [
    "from datetime import date, datetime, time\n",
    "import pandas as pd\n",
    "import numpy as np\n",
    "import yaml\n",
    "from sqlalchemy import create_engine, inspect, text"
   ]
  },
  {
   "cell_type": "markdown",
   "id": "47e6aa01",
   "metadata": {},
   "source": [
    "# Extract"
   ]
  },
  {
   "cell_type": "code",
   "execution_count": null,
   "id": "e27f61fb",
   "metadata": {},
   "outputs": [],
   "source": [
    "# Cargar configuración desde el archivo config.yml\n",
    "with open('../config.yml', 'r') as f:\n",
    "    config = yaml.safe_load(f)\n",
    "    config_bodega = config['bodega']\n",
    "\n",
    "# Crear conexión a la bodega de datos\n",
    "url_bodega = f\"postgresql://{config_bodega['user']}:{config_bodega['password']}@{config_bodega['host']}:{config_bodega['port']}/{config_bodega['dbname']}\"\n",
    "\n",
    "# Crear SQLAlchemy engine\n",
    "bodega_conn = create_engine(url_bodega)"
   ]
  },
  {
   "cell_type": "markdown",
   "id": "e03d643d",
   "metadata": {},
   "source": [
    "# Transformation"
   ]
  },
  {
   "cell_type": "code",
   "execution_count": null,
   "id": "d625343d",
   "metadata": {},
   "outputs": [],
   "source": [
    "# Crear datos para la dimensión hora\n",
    "\n",
    "# Definir función para categorizar las horas en períodos del día\n",
    "def get_periodo_dia(hora):\n",
    "    if 0 <= hora < 6:\n",
    "        return 'Madrugada'\n",
    "    elif 6 <= hora < 12:\n",
    "        return 'Mañana'\n",
    "    elif 12 <= hora < 18:\n",
    "        return 'Tarde'\n",
    "    else:\n",
    "        return 'Noche'"
   ]
  },
  {
   "cell_type": "code",
   "execution_count": null,
   "id": "88acce7e",
   "metadata": {},
   "outputs": [],
   "source": [
    "# Generar datos de horas y asignar período del día\n",
    "horas = []\n",
    "for hora in range(24):\n",
    "    horas.append({\n",
    "        'hora': hora,\n",
    "        'periodo_dia': get_periodo_dia(hora)\n",
    "    })"
   ]
  },
  {
   "cell_type": "code",
   "execution_count": 5,
   "id": "a6948741",
   "metadata": {},
   "outputs": [],
   "source": [
    "# Crear DataFrame\n",
    "dim_hora = pd.DataFrame(horas)"
   ]
  },
  {
   "cell_type": "code",
   "execution_count": null,
   "id": "fdd3eac0",
   "metadata": {},
   "outputs": [],
   "source": [
    "# Agregar columna fecha de carga\n",
    "dim_hora['saved'] = date.today()"
   ]
  },
  {
   "cell_type": "markdown",
   "id": "fa1ca22d",
   "metadata": {},
   "source": [
    "### Verifications"
   ]
  },
  {
   "cell_type": "code",
   "execution_count": 7,
   "id": "e0685f81",
   "metadata": {},
   "outputs": [
    {
     "name": "stdout",
     "output_type": "stream",
     "text": [
      "\n",
      "Información del DataFrame:\n",
      "<class 'pandas.core.frame.DataFrame'>\n",
      "RangeIndex: 24 entries, 0 to 23\n",
      "Data columns (total 3 columns):\n",
      " #   Column       Non-Null Count  Dtype \n",
      "---  ------       --------------  ----- \n",
      " 0   hora         24 non-null     int64 \n",
      " 1   periodo_dia  24 non-null     object\n",
      " 2   saved        24 non-null     object\n",
      "dtypes: int64(1), object(2)\n",
      "memory usage: 708.0+ bytes\n",
      "None\n"
     ]
    }
   ],
   "source": [
    "# Verificar los datos\n",
    "print(\"\\nInformación del DataFrame:\")\n",
    "print(dim_hora.info())\n",
    "\n",
    "print(\"\\nMuestra de los datos:\")\n",
    "print(dim_hora.head())"
   ]
  },
  {
   "cell_type": "markdown",
   "id": "f3afc047",
   "metadata": {},
   "source": [
    "# Load"
   ]
  },
  {
   "cell_type": "code",
   "execution_count": 9,
   "id": "7ebd7c4f",
   "metadata": {},
   "outputs": [
    {
     "data": {
      "text/plain": [
       "24"
      ]
     },
     "execution_count": 9,
     "metadata": {},
     "output_type": "execute_result"
    }
   ],
   "source": [
    "# Cargar en la bodega\n",
    "dim_hora.to_sql('dim_hora', bodega_conn, if_exists='replace', index_label='key_dim_hora')"
   ]
  },
  {
   "cell_type": "code",
   "execution_count": 10,
   "id": "e7c43c81",
   "metadata": {},
   "outputs": [
    {
     "name": "stdout",
     "output_type": "stream",
     "text": [
      "\n",
      "Distribución de periodos del día:\n",
      "periodo_dia\n",
      "Madrugada    6\n",
      "Mañana       6\n",
      "Tarde        6\n",
      "Noche        6\n",
      "Name: count, dtype: int64\n"
     ]
    }
   ],
   "source": [
    "# Verificar algunos valores\n",
    "print(\"\\nDistribución de periodos del día:\")\n",
    "print(dim_hora['periodo_dia'].value_counts())"
   ]
  },
  {
   "cell_type": "code",
   "execution_count": 11,
   "id": "5ce1638e",
   "metadata": {},
   "outputs": [
    {
     "name": "stdout",
     "output_type": "stream",
     "text": [
      "\n",
      "Rango de horas:\n",
      "Mínima: 0\n",
      "Máxima: 23\n"
     ]
    }
   ],
   "source": [
    "print(\"\\nRango de horas:\")\n",
    "print(f\"Mínima: {dim_hora['hora'].min()}\")\n",
    "print(f\"Máxima: {dim_hora['hora'].max()}\")"
   ]
  },
  {
   "cell_type": "code",
   "execution_count": 12,
   "id": "322f6933",
   "metadata": {},
   "outputs": [
    {
     "name": "stdout",
     "output_type": "stream",
     "text": [
      "\n",
      "Ejemplos de diferentes períodos del día:\n",
      "\n",
      "Madrugada:\n",
      "   hora periodo_dia       saved\n",
      "0     0   Madrugada  2024-11-08\n",
      "1     1   Madrugada  2024-11-08\n",
      "2     2   Madrugada  2024-11-08\n",
      "\n",
      "Mañana:\n",
      "   hora periodo_dia       saved\n",
      "6     6      Mañana  2024-11-08\n",
      "7     7      Mañana  2024-11-08\n",
      "8     8      Mañana  2024-11-08\n",
      "\n",
      "Tarde:\n",
      "    hora periodo_dia       saved\n",
      "12    12       Tarde  2024-11-08\n",
      "13    13       Tarde  2024-11-08\n",
      "14    14       Tarde  2024-11-08\n",
      "\n",
      "Noche:\n",
      "    hora periodo_dia       saved\n",
      "18    18       Noche  2024-11-08\n",
      "19    19       Noche  2024-11-08\n",
      "20    20       Noche  2024-11-08\n"
     ]
    }
   ],
   "source": [
    "# Verificación de datos\n",
    "print(\"\\nEjemplos de diferentes períodos del día:\")\n",
    "for periodo in ['Madrugada', 'Mañana', 'Tarde', 'Noche']:\n",
    "    print(f\"\\n{periodo}:\")\n",
    "    print(dim_hora[dim_hora['periodo_dia'] == periodo].head(3))"
   ]
  }
 ],
 "metadata": {
  "kernelspec": {
   "display_name": "my_env",
   "language": "python",
   "name": "python3"
  },
  "language_info": {
   "codemirror_mode": {
    "name": "ipython",
    "version": 3
   },
   "file_extension": ".py",
   "mimetype": "text/x-python",
   "name": "python",
   "nbconvert_exporter": "python",
   "pygments_lexer": "ipython3",
   "version": "3.10.0"
  }
 },
 "nbformat": 4,
 "nbformat_minor": 5
}
