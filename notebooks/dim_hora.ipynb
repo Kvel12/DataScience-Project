{
 "cells": [
  {
   "cell_type": "code",
   "id": "initial_id",
   "metadata": {
    "collapsed": true,
    "ExecuteTime": {
     "end_time": "2024-09-17T12:44:55.227593Z",
     "start_time": "2024-09-17T12:44:55.225101Z"
    }
   },
   "source": [
    "from datetime import date\n",
    "\n",
    "import pandas as pd\n",
    "import numpy as np\n",
    "import holidays\n",
    "import yaml"
   ],
   "outputs": [],
   "execution_count": 3
  },
  {
   "metadata": {},
   "cell_type": "markdown",
   "source": [
    "Para inicializar la dimension creamos un dataframe donde vamos a añadir las fechas y demas campos                   "
   ],
   "id": "3de7b1fcf2a91aec"
  },
  {
   "metadata": {
    "ExecuteTime": {
     "end_time": "2024-09-17T12:44:55.289769Z",
     "start_time": "2024-09-17T12:44:55.282109Z"
    }
   },
   "cell_type": "code",
   "source": [
    "dim_fecha = pd.DataFrame({\n",
    "    \"date\": pd.date_range(start='1/1/2005', end='1/1/2009', freq='D')\n",
    "})\n",
    "dim_fecha.head()"
   ],
   "id": "107951f26f65fdcd",
   "outputs": [
    {
     "data": {
      "text/plain": [
       "        date\n",
       "0 2005-01-01\n",
       "1 2005-01-02\n",
       "2 2005-01-03\n",
       "3 2005-01-04\n",
       "4 2005-01-05"
      ],
      "text/html": [
       "<div>\n",
       "<style scoped>\n",
       "    .dataframe tbody tr th:only-of-type {\n",
       "        vertical-align: middle;\n",
       "    }\n",
       "\n",
       "    .dataframe tbody tr th {\n",
       "        vertical-align: top;\n",
       "    }\n",
       "\n",
       "    .dataframe thead th {\n",
       "        text-align: right;\n",
       "    }\n",
       "</style>\n",
       "<table border=\"1\" class=\"dataframe\">\n",
       "  <thead>\n",
       "    <tr style=\"text-align: right;\">\n",
       "      <th></th>\n",
       "      <th>date</th>\n",
       "    </tr>\n",
       "  </thead>\n",
       "  <tbody>\n",
       "    <tr>\n",
       "      <th>0</th>\n",
       "      <td>2005-01-01</td>\n",
       "    </tr>\n",
       "    <tr>\n",
       "      <th>1</th>\n",
       "      <td>2005-01-02</td>\n",
       "    </tr>\n",
       "    <tr>\n",
       "      <th>2</th>\n",
       "      <td>2005-01-03</td>\n",
       "    </tr>\n",
       "    <tr>\n",
       "      <th>3</th>\n",
       "      <td>2005-01-04</td>\n",
       "    </tr>\n",
       "    <tr>\n",
       "      <th>4</th>\n",
       "      <td>2005-01-05</td>\n",
       "    </tr>\n",
       "  </tbody>\n",
       "</table>\n",
       "</div>"
      ]
     },
     "execution_count": 4,
     "metadata": {},
     "output_type": "execute_result"
    }
   ],
   "execution_count": 4
  },
  {
   "metadata": {},
   "cell_type": "markdown",
   "source": [
    "vamos a añadir algunas columnas como lo son el año, mes, el dia, el dia de la semana y en que quarto del año"
   ],
   "id": "ee541135415548bf"
  },
  {
   "metadata": {
    "ExecuteTime": {
     "end_time": "2024-09-17T12:44:55.323411Z",
     "start_time": "2024-09-17T12:44:55.309614Z"
    }
   },
   "cell_type": "code",
   "source": [
    "dim_fecha[\"year\"] = dim_fecha[\"date\"].dt.year\n",
    "dim_fecha[\"month\"] = dim_fecha[\"date\"].dt.month\n",
    "dim_fecha[\"day\"] = dim_fecha[\"date\"].dt.day\n",
    "dim_fecha[\"weekday\"] = dim_fecha[\"date\"].dt.weekday\n",
    "dim_fecha[\"quarter\"] = dim_fecha[\"date\"].dt.quarter\n",
    "\n",
    "dim_fecha.head()"
   ],
   "id": "db5a5a1e9d28517a",
   "outputs": [
    {
     "data": {
      "text/plain": [
       "        date  year  month  day  weekday  quarter\n",
       "0 2005-01-01  2005      1    1        5        1\n",
       "1 2005-01-02  2005      1    2        6        1\n",
       "2 2005-01-03  2005      1    3        0        1\n",
       "3 2005-01-04  2005      1    4        1        1\n",
       "4 2005-01-05  2005      1    5        2        1"
      ],
      "text/html": [
       "<div>\n",
       "<style scoped>\n",
       "    .dataframe tbody tr th:only-of-type {\n",
       "        vertical-align: middle;\n",
       "    }\n",
       "\n",
       "    .dataframe tbody tr th {\n",
       "        vertical-align: top;\n",
       "    }\n",
       "\n",
       "    .dataframe thead th {\n",
       "        text-align: right;\n",
       "    }\n",
       "</style>\n",
       "<table border=\"1\" class=\"dataframe\">\n",
       "  <thead>\n",
       "    <tr style=\"text-align: right;\">\n",
       "      <th></th>\n",
       "      <th>date</th>\n",
       "      <th>year</th>\n",
       "      <th>month</th>\n",
       "      <th>day</th>\n",
       "      <th>weekday</th>\n",
       "      <th>quarter</th>\n",
       "    </tr>\n",
       "  </thead>\n",
       "  <tbody>\n",
       "    <tr>\n",
       "      <th>0</th>\n",
       "      <td>2005-01-01</td>\n",
       "      <td>2005</td>\n",
       "      <td>1</td>\n",
       "      <td>1</td>\n",
       "      <td>5</td>\n",
       "      <td>1</td>\n",
       "    </tr>\n",
       "    <tr>\n",
       "      <th>1</th>\n",
       "      <td>2005-01-02</td>\n",
       "      <td>2005</td>\n",
       "      <td>1</td>\n",
       "      <td>2</td>\n",
       "      <td>6</td>\n",
       "      <td>1</td>\n",
       "    </tr>\n",
       "    <tr>\n",
       "      <th>2</th>\n",
       "      <td>2005-01-03</td>\n",
       "      <td>2005</td>\n",
       "      <td>1</td>\n",
       "      <td>3</td>\n",
       "      <td>0</td>\n",
       "      <td>1</td>\n",
       "    </tr>\n",
       "    <tr>\n",
       "      <th>3</th>\n",
       "      <td>2005-01-04</td>\n",
       "      <td>2005</td>\n",
       "      <td>1</td>\n",
       "      <td>4</td>\n",
       "      <td>1</td>\n",
       "      <td>1</td>\n",
       "    </tr>\n",
       "    <tr>\n",
       "      <th>4</th>\n",
       "      <td>2005-01-05</td>\n",
       "      <td>2005</td>\n",
       "      <td>1</td>\n",
       "      <td>5</td>\n",
       "      <td>2</td>\n",
       "      <td>1</td>\n",
       "    </tr>\n",
       "  </tbody>\n",
       "</table>\n",
       "</div>"
      ]
     },
     "execution_count": 5,
     "metadata": {},
     "output_type": "execute_result"
    }
   ],
   "execution_count": 5
  },
  {
   "metadata": {},
   "cell_type": "markdown",
   "source": [
    "ahora vamos a añadir la fecha en formato string para los dias, meses    "
   ],
   "id": "b0cbc1ee752498b"
  },
  {
   "metadata": {
    "ExecuteTime": {
     "end_time": "2024-09-17T12:44:55.382803Z",
     "start_time": "2024-09-17T12:44:55.363376Z"
    }
   },
   "cell_type": "code",
   "source": [
    "dim_fecha[\"day_of_year\"] = dim_fecha[\"date\"].dt.day_of_year\n",
    "dim_fecha[\"day_of_month\"] = dim_fecha[\"date\"].dt.days_in_month\n",
    "dim_fecha[\"month_str\"] = dim_fecha[\"date\"].dt.month_name() # run locale -a en unix \n",
    "dim_fecha[\"day_str\"] = dim_fecha[\"date\"].dt.day_name() # locale = 'es_CO.UTF8'\n",
    "dim_fecha[\"date_str\"] = dim_fecha[\"date\"].dt.strftime(\"%d/%m/%Y\")\n",
    "dim_fecha.head()"
   ],
   "id": "4cdf7557314905ff",
   "outputs": [
    {
     "data": {
      "text/plain": [
       "        date  year  month  day  weekday  quarter  day_of_year  day_of_month  \\\n",
       "0 2005-01-01  2005      1    1        5        1            1            31   \n",
       "1 2005-01-02  2005      1    2        6        1            2            31   \n",
       "2 2005-01-03  2005      1    3        0        1            3            31   \n",
       "3 2005-01-04  2005      1    4        1        1            4            31   \n",
       "4 2005-01-05  2005      1    5        2        1            5            31   \n",
       "\n",
       "  month_str    day_str    date_str  \n",
       "0   January   Saturday  01/01/2005  \n",
       "1   January     Sunday  02/01/2005  \n",
       "2   January     Monday  03/01/2005  \n",
       "3   January    Tuesday  04/01/2005  \n",
       "4   January  Wednesday  05/01/2005  "
      ],
      "text/html": [
       "<div>\n",
       "<style scoped>\n",
       "    .dataframe tbody tr th:only-of-type {\n",
       "        vertical-align: middle;\n",
       "    }\n",
       "\n",
       "    .dataframe tbody tr th {\n",
       "        vertical-align: top;\n",
       "    }\n",
       "\n",
       "    .dataframe thead th {\n",
       "        text-align: right;\n",
       "    }\n",
       "</style>\n",
       "<table border=\"1\" class=\"dataframe\">\n",
       "  <thead>\n",
       "    <tr style=\"text-align: right;\">\n",
       "      <th></th>\n",
       "      <th>date</th>\n",
       "      <th>year</th>\n",
       "      <th>month</th>\n",
       "      <th>day</th>\n",
       "      <th>weekday</th>\n",
       "      <th>quarter</th>\n",
       "      <th>day_of_year</th>\n",
       "      <th>day_of_month</th>\n",
       "      <th>month_str</th>\n",
       "      <th>day_str</th>\n",
       "      <th>date_str</th>\n",
       "    </tr>\n",
       "  </thead>\n",
       "  <tbody>\n",
       "    <tr>\n",
       "      <th>0</th>\n",
       "      <td>2005-01-01</td>\n",
       "      <td>2005</td>\n",
       "      <td>1</td>\n",
       "      <td>1</td>\n",
       "      <td>5</td>\n",
       "      <td>1</td>\n",
       "      <td>1</td>\n",
       "      <td>31</td>\n",
       "      <td>January</td>\n",
       "      <td>Saturday</td>\n",
       "      <td>01/01/2005</td>\n",
       "    </tr>\n",
       "    <tr>\n",
       "      <th>1</th>\n",
       "      <td>2005-01-02</td>\n",
       "      <td>2005</td>\n",
       "      <td>1</td>\n",
       "      <td>2</td>\n",
       "      <td>6</td>\n",
       "      <td>1</td>\n",
       "      <td>2</td>\n",
       "      <td>31</td>\n",
       "      <td>January</td>\n",
       "      <td>Sunday</td>\n",
       "      <td>02/01/2005</td>\n",
       "    </tr>\n",
       "    <tr>\n",
       "      <th>2</th>\n",
       "      <td>2005-01-03</td>\n",
       "      <td>2005</td>\n",
       "      <td>1</td>\n",
       "      <td>3</td>\n",
       "      <td>0</td>\n",
       "      <td>1</td>\n",
       "      <td>3</td>\n",
       "      <td>31</td>\n",
       "      <td>January</td>\n",
       "      <td>Monday</td>\n",
       "      <td>03/01/2005</td>\n",
       "    </tr>\n",
       "    <tr>\n",
       "      <th>3</th>\n",
       "      <td>2005-01-04</td>\n",
       "      <td>2005</td>\n",
       "      <td>1</td>\n",
       "      <td>4</td>\n",
       "      <td>1</td>\n",
       "      <td>1</td>\n",
       "      <td>4</td>\n",
       "      <td>31</td>\n",
       "      <td>January</td>\n",
       "      <td>Tuesday</td>\n",
       "      <td>04/01/2005</td>\n",
       "    </tr>\n",
       "    <tr>\n",
       "      <th>4</th>\n",
       "      <td>2005-01-05</td>\n",
       "      <td>2005</td>\n",
       "      <td>1</td>\n",
       "      <td>5</td>\n",
       "      <td>2</td>\n",
       "      <td>1</td>\n",
       "      <td>5</td>\n",
       "      <td>31</td>\n",
       "      <td>January</td>\n",
       "      <td>Wednesday</td>\n",
       "      <td>05/01/2005</td>\n",
       "    </tr>\n",
       "  </tbody>\n",
       "</table>\n",
       "</div>"
      ]
     },
     "execution_count": 6,
     "metadata": {},
     "output_type": "execute_result"
    }
   ],
   "execution_count": 6
  },
  {
   "cell_type": "markdown",
   "source": [
    "# holidays and weekend"
   ],
   "metadata": {
    "collapsed": false
   },
   "id": "926c2ee56ef05b69"
  },
  {
   "metadata": {
    "ExecuteTime": {
     "end_time": "2024-09-17T12:44:55.520845Z",
     "start_time": "2024-09-17T12:44:55.401846Z"
    }
   },
   "cell_type": "code",
   "source": [
    "co_holidays = holidays.CO(language=\"es\")\n",
    "dim_fecha[\"is_Holiday\"] = dim_fecha[\"date\"].apply(lambda x:  x in co_holidays)\n",
    "dim_fecha[\"holiday\"] = dim_fecha[\"date\"].apply(lambda x: co_holidays.get(x))\n",
    "dim_fecha[\"saved\"] = date.today()\n",
    "dim_fecha[\"weekend\"] = dim_fecha[\"weekday\"].apply(lambda x: x>4)\n",
    "dim_fecha.head()\n",
    "\n"
   ],
   "id": "d4a4f14ded7b1018",
   "outputs": [
    {
     "data": {
      "text/plain": [
       "        date  year  month  day  weekday  quarter  day_of_year  day_of_month  \\\n",
       "0 2005-01-01  2005      1    1        5        1            1            31   \n",
       "1 2005-01-02  2005      1    2        6        1            2            31   \n",
       "2 2005-01-03  2005      1    3        0        1            3            31   \n",
       "3 2005-01-04  2005      1    4        1        1            4            31   \n",
       "4 2005-01-05  2005      1    5        2        1            5            31   \n",
       "\n",
       "  month_str    day_str    date_str  is_Holiday    holiday       saved  weekend  \n",
       "0   January   Saturday  01/01/2005        True  Año Nuevo  2024-09-17     True  \n",
       "1   January     Sunday  02/01/2005       False       None  2024-09-17     True  \n",
       "2   January     Monday  03/01/2005       False       None  2024-09-17    False  \n",
       "3   January    Tuesday  04/01/2005       False       None  2024-09-17    False  \n",
       "4   January  Wednesday  05/01/2005       False       None  2024-09-17    False  "
      ],
      "text/html": [
       "<div>\n",
       "<style scoped>\n",
       "    .dataframe tbody tr th:only-of-type {\n",
       "        vertical-align: middle;\n",
       "    }\n",
       "\n",
       "    .dataframe tbody tr th {\n",
       "        vertical-align: top;\n",
       "    }\n",
       "\n",
       "    .dataframe thead th {\n",
       "        text-align: right;\n",
       "    }\n",
       "</style>\n",
       "<table border=\"1\" class=\"dataframe\">\n",
       "  <thead>\n",
       "    <tr style=\"text-align: right;\">\n",
       "      <th></th>\n",
       "      <th>date</th>\n",
       "      <th>year</th>\n",
       "      <th>month</th>\n",
       "      <th>day</th>\n",
       "      <th>weekday</th>\n",
       "      <th>quarter</th>\n",
       "      <th>day_of_year</th>\n",
       "      <th>day_of_month</th>\n",
       "      <th>month_str</th>\n",
       "      <th>day_str</th>\n",
       "      <th>date_str</th>\n",
       "      <th>is_Holiday</th>\n",
       "      <th>holiday</th>\n",
       "      <th>saved</th>\n",
       "      <th>weekend</th>\n",
       "    </tr>\n",
       "  </thead>\n",
       "  <tbody>\n",
       "    <tr>\n",
       "      <th>0</th>\n",
       "      <td>2005-01-01</td>\n",
       "      <td>2005</td>\n",
       "      <td>1</td>\n",
       "      <td>1</td>\n",
       "      <td>5</td>\n",
       "      <td>1</td>\n",
       "      <td>1</td>\n",
       "      <td>31</td>\n",
       "      <td>January</td>\n",
       "      <td>Saturday</td>\n",
       "      <td>01/01/2005</td>\n",
       "      <td>True</td>\n",
       "      <td>Año Nuevo</td>\n",
       "      <td>2024-09-17</td>\n",
       "      <td>True</td>\n",
       "    </tr>\n",
       "    <tr>\n",
       "      <th>1</th>\n",
       "      <td>2005-01-02</td>\n",
       "      <td>2005</td>\n",
       "      <td>1</td>\n",
       "      <td>2</td>\n",
       "      <td>6</td>\n",
       "      <td>1</td>\n",
       "      <td>2</td>\n",
       "      <td>31</td>\n",
       "      <td>January</td>\n",
       "      <td>Sunday</td>\n",
       "      <td>02/01/2005</td>\n",
       "      <td>False</td>\n",
       "      <td>None</td>\n",
       "      <td>2024-09-17</td>\n",
       "      <td>True</td>\n",
       "    </tr>\n",
       "    <tr>\n",
       "      <th>2</th>\n",
       "      <td>2005-01-03</td>\n",
       "      <td>2005</td>\n",
       "      <td>1</td>\n",
       "      <td>3</td>\n",
       "      <td>0</td>\n",
       "      <td>1</td>\n",
       "      <td>3</td>\n",
       "      <td>31</td>\n",
       "      <td>January</td>\n",
       "      <td>Monday</td>\n",
       "      <td>03/01/2005</td>\n",
       "      <td>False</td>\n",
       "      <td>None</td>\n",
       "      <td>2024-09-17</td>\n",
       "      <td>False</td>\n",
       "    </tr>\n",
       "    <tr>\n",
       "      <th>3</th>\n",
       "      <td>2005-01-04</td>\n",
       "      <td>2005</td>\n",
       "      <td>1</td>\n",
       "      <td>4</td>\n",
       "      <td>1</td>\n",
       "      <td>1</td>\n",
       "      <td>4</td>\n",
       "      <td>31</td>\n",
       "      <td>January</td>\n",
       "      <td>Tuesday</td>\n",
       "      <td>04/01/2005</td>\n",
       "      <td>False</td>\n",
       "      <td>None</td>\n",
       "      <td>2024-09-17</td>\n",
       "      <td>False</td>\n",
       "    </tr>\n",
       "    <tr>\n",
       "      <th>4</th>\n",
       "      <td>2005-01-05</td>\n",
       "      <td>2005</td>\n",
       "      <td>1</td>\n",
       "      <td>5</td>\n",
       "      <td>2</td>\n",
       "      <td>1</td>\n",
       "      <td>5</td>\n",
       "      <td>31</td>\n",
       "      <td>January</td>\n",
       "      <td>Wednesday</td>\n",
       "      <td>05/01/2005</td>\n",
       "      <td>False</td>\n",
       "      <td>None</td>\n",
       "      <td>2024-09-17</td>\n",
       "      <td>False</td>\n",
       "    </tr>\n",
       "  </tbody>\n",
       "</table>\n",
       "</div>"
      ]
     },
     "execution_count": 7,
     "metadata": {},
     "output_type": "execute_result"
    }
   ],
   "execution_count": 7
  },
  {
   "cell_type": "code",
   "source": [
    "from sqlalchemy import create_engine\n",
    "\n",
    "with open('../config.yml', 'r') as f:\n",
    "    config = yaml.safe_load(f)\n",
    "    config_co = config['CO_SA']\n",
    "    config_etl = config['ETL_PRO']\n",
    "\n",
    "# Construct the database URL\n",
    "url_co = (f\"{config_co['drivername']}://{config_co['user']}:{config_co['password']}@{config_co['host']}:\"\n",
    "          f\"{config_co['port']}/{config_co['dbname']}\")\n",
    "url_etl = (f\"{config_etl['drivername']}://{config_etl['user']}:{config_etl['password']}@{config_etl['host']}:\"\n",
    "           f\"{config_etl['port']}/{config_etl['dbname']}\")\n",
    "# Create the SQLAlchemy Engine\n",
    "co_sa = create_engine(url_co)\n",
    "etl_conn = create_engine(url_etl)"
   ],
   "metadata": {
    "collapsed": false,
    "ExecuteTime": {
     "end_time": "2024-09-17T12:44:55.869350Z",
     "start_time": "2024-09-17T12:44:55.543282Z"
    }
   },
   "id": "8d6efe020ae8098d",
   "outputs": [],
   "execution_count": 8
  },
  {
   "metadata": {
    "ExecuteTime": {
     "end_time": "2024-09-17T12:44:56.007788Z",
     "start_time": "2024-09-17T12:44:55.870677Z"
    }
   },
   "cell_type": "code",
   "source": "dim_fecha.to_sql('dim_fecha', etl_conn, if_exists='replace',index_label='key_dim_fecha')",
   "id": "244fdcbf5945d130",
   "outputs": [
    {
     "data": {
      "text/plain": [
       "462"
      ]
     },
     "execution_count": 9,
     "metadata": {},
     "output_type": "execute_result"
    }
   ],
   "execution_count": 9
  }
 ],
 "metadata": {
  "kernelspec": {
   "display_name": "Python 3",
   "language": "python",
   "name": "python3"
  },
  "language_info": {
   "codemirror_mode": {
    "name": "ipython",
    "version": 2
   },
   "file_extension": ".py",
   "mimetype": "text/x-python",
   "name": "python",
   "nbconvert_exporter": "python",
   "pygments_lexer": "ipython2",
   "version": "2.7.6"
  }
 },
 "nbformat": 4,
 "nbformat_minor": 5
}
