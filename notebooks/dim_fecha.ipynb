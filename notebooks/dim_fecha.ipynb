{
 "cells": [
  {
   "cell_type": "code",
   "execution_count": 5,
   "metadata": {},
   "outputs": [],
   "source": [
    "from datetime import date, datetime\n",
    "import pandas as pd\n",
    "import numpy as np\n",
    "import yaml\n",
    "from sqlalchemy import create_engine, inspect, text"
   ]
  },
  {
   "cell_type": "code",
   "execution_count": 2,
   "metadata": {},
   "outputs": [],
   "source": [
    "# Cargar configuración\n",
    "with open('../config.yml', 'r') as f:\n",
    "    config = yaml.safe_load(f)\n",
    "    config_bodega = config['bodega']\n",
    "\n",
    "# Crear conexión a la bodega\n",
    "url_bodega = f\"postgresql://{config_bodega['user']}:{config_bodega['password']}@{config_bodega['host']}:{config_bodega['port']}/{config_bodega['dbname']}\"\n",
    "bodega_conn = create_engine(url_bodega)"
   ]
  },
  {
   "cell_type": "code",
   "execution_count": 3,
   "metadata": {},
   "outputs": [],
   "source": [
    "# Crear datos para la dimensión fecha\n",
    "fecha_inicio = '2023-01-01'\n",
    "fecha_fin = '2024-12-31'"
   ]
  },
  {
   "cell_type": "code",
   "execution_count": 6,
   "metadata": {},
   "outputs": [],
   "source": [
    "# Generar fechas\n",
    "fechas = pd.date_range(start=fecha_inicio, end=fecha_fin, freq='D')\n",
    "dim_fecha = pd.DataFrame({'fecha': fechas})\n",
    "\n",
    "# Convertir a timestamp sin hora (solo fecha)\n",
    "dim_fecha['fecha'] = dim_fecha['fecha'].dt.strftime('%Y-%m-%d')\n",
    "dim_fecha['fecha'] = pd.to_datetime(dim_fecha['fecha'])"
   ]
  },
  {
   "cell_type": "code",
   "execution_count": 7,
   "metadata": {},
   "outputs": [],
   "source": [
    "# Extraer componentes de la fecha\n",
    "dim_fecha['año'] = dim_fecha['fecha'].dt.year\n",
    "dim_fecha['mes'] = dim_fecha['fecha'].dt.month\n",
    "dim_fecha['dia'] = dim_fecha['fecha'].dt.day\n",
    "dim_fecha['dia_semana'] = dim_fecha['fecha'].dt.dayofweek  # 0 = Lunes, 6 = Domingo"
   ]
  },
  {
   "cell_type": "code",
   "execution_count": 8,
   "metadata": {},
   "outputs": [],
   "source": [
    "# Agregar fecha de carga\n",
    "dim_fecha['saved'] = date.today()"
   ]
  },
  {
   "cell_type": "code",
   "execution_count": 9,
   "metadata": {},
   "outputs": [
    {
     "name": "stdout",
     "output_type": "stream",
     "text": [
      "<class 'pandas.core.frame.DataFrame'>\n",
      "RangeIndex: 731 entries, 0 to 730\n",
      "Data columns (total 6 columns):\n",
      " #   Column      Non-Null Count  Dtype         \n",
      "---  ------      --------------  -----         \n",
      " 0   fecha       731 non-null    datetime64[ns]\n",
      " 1   año         731 non-null    int32         \n",
      " 2   mes         731 non-null    int32         \n",
      " 3   dia         731 non-null    int32         \n",
      " 4   dia_semana  731 non-null    int32         \n",
      " 5   saved       731 non-null    object        \n",
      "dtypes: datetime64[ns](1), int32(4), object(1)\n",
      "memory usage: 23.0+ KB\n"
     ]
    }
   ],
   "source": [
    "# Verificar los datos\n",
    "dim_fecha.info()"
   ]
  },
  {
   "cell_type": "code",
   "execution_count": 10,
   "metadata": {},
   "outputs": [
    {
     "name": "stdout",
     "output_type": "stream",
     "text": [
      "\n",
      "Muestra de los datos:\n",
      "       fecha   año  mes  dia  dia_semana       saved\n",
      "0 2023-01-01  2023    1    1           6  2024-11-07\n",
      "1 2023-01-02  2023    1    2           0  2024-11-07\n",
      "2 2023-01-03  2023    1    3           1  2024-11-07\n",
      "3 2023-01-04  2023    1    4           2  2024-11-07\n",
      "4 2023-01-05  2023    1    5           3  2024-11-07\n"
     ]
    }
   ],
   "source": [
    "print(\"\\nMuestra de los datos:\")\n",
    "print(dim_fecha.head())"
   ]
  },
  {
   "cell_type": "code",
   "execution_count": 11,
   "metadata": {},
   "outputs": [
    {
     "data": {
      "text/plain": [
       "731"
      ]
     },
     "execution_count": 11,
     "metadata": {},
     "output_type": "execute_result"
    }
   ],
   "source": [
    "# Cargar en la bodega\n",
    "dim_fecha.to_sql('dim_fecha', bodega_conn, if_exists='replace', index_label='key_dim_fecha')"
   ]
  }
 ],
 "metadata": {
  "kernelspec": {
   "display_name": "my_env",
   "language": "python",
   "name": "python3"
  },
  "language_info": {
   "codemirror_mode": {
    "name": "ipython",
    "version": 3
   },
   "file_extension": ".py",
   "mimetype": "text/x-python",
   "name": "python",
   "nbconvert_exporter": "python",
   "pygments_lexer": "ipython3",
   "version": "3.10.0"
  }
 },
 "nbformat": 4,
 "nbformat_minor": 2
}
