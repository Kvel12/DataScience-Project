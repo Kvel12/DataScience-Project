{
 "cells": [
  {
   "cell_type": "code",
   "execution_count": 1,
   "id": "initial_id",
   "metadata": {
    "ExecuteTime": {
     "end_time": "2024-09-17T12:50:08.551011Z",
     "start_time": "2024-09-17T12:50:08.544637Z"
    },
    "collapsed": true
   },
   "outputs": [],
   "source": [
    "from datetime import date\n",
    "\n",
    "import pandas as pd\n",
    "import yaml\n",
    "from sqlalchemy import create_engine\n"
   ]
  },
  {
   "cell_type": "markdown",
   "id": "db03f95a7df1a4b6",
   "metadata": {},
   "source": [
    "# database connections "
   ]
  },
  {
   "cell_type": "code",
   "execution_count": 7,
   "id": "144a0300670ffeb2",
   "metadata": {
    "ExecuteTime": {
     "end_time": "2024-09-17T12:50:08.641960Z",
     "start_time": "2024-09-17T12:50:08.579521Z"
    }
   },
   "outputs": [],
   "source": [
    "with open('../config.yml', 'r') as f:\n",
    "    config = yaml.safe_load(f)\n",
    "    config_co = config['CO_SA']\n",
    "    config_etl = config['ETL_PRO']\n",
    "\n",
    "# Construct the database URL\n",
    "url_co = (f\"{config_co['drivername']}://{config_co['user']}:{config_co['password']}@{config_co['host']}:\"\n",
    "          f\"{config_co['port']}/{config_co['dbname']}\")\n",
    "url_etl = (f\"{config_etl['drivername']}://{config_etl['user']}:{config_etl['password']}@{config_etl['host']}:\"\n",
    "           f\"{config_etl['port']}/{config_etl['dbname']}\")\n",
    "# Create the SQLAlchemy Engine\n",
    "co_sa = create_engine(url_co)\n",
    "etl_conn = create_engine(url_etl)\n",
    "    "
   ]
  },
  {
   "cell_type": "markdown",
   "id": "81c0463f41c69b6e",
   "metadata": {},
   "source": [
    "# Extract"
   ]
  },
  {
   "cell_type": "code",
   "execution_count": 8,
   "id": "b6ef98438750beb7",
   "metadata": {
    "ExecuteTime": {
     "end_time": "2024-09-17T12:50:08.825556Z",
     "start_time": "2024-09-17T12:50:08.643846Z"
    }
   },
   "outputs": [
    {
     "name": "stdout",
     "output_type": "stream",
     "text": [
      "<class 'pandas.core.frame.DataFrame'>\n",
      "RangeIndex: 86 entries, 0 to 85\n",
      "Data columns (total 7 columns):\n",
      " #   Column        Non-Null Count  Dtype \n",
      "---  ------        --------------  ----- \n",
      " 0   id_ips        86 non-null     object\n",
      " 1   tipo_ips      86 non-null     object\n",
      " 2   nombre        86 non-null     object\n",
      " 3   direccion     86 non-null     object\n",
      " 4   nivel         86 non-null     object\n",
      " 5   municipio     86 non-null     object\n",
      " 6   departamento  86 non-null     object\n",
      "dtypes: object(7)\n",
      "memory usage: 4.8+ KB\n"
     ]
    }
   ],
   "source": [
    "dim_ips = pd.read_sql_table('ips', co_sa)\n",
    "dim_ips.info()\n"
   ]
  },
  {
   "cell_type": "markdown",
   "id": "bcbf3f52656f1933",
   "metadata": {},
   "source": [
    "# Transformations"
   ]
  },
  {
   "cell_type": "code",
   "execution_count": 9,
   "id": "f0a2eeb4ae2855f7",
   "metadata": {
    "ExecuteTime": {
     "end_time": "2024-09-17T12:50:08.832449Z",
     "start_time": "2024-09-17T12:50:08.827687Z"
    }
   },
   "outputs": [],
   "source": [
    "dim_ips.replace({'':'0'},inplace=True)"
   ]
  },
  {
   "cell_type": "code",
   "execution_count": 10,
   "id": "65dfce5d7f5ef5c0",
   "metadata": {
    "ExecuteTime": {
     "end_time": "2024-09-17T12:50:08.863036Z",
     "start_time": "2024-09-17T12:50:08.835258Z"
    }
   },
   "outputs": [
    {
     "data": {
      "text/html": [
       "<div>\n",
       "<style scoped>\n",
       "    .dataframe tbody tr th:only-of-type {\n",
       "        vertical-align: middle;\n",
       "    }\n",
       "\n",
       "    .dataframe tbody tr th {\n",
       "        vertical-align: top;\n",
       "    }\n",
       "\n",
       "    .dataframe thead th {\n",
       "        text-align: right;\n",
       "    }\n",
       "</style>\n",
       "<table border=\"1\" class=\"dataframe\">\n",
       "  <thead>\n",
       "    <tr style=\"text-align: right;\">\n",
       "      <th></th>\n",
       "      <th>id_ips</th>\n",
       "      <th>tipo_ips</th>\n",
       "      <th>nombre</th>\n",
       "      <th>direccion</th>\n",
       "      <th>nivel</th>\n",
       "      <th>municipio</th>\n",
       "      <th>departamento</th>\n",
       "      <th>saved</th>\n",
       "    </tr>\n",
       "  </thead>\n",
       "  <tbody>\n",
       "    <tr>\n",
       "      <th>count</th>\n",
       "      <td>86</td>\n",
       "      <td>86</td>\n",
       "      <td>86</td>\n",
       "      <td>86</td>\n",
       "      <td>86</td>\n",
       "      <td>86</td>\n",
       "      <td>86</td>\n",
       "      <td>86</td>\n",
       "    </tr>\n",
       "    <tr>\n",
       "      <th>unique</th>\n",
       "      <td>86</td>\n",
       "      <td>6</td>\n",
       "      <td>83</td>\n",
       "      <td>86</td>\n",
       "      <td>6</td>\n",
       "      <td>23</td>\n",
       "      <td>7</td>\n",
       "      <td>1</td>\n",
       "    </tr>\n",
       "    <tr>\n",
       "      <th>top</th>\n",
       "      <td>IPS_1</td>\n",
       "      <td>Hospital</td>\n",
       "      <td>Hospital Isaías Duarte Cancio</td>\n",
       "      <td>Kra 76 # 38-102</td>\n",
       "      <td>0</td>\n",
       "      <td>Cali</td>\n",
       "      <td>Cundinamarca</td>\n",
       "      <td>2024-09-17</td>\n",
       "    </tr>\n",
       "    <tr>\n",
       "      <th>freq</th>\n",
       "      <td>1</td>\n",
       "      <td>27</td>\n",
       "      <td>2</td>\n",
       "      <td>1</td>\n",
       "      <td>59</td>\n",
       "      <td>11</td>\n",
       "      <td>15</td>\n",
       "      <td>86</td>\n",
       "    </tr>\n",
       "  </tbody>\n",
       "</table>\n",
       "</div>"
      ],
      "text/plain": [
       "       id_ips  tipo_ips                         nombre        direccion nivel  \\\n",
       "count      86        86                             86               86    86   \n",
       "unique     86         6                             83               86     6   \n",
       "top     IPS_1  Hospital  Hospital Isaías Duarte Cancio  Kra 76 # 38-102     0   \n",
       "freq        1        27                              2                1    59   \n",
       "\n",
       "       municipio  departamento       saved  \n",
       "count         86            86          86  \n",
       "unique        23             7           1  \n",
       "top         Cali  Cundinamarca  2024-09-17  \n",
       "freq          11            15          86  "
      ]
     },
     "execution_count": 10,
     "metadata": {},
     "output_type": "execute_result"
    }
   ],
   "source": [
    "dim_ips[\"saved\"] = date.today()\n",
    "dim_ips.describe(include='all')"
   ]
  },
  {
   "cell_type": "markdown",
   "id": "a8fea8d82baea651",
   "metadata": {},
   "source": [
    "# load"
   ]
  },
  {
   "cell_type": "code",
   "execution_count": 11,
   "id": "e0fed4f656eaae09",
   "metadata": {
    "ExecuteTime": {
     "end_time": "2024-09-17T12:50:08.911936Z",
     "start_time": "2024-09-17T12:50:08.864562Z"
    }
   },
   "outputs": [
    {
     "data": {
      "text/plain": [
       "86"
      ]
     },
     "execution_count": 11,
     "metadata": {},
     "output_type": "execute_result"
    }
   ],
   "source": [
    "dim_ips.to_sql('dim_ips', etl_conn, if_exists='replace',index_label='key_dim_ips')"
   ]
  },
  {
   "cell_type": "code",
   "execution_count": 11,
   "id": "45de4231d4eaa162",
   "metadata": {
    "ExecuteTime": {
     "end_time": "2024-09-17T12:50:08.917417Z",
     "start_time": "2024-09-17T12:50:08.914630Z"
    }
   },
   "outputs": [],
   "source": []
  }
 ],
 "metadata": {
  "kernelspec": {
   "display_name": "my_env",
   "language": "python",
   "name": "python3"
  },
  "language_info": {
   "codemirror_mode": {
    "name": "ipython",
    "version": 3
   },
   "file_extension": ".py",
   "mimetype": "text/x-python",
   "name": "python",
   "nbconvert_exporter": "python",
   "pygments_lexer": "ipython3",
   "version": "3.10.0"
  }
 },
 "nbformat": 4,
 "nbformat_minor": 5
}
