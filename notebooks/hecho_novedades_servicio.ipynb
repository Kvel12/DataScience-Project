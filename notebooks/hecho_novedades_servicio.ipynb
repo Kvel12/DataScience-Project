{
 "cells": [
  {
   "cell_type": "code",
   "execution_count": 1,
   "metadata": {},
   "outputs": [],
   "source": [
    "from datetime import date\n",
    "import pandas as pd\n",
    "import yaml\n",
    "from sqlalchemy import create_engine"
   ]
  },
  {
   "cell_type": "markdown",
   "metadata": {},
   "source": [
    "# Database connection"
   ]
  },
  {
   "cell_type": "code",
   "execution_count": 2,
   "metadata": {},
   "outputs": [],
   "source": [
    "# Cargar configuración\n",
    "with open('../config.yml', 'r') as f:\n",
    "    config = yaml.safe_load(f)\n",
    "    config_fuente = config['fuente']\n",
    "    config_bodega = config['bodega']"
   ]
  },
  {
   "cell_type": "code",
   "execution_count": 3,
   "metadata": {},
   "outputs": [],
   "source": [
    "# Crear conexiones\n",
    "url_fuente = f\"postgresql://{config_fuente['user']}:{config_fuente['password']}@{config_fuente['host']}:{config_fuente['port']}/{config_fuente['dbname']}\"\n",
    "url_bodega = f\"postgresql://{config_bodega['user']}:{config_bodega['password']}@{config_bodega['host']}:{config_bodega['port']}/{config_bodega['dbname']}\"\n",
    "\n",
    "# Crear los SQLAlchemy Engine\n",
    "fuente_conn = create_engine(url_fuente)\n",
    "bodega_conn = create_engine(url_bodega)"
   ]
  },
  {
   "cell_type": "markdown",
   "metadata": {},
   "source": [
    "# SQL Query"
   ]
  },
  {
   "cell_type": "code",
   "execution_count": 4,
   "metadata": {},
   "outputs": [],
   "source": [
    "# Consulta SQL para obtener los datos de novedades del servicio\n",
    "query = \"\"\"\n",
    "SELECT \n",
    "    n.id AS novedad_id,\n",
    "    n.fecha_novedad AS fecha_hora_novedad,\n",
    "    s.cliente_id,\n",
    "    n.mensajero_id,\n",
    "    n.tipo_novedad_id,\n",
    "    n.descripcion \n",
    "FROM \n",
    "    mensajeria_novedadesservicio n\n",
    "    JOIN mensajeria_servicio s ON n.id = s.cliente_id\n",
    "\"\"\""
   ]
  },
  {
   "cell_type": "markdown",
   "metadata": {},
   "source": [
    "# Extract"
   ]
  },
  {
   "cell_type": "code",
   "execution_count": 6,
   "metadata": {},
   "outputs": [],
   "source": [
    "# Leer datos de la fuente y dimensiones de la bodega\n",
    "df = pd.read_sql(query, fuente_conn)\n",
    "dim_fecha = pd.read_sql_table('dim_fecha', bodega_conn)\n",
    "dim_cliente = pd.read_sql_table('dim_cliente', bodega_conn)\n",
    "dim_novedad = pd.read_sql_table('dim_novedad', bodega_conn)"
   ]
  },
  {
   "cell_type": "markdown",
   "metadata": {},
   "source": [
    "# Transformations"
   ]
  },
  {
   "cell_type": "code",
   "execution_count": 7,
   "metadata": {},
   "outputs": [],
   "source": [
    "# Convertir fecha_novedad a datetime y extraer componentes\n",
    "df['fecha_hora_novedad'] = pd.to_datetime(df['fecha_hora_novedad']).dt.date\n",
    "dim_fecha['fecha'] = pd.to_datetime(dim_fecha['fecha']).dt.date"
   ]
  },
  {
   "cell_type": "code",
   "execution_count": 9,
   "metadata": {},
   "outputs": [],
   "source": [
    "# Realizar los merges con las dimensiones\n",
    "hecho_novedades = df.merge(\n",
    "    dim_fecha[['key_dim_fecha', 'fecha']], \n",
    "    left_on='fecha_hora_novedad', \n",
    "    right_on='fecha',\n",
    "    how='left'\n",
    ")\n",
    "\n",
    "hecho_novedades = hecho_novedades.merge(\n",
    "    dim_cliente[['key_dim_cliente', 'cliente_id']], \n",
    "    on='cliente_id',\n",
    "    how='left'\n",
    ")\n",
    "\n",
    "hecho_novedades = hecho_novedades.merge(\n",
    "    dim_novedad[['key_dim_novedad', 'novedad_id']], \n",
    "    on='novedad_id',\n",
    "    how='left'\n",
    ")\n",
    "\n",
    "# Seleccionar columnas finales\n",
    "columnas_finales = [\n",
    "    'key_dim_fecha',\n",
    "    'key_dim_cliente',\n",
    "    'key_dim_novedad',\n",
    "    'fecha_hora_novedad',\n",
    "    'descripcion'\n",
    "]\n",
    "\n",
    "hecho_novedades = hecho_novedades[columnas_finales]\n"
   ]
  },
  {
   "cell_type": "code",
   "execution_count": 10,
   "metadata": {},
   "outputs": [],
   "source": [
    "# Agregar fecha de carga\n",
    "hecho_novedades['saved'] = date.today()"
   ]
  },
  {
   "cell_type": "markdown",
   "metadata": {},
   "source": [
    "# Verifications"
   ]
  },
  {
   "cell_type": "code",
   "execution_count": 11,
   "metadata": {},
   "outputs": [
    {
     "name": "stdout",
     "output_type": "stream",
     "text": [
      "\n",
      "Información del DataFrame:\n",
      "<class 'pandas.core.frame.DataFrame'>\n",
      "RangeIndex: 28194 entries, 0 to 28193\n",
      "Data columns (total 6 columns):\n",
      " #   Column              Non-Null Count  Dtype \n",
      "---  ------              --------------  ----- \n",
      " 0   key_dim_fecha       28194 non-null  int64 \n",
      " 1   key_dim_cliente     28194 non-null  int64 \n",
      " 2   key_dim_novedad     28194 non-null  int64 \n",
      " 3   fecha_hora_novedad  28194 non-null  object\n",
      " 4   descripcion         28194 non-null  object\n",
      " 5   saved               28194 non-null  object\n",
      "dtypes: int64(3), object(3)\n",
      "memory usage: 1.3+ MB\n",
      "None\n",
      "\n",
      "Muestra de las novedades:\n",
      "   key_dim_fecha  key_dim_cliente  key_dim_novedad fecha_hora_novedad  \\\n",
      "0            333                6                0         2023-11-30   \n",
      "1            333                6                0         2023-11-30   \n",
      "2            333                6                0         2023-11-30   \n",
      "3            333                6                0         2023-11-30   \n",
      "4            333                6                0         2023-11-30   \n",
      "\n",
      "  descripcion       saved  \n",
      "0           A  2024-11-10  \n",
      "1           A  2024-11-10  \n",
      "2           A  2024-11-10  \n",
      "3           A  2024-11-10  \n",
      "4           A  2024-11-10  \n"
     ]
    }
   ],
   "source": [
    "# Verificaciones\n",
    "print(\"\\nInformación del DataFrame:\")\n",
    "print(hecho_novedades.info())\n",
    "print(\"\\nMuestra de las novedades:\")\n",
    "print(hecho_novedades.head())"
   ]
  },
  {
   "cell_type": "markdown",
   "metadata": {},
   "source": [
    "# Load"
   ]
  },
  {
   "cell_type": "code",
   "execution_count": 12,
   "metadata": {},
   "outputs": [
    {
     "data": {
      "text/plain": [
       "194"
      ]
     },
     "execution_count": 12,
     "metadata": {},
     "output_type": "execute_result"
    }
   ],
   "source": [
    "# Cargar en la bodega\n",
    "hecho_novedades.to_sql(\n",
    "    'hecho_novedades_servicio',\n",
    "    bodega_conn, \n",
    "    if_exists='replace', index_label='key_hecho_novedades_servicio'\n",
    "    )\n",
    "   \n"
   ]
  },
  {
   "cell_type": "markdown",
   "metadata": {},
   "source": [
    "# SQL Querys to response requirements"
   ]
  },
  {
   "cell_type": "code",
   "execution_count": 13,
   "metadata": {},
   "outputs": [
    {
     "data": {
      "text/plain": [
       "'\\nSELECT \\n    n.descripcion AS novedad,\\n    COUNT(*) AS cantidad_presentaciones\\nFROM \\n    hecho_novedades_servicio hns\\n    JOIN dim_novedad n ON hns.key_dim_novedad = n.key_dim_novedad \\nGROUP BY \\n    n.descripcion\\nORDER BY \\n    cantidad_presentaciones DESC\\n'"
      ]
     },
     "execution_count": 13,
     "metadata": {},
     "output_type": "execute_result"
    }
   ],
   "source": [
    "#Pregunta 9: ¿Cuáles son las novedades que más se presentan durante la prestación del servicio?\n",
    "\n",
    "'''\n",
    "SELECT \n",
    "    n.descripcion AS novedad,\n",
    "    COUNT(*) AS cantidad_presentaciones\n",
    "FROM \n",
    "    hecho_novedades_servicio hns\n",
    "    JOIN dim_novedad n ON hns.key_dim_novedad = n.key_dim_novedad \n",
    "GROUP BY \n",
    "    n.descripcion\n",
    "ORDER BY \n",
    "    cantidad_presentaciones DESC\n",
    "'''"
   ]
  }
 ],
 "metadata": {
  "kernelspec": {
   "display_name": "my_env",
   "language": "python",
   "name": "python3"
  },
  "language_info": {
   "codemirror_mode": {
    "name": "ipython",
    "version": 3
   },
   "file_extension": ".py",
   "mimetype": "text/x-python",
   "name": "python",
   "nbconvert_exporter": "python",
   "pygments_lexer": "ipython3",
   "version": "3.10.0"
  }
 },
 "nbformat": 4,
 "nbformat_minor": 2
}
