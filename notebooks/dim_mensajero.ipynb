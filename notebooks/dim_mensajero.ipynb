{
 "cells": [
  {
   "cell_type": "code",
   "execution_count": 1,
   "metadata": {},
   "outputs": [],
   "source": [
    "from datetime import date\n",
    "import pandas as pd\n",
    "import yaml\n",
    "from sqlalchemy import create_engine, inspect, text"
   ]
  },
  {
   "cell_type": "markdown",
   "metadata": {},
   "source": [
    "### Database connections"
   ]
  },
  {
   "cell_type": "code",
   "execution_count": null,
   "metadata": {},
   "outputs": [],
   "source": [
    "# Cargar configuración desde el archivo config.yml\n",
    "with open('../config.yml', 'r') as f:\n",
    "    config = yaml.safe_load(f)\n",
    "    config_fuente = config['fuente']\n",
    "    config_bodega = config['bodega']\n",
    "\n",
    "# Crear conexiones a las bases de datos de fuente y bodega\n",
    "url_fuente = f\"postgresql://{config_fuente['user']}:{config_fuente['password']}@{config_fuente['host']}:{config_fuente['port']}/{config_fuente['dbname']}\"\n",
    "url_bodega = f\"postgresql://{config_bodega['user']}:{config_bodega['password']}@{config_bodega['host']}:{config_bodega['port']}/{config_bodega['dbname']}\"\n",
    "\n",
    "# Crear SQLAlchemy engine\n",
    "fuente_conn = create_engine(url_fuente)\n",
    "bodega_conn = create_engine(url_bodega)"
   ]
  },
  {
   "cell_type": "markdown",
   "metadata": {},
   "source": [
    "# Extract"
   ]
  },
  {
   "cell_type": "markdown",
   "metadata": {},
   "source": [
    "### SQL Query"
   ]
  },
  {
   "cell_type": "code",
   "execution_count": null,
   "metadata": {},
   "outputs": [],
   "source": [
    "# Definir consulta SQL para extraer datos de mensajeros y su información\n",
    "query = \"\"\"\n",
    "SELECT \n",
    "    m.id as mensajero_id,\n",
    "    m.fecha_entrada,\n",
    "    m.fecha_salida,\n",
    "    c.nombre as ciudad_operacion,\n",
    "    m.activo\n",
    "FROM clientes_mensajeroaquitoy m\n",
    "LEFT JOIN ciudad c ON m.ciudad_operacion_id = c.ciudad_id\n",
    "\"\"\""
   ]
  },
  {
   "cell_type": "code",
   "execution_count": null,
   "metadata": {},
   "outputs": [],
   "source": [
    "# Leer datos de la fuente en un DataFrame de pandas\n",
    "dim_mensajero = pd.read_sql(query, fuente_conn)"
   ]
  },
  {
   "cell_type": "markdown",
   "metadata": {},
   "source": [
    "# Transformation"
   ]
  },
  {
   "cell_type": "code",
   "execution_count": null,
   "metadata": {},
   "outputs": [],
   "source": [
    "# Reemplazar valores nulos\n",
    "dim_mensajero = dim_mensajero.replace({\n",
    "    None: 'No especificado', \n",
    "    '': 'No especificado',\n",
    "    pd.NaT: None  # Para fechas nulas\n",
    "})"
   ]
  },
  {
   "cell_type": "code",
   "execution_count": 6,
   "metadata": {},
   "outputs": [],
   "source": [
    "# Asegurarse de que las fechas estén en el formato correcto\n",
    "dim_mensajero['fecha_entrada'] = pd.to_datetime(dim_mensajero['fecha_entrada']).dt.date\n",
    "dim_mensajero['fecha_salida'] = pd.to_datetime(dim_mensajero['fecha_salida']).dt.date"
   ]
  },
  {
   "cell_type": "code",
   "execution_count": 7,
   "metadata": {},
   "outputs": [],
   "source": [
    "# Agregar fecha de carga\n",
    "dim_mensajero['saved'] = date.today()"
   ]
  },
  {
   "cell_type": "markdown",
   "metadata": {},
   "source": [
    "### Verifications"
   ]
  },
  {
   "cell_type": "code",
   "execution_count": 8,
   "metadata": {},
   "outputs": [
    {
     "name": "stdout",
     "output_type": "stream",
     "text": [
      "\n",
      "Información del DataFrame:\n",
      "<class 'pandas.core.frame.DataFrame'>\n",
      "RangeIndex: 50 entries, 0 to 49\n",
      "Data columns (total 6 columns):\n",
      " #   Column            Non-Null Count  Dtype         \n",
      "---  ------            --------------  -----         \n",
      " 0   mensajero_id      50 non-null     int64         \n",
      " 1   fecha_entrada     33 non-null     object        \n",
      " 2   fecha_salida      0 non-null      datetime64[ns]\n",
      " 3   ciudad_operacion  45 non-null     object        \n",
      " 4   activo            50 non-null     bool          \n",
      " 5   saved             50 non-null     object        \n",
      "dtypes: bool(1), datetime64[ns](1), int64(1), object(3)\n",
      "memory usage: 2.1+ KB\n",
      "None\n"
     ]
    }
   ],
   "source": [
    "print(\"\\nInformación del DataFrame:\")\n",
    "print(dim_mensajero.info())"
   ]
  },
  {
   "cell_type": "code",
   "execution_count": null,
   "metadata": {},
   "outputs": [
    {
     "name": "stdout",
     "output_type": "stream",
     "text": [
      "\n",
      "Muestra de los datos:\n",
      "   mensajero_id fecha_entrada fecha_salida ciudad_operacion  activo  \\\n",
      "0             1           NaT          NaT      ACOPI YUMBO    True   \n",
      "1            42           NaT          NaT             CALI    True   \n",
      "2            48    2024-07-12          NaT             CALI    True   \n",
      "3            41           NaT          NaT             CALI    True   \n",
      "4            13    2021-11-08          NaT            PASTO    True   \n",
      "\n",
      "        saved  \n",
      "0  2024-11-09  \n",
      "1  2024-11-09  \n",
      "2  2024-11-09  \n",
      "3  2024-11-09  \n",
      "4  2024-11-09  \n"
     ]
    }
   ],
   "source": [
    "print(\"\\nMuestra de los datos:\")\n",
    "print(dim_mensajero.head())"
   ]
  },
  {
   "cell_type": "markdown",
   "metadata": {},
   "source": [
    "# Load"
   ]
  },
  {
   "cell_type": "code",
   "execution_count": 10,
   "metadata": {},
   "outputs": [
    {
     "data": {
      "text/plain": [
       "50"
      ]
     },
     "execution_count": 10,
     "metadata": {},
     "output_type": "execute_result"
    }
   ],
   "source": [
    "# Cargar en la bodega\n",
    "dim_mensajero.to_sql('dim_mensajero', bodega_conn, if_exists='replace', index_label='key_dim_mensajero')"
   ]
  },
  {
   "cell_type": "code",
   "execution_count": 11,
   "metadata": {},
   "outputs": [
    {
     "name": "stdout",
     "output_type": "stream",
     "text": [
      "\n",
      "Número total de mensajeros: 50\n"
     ]
    }
   ],
   "source": [
    "# Verificaciones adicionales\n",
    "print(\"\\nNúmero total de mensajeros:\", len(dim_mensajero))"
   ]
  },
  {
   "cell_type": "code",
   "execution_count": 12,
   "metadata": {},
   "outputs": [
    {
     "name": "stdout",
     "output_type": "stream",
     "text": [
      "\n",
      "Mensajeros activos vs inactivos:\n",
      "activo\n",
      "True     49\n",
      "False     1\n",
      "Name: count, dtype: int64\n"
     ]
    }
   ],
   "source": [
    "print(\"\\nMensajeros activos vs inactivos:\")\n",
    "print(dim_mensajero['activo'].value_counts())"
   ]
  },
  {
   "cell_type": "code",
   "execution_count": 13,
   "metadata": {},
   "outputs": [
    {
     "name": "stdout",
     "output_type": "stream",
     "text": [
      "\n",
      "Verificar valores nulos:\n",
      "mensajero_id         0\n",
      "fecha_entrada       17\n",
      "fecha_salida        50\n",
      "ciudad_operacion     5\n",
      "activo               0\n",
      "saved                0\n",
      "dtype: int64\n"
     ]
    }
   ],
   "source": [
    "# Verificar valores nulos\n",
    "print(\"\\nVerificar valores nulos:\")\n",
    "print(dim_mensajero.isnull().sum())"
   ]
  }
 ],
 "metadata": {
  "kernelspec": {
   "display_name": "base",
   "language": "python",
   "name": "python3"
  },
  "language_info": {
   "codemirror_mode": {
    "name": "ipython",
    "version": 3
   },
   "file_extension": ".py",
   "mimetype": "text/x-python",
   "name": "python",
   "nbconvert_exporter": "python",
   "pygments_lexer": "ipython3",
   "version": "3.12.4"
  }
 },
 "nbformat": 4,
 "nbformat_minor": 2
}
